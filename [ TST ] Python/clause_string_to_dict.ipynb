{
 "cells": [
  {
   "cell_type": "code",
   "execution_count": 1,
   "metadata": {},
   "outputs": [],
   "source": [
    "import re\n",
    "import json"
   ]
  },
  {
   "cell_type": "code",
   "execution_count": 2,
   "metadata": {},
   "outputs": [],
   "source": [
    "def get_real(value):\n",
    "    \n",
    "    value_str = str(value)\n",
    "    \n",
    "    if value_str == \"None\":\n",
    "        return None\n",
    "    \n",
    "    try:\n",
    "        return int(value_str)\n",
    "    except:\n",
    "        pass\n",
    "\n",
    "    try:\n",
    "        return float(value_str)\n",
    "    except:\n",
    "        pass\n",
    "\n",
    "    try:\n",
    "        if value_str.lower() == \"true\":\n",
    "            return True\n",
    "        elif value_str.lower() == \"false\":\n",
    "            return False\n",
    "    except:\n",
    "        pass\n",
    "\n",
    "    if value_str.startswith(\"'\") and value_str.endswith(\"'\"):\n",
    "        return value_str[1:-1]\n",
    "\n",
    "    return value"
   ]
  },
  {
   "cell_type": "code",
   "execution_count": 3,
   "metadata": {},
   "outputs": [],
   "source": [
    "def get_params(raw_params):\n",
    "    # raw_params = [\"1\", \"2.36\", \"x\", \"y\", \"a =1\", \"  b= '2'\", \"c=true  \", \"    d =  'z'        \", \"e=1.589\"]\n",
    "    # return:\n",
    "    # (args, kwargs)\n",
    "    # args = [1,2.36,\"x\",\"y\"]\n",
    "    # kwargs = {\"a\":1, \"b\": '2', \"c\": True, \"d\": 'z', \"e\": 1.589}\n",
    "    assert isinstance(raw_params, (list, tuple)), \"parameter `raw_params` shoule be a list or tuple\"\n",
    "    args, kwargs = [], {}\n",
    "    for raw_param in raw_params:\n",
    "        formated_raw_param = re.sub(r\"\\s*=\\s*\", \"=\", raw_param.strip())\n",
    "        kwarg_matched = re.search(r\"\\s*(.*)\\s*=\\s*(.*)\\s*\", formated_raw_param)\n",
    "        if kwarg_matched:\n",
    "            key, value = kwarg_matched.groups()\n",
    "            # value can be int, float, str, bool\n",
    "            kwargs[key] = get_real(value)\n",
    "        else:\n",
    "            args.append(get_real(raw_param))\n",
    "    return args, kwargs"
   ]
  },
  {
   "cell_type": "code",
   "execution_count": 4,
   "metadata": {},
   "outputs": [],
   "source": [
    "def clause_string_to_dict(clause):\n",
    "    clause = clause.strip()\n",
    "    matched = re.search(r'([\"\\d\\']\\s*\\b(and|AND|img)\\b\\s*)', clause)\n",
    "    if matched:\n",
    "        _clause = re.sub(r'[\"d\\']\\s*(?:\\band\\b)\\s*', '\",', clause).split('\",')\n",
    "#         print(_coditions)\n",
    "        clause_list = [_w + '\"' for _w in _clause[:-1]]\n",
    "        clause_list.append(_clause[-1])\n",
    "        print(clause_list)\n",
    "        return get_params(clause_list)\n",
    "#         return \",\".join(list(map(lambda x: x[0:x.find('=')], formated_clause)))\n",
    "    else:\n",
    "        return {}"
   ]
  },
  {
   "cell_type": "code",
   "execution_count": 5,
   "metadata": {},
   "outputs": [
    {
     "name": "stdout",
     "output_type": "stream",
     "text": [
      "['type=\"Nurses Station\"', 'description=\"meow\"']\n",
      "{\n",
      "    \"description\": \"\\\"meow\\\"\",\n",
      "    \"type\": \"\\\"Nurses Station\\\"\"\n",
      "}\n",
      "['type=\"护士站主机  \"', '`descr an\\'d iption`=\"a,b\"']\n",
      "{\n",
      "    \"type\": \"\\\"\\u62a4\\u58eb\\u7ad9\\u4e3b\\u673a  \\\"\",\n",
      "    \"`descr an'd iption`\": \"\\\"a,b\\\"\"\n",
      "}\n"
     ]
    }
   ],
   "source": [
    "normal_where = 'type=\"Nurses Station\" and description=\"meow\"'\n",
    "crazy_where = ' type=\"护士站主机  \"  and `descr an\\'d iption`=\"a,b\"  '\n",
    "print(json.dumps(clause_string_to_dict(normal_where)[1], indent=4))\n",
    "print(json.dumps(clause_string_to_dict(crazy_where)[1], indent=4))"
   ]
  },
  {
   "cell_type": "code",
   "execution_count": null,
   "metadata": {},
   "outputs": [],
   "source": []
  }
 ],
 "metadata": {
  "kernelspec": {
   "display_name": "Python 3",
   "language": "python",
   "name": "python3"
  },
  "language_info": {
   "codemirror_mode": {
    "name": "ipython",
    "version": 3
   },
   "file_extension": ".py",
   "mimetype": "text/x-python",
   "name": "python",
   "nbconvert_exporter": "python",
   "pygments_lexer": "ipython3",
   "version": "3.5.4rc1"
  }
 },
 "nbformat": 4,
 "nbformat_minor": 2
}
