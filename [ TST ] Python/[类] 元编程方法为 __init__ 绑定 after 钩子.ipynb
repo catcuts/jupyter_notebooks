{
 "cells": [
  {
   "cell_type": "code",
   "execution_count": 1,
   "metadata": {},
   "outputs": [],
   "source": [
    "class M(type):\n",
    "    def __new__(mcl, name, bases, nmspc):\n",
    "        fn = nmspc[\"__init__\"]\n",
    "        after_fn = nmspc.get(\"_after_init\")\n",
    "        def new_fn(*args, **kwargs):\n",
    "            result = fn(*args, **kwargs)\n",
    "            if callable(after_fn):\n",
    "                after_fn(args[0], result)\n",
    "        nmspc[\"__init__\"] = new_fn\n",
    "        return super(M, mcl).__new__(mcl, name, bases, nmspc)"
   ]
  },
  {
   "cell_type": "code",
   "execution_count": 4,
   "metadata": {},
   "outputs": [],
   "source": [
    "class A(metaclass=M):\n",
    "    def __init__(self):\n",
    "        print(\"A: init\")\n",
    "        return \"meow\"\n",
    "        \n",
    "    def _after_init(self, result):\n",
    "        print(\"A: after init: %s\" % result)"
   ]
  },
  {
   "cell_type": "code",
   "execution_count": 5,
   "metadata": {},
   "outputs": [
    {
     "name": "stdout",
     "output_type": "stream",
     "text": [
      "A: init\n",
      "A: after init: meow\n"
     ]
    }
   ],
   "source": [
    "a = A()"
   ]
  },
  {
   "cell_type": "code",
   "execution_count": null,
   "metadata": {},
   "outputs": [],
   "source": []
  }
 ],
 "metadata": {
  "kernelspec": {
   "display_name": "Python 3",
   "language": "python",
   "name": "python3"
  },
  "language_info": {
   "codemirror_mode": {
    "name": "ipython",
    "version": 3
   },
   "file_extension": ".py",
   "mimetype": "text/x-python",
   "name": "python",
   "nbconvert_exporter": "python",
   "pygments_lexer": "ipython3",
   "version": "3.5.4rc1"
  }
 },
 "nbformat": 4,
 "nbformat_minor": 2
}
