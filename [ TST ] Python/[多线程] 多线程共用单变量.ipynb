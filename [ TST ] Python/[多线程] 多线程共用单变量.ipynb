{
 "cells": [
  {
   "cell_type": "code",
   "execution_count": 1,
   "metadata": {},
   "outputs": [],
   "source": [
    "from concurrent.futures import ThreadPoolExecutor as pool\n",
    "import threading\n",
    "import time"
   ]
  },
  {
   "cell_type": "code",
   "execution_count": 2,
   "metadata": {},
   "outputs": [],
   "source": [
    "class Calculator:\n",
    "    def __init__(self, init):\n",
    "        self.value = init\n",
    "        self.running = False\n",
    "    \n",
    "    def add(self, addend):\n",
    "        self.value += addend"
   ]
  },
  {
   "cell_type": "code",
   "execution_count": 5,
   "metadata": {},
   "outputs": [],
   "source": [
    "def adder(c, tag):\n",
    "    while c.running:\n",
    "        print('Current: %s. %s is sleeping ...\\n' % (c.value, tag))\n",
    "        time.sleep(1)\n",
    "        print('%s is awake! Current: %s\\n' % (tag, c.value))\n",
    "        c.add(1)"
   ]
  },
  {
   "cell_type": "code",
   "execution_count": 8,
   "metadata": {
    "scrolled": false
   },
   "outputs": [
    {
     "name": "stdout",
     "output_type": "stream",
     "text": [
      "Current: 1. t1 is sleeping ...\n",
      "Current: 1. t2 is sleeping ...\n",
      "\n",
      "\n",
      "t2 is awake! Current: 1\n",
      "t1 is awake! Current: 1\n",
      "\n",
      "Current: 2. t2 is sleeping ...\n",
      "\n",
      "\n",
      "Current: 3. t1 is sleeping ...\n",
      "\n",
      "result: 3\n",
      "t2 is awake! Current: 3\n",
      "\n",
      "\n",
      "t1 is awake! Current: 4\n",
      "\n"
     ]
    }
   ],
   "source": [
    "c = Calculator(init=1)\n",
    "t1 = threading.Thread(target=adder, args=(c, 't1'))\n",
    "t2 = threading.Thread(target=adder, args=(c, 't2'))\n",
    "\n",
    "c.running = True\n",
    "t1.start()\n",
    "t2.start()\n",
    "time.sleep(2)\n",
    "c.running = False\n",
    "\n",
    "print('result: %s\\n' % c.value)"
   ]
  },
  {
   "cell_type": "code",
   "execution_count": null,
   "metadata": {},
   "outputs": [],
   "source": []
  }
 ],
 "metadata": {
  "kernelspec": {
   "display_name": "Python 3",
   "language": "python",
   "name": "python3"
  },
  "language_info": {
   "codemirror_mode": {
    "name": "ipython",
    "version": 3
   },
   "file_extension": ".py",
   "mimetype": "text/x-python",
   "name": "python",
   "nbconvert_exporter": "python",
   "pygments_lexer": "ipython3",
   "version": "3.5.2"
  }
 },
 "nbformat": 4,
 "nbformat_minor": 2
}
