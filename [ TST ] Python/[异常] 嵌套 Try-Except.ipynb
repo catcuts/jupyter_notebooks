{
 "cells": [
  {
   "cell_type": "code",
   "execution_count": 1,
   "metadata": {},
   "outputs": [
    {
     "name": "stdout",
     "output_type": "stream",
     "text": [
      "first try ...failed\n",
      "second try ...ok\n",
      "finally\n"
     ]
    }
   ],
   "source": [
    "nodes = {\n",
    "    'a':[{'b1':0}, {'b2':0}, {'b3':0}],\n",
    "    'b':[{'c1':1}, {'c2':1}, {'c3':1}],\n",
    "    'c':[{'d1':1}, {'d2':1}, {'d3':1}]\n",
    "}\n",
    "reserve_nodes = {\n",
    "    'e':[{'e1':0}, {'e2':0}, {'e3':0}],\n",
    "    'f':[{'f1':1}, {'f2':1}, {'f3':1}],\n",
    "    'g':[{'g1':1}, {'g2':1}, {'g3':1}]\n",
    "}\n",
    "node = {'e2':0}\n",
    "node_name = 'e'\n",
    "def test():\n",
    "    try:\n",
    "        print(\"first try ...\", end=\"\")\n",
    "        instances = nodes.get(node_name, [])\n",
    "        inst_index = instances.index(node)\n",
    "        print(\"ok\")\n",
    "    except ValueError:\n",
    "        print(\"failed\")\n",
    "        print(\"second try ...\", end=\"\")\n",
    "        try:\n",
    "            instances = reserve_nodes.get(node_name, [])\n",
    "            inst_index = instances.index(node)\n",
    "            print(\"ok\")\n",
    "        except ValueError:\n",
    "            print(\"failed\")\n",
    "            return\n",
    "    #instances.pop(inst_index)\n",
    "    print(\"finally\")\n",
    "test()"
   ]
  },
  {
   "cell_type": "code",
   "execution_count": null,
   "metadata": {},
   "outputs": [],
   "source": []
  }
 ],
 "metadata": {
  "kernelspec": {
   "display_name": "Python 3",
   "language": "python",
   "name": "python3"
  },
  "language_info": {
   "codemirror_mode": {
    "name": "ipython",
    "version": 3
   },
   "file_extension": ".py",
   "mimetype": "text/x-python",
   "name": "python",
   "nbconvert_exporter": "python",
   "pygments_lexer": "ipython3",
   "version": "3.5.2"
  }
 },
 "nbformat": 4,
 "nbformat_minor": 2
}
