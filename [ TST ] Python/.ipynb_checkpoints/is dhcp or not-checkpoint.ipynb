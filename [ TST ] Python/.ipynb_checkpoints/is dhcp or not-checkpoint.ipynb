{
 "cells": [
  {
   "cell_type": "code",
   "execution_count": 1,
   "metadata": {},
   "outputs": [],
   "source": [
    "a=\"\"\"\n",
    "auto lo\n",
    "iface lo inet loopback\n",
    "\n",
    "auto eth0\n",
    "iface eth0 inet dhcp\n",
    "  address 192.168.116.162\n",
    "  netmask 255.255.255.0\n",
    "  gateway 192.168.116.1\n",
    "\n",
    "#allow-hotplug wlan0\n",
    "#iface wlan0 inet manual\n",
    "#wpa-roam /etc/wpa_supplicant/wpa_supplicant.conf\n",
    "#iface default inet dhcp\n",
    "\"\"\""
   ]
  },
  {
   "cell_type": "code",
   "execution_count": 2,
   "metadata": {},
   "outputs": [],
   "source": [
    "import re\n",
    "\n",
    "lines = a.split(\"\\n\")"
   ]
  },
  {
   "cell_type": "code",
   "execution_count": 3,
   "metadata": {},
   "outputs": [
    {
     "data": {
      "text/plain": [
       "['',\n",
       " 'auto lo',\n",
       " 'iface lo inet loopback',\n",
       " '',\n",
       " 'auto eth0',\n",
       " 'iface eth0 inet dhcp',\n",
       " '  address 192.168.116.162',\n",
       " '  netmask 255.255.255.0',\n",
       " '  gateway 192.168.116.1',\n",
       " '',\n",
       " '#allow-hotplug wlan0',\n",
       " '#iface wlan0 inet manual',\n",
       " '#wpa-roam /etc/wpa_supplicant/wpa_supplicant.conf',\n",
       " '#iface default inet dhcp',\n",
       " '']"
      ]
     },
     "execution_count": 3,
     "metadata": {},
     "output_type": "execute_result"
    }
   ],
   "source": [
    "lines"
   ]
  },
  {
   "cell_type": "code",
   "execution_count": 4,
   "metadata": {},
   "outputs": [],
   "source": [
    "def is_dhcp(lines):\n",
    "    for i, line in enumerate(lines):\n",
    "        line = line.strip()\n",
    "        if line.endswith('eth0'):\n",
    "            if i < len(lines):\n",
    "                next_line = lines[i + 1].strip()\n",
    "                if next_line.endswith('dhcp'):\n",
    "                    return True\n",
    "    return False"
   ]
  },
  {
   "cell_type": "code",
   "execution_count": 5,
   "metadata": {},
   "outputs": [
    {
     "data": {
      "text/plain": [
       "True"
      ]
     },
     "execution_count": 5,
     "metadata": {},
     "output_type": "execute_result"
    }
   ],
   "source": [
    "is_dhcp(lines)"
   ]
  },
  {
   "cell_type": "code",
   "execution_count": null,
   "metadata": {},
   "outputs": [],
   "source": []
  }
 ],
 "metadata": {
  "kernelspec": {
   "display_name": "Python 3",
   "language": "python",
   "name": "python3"
  },
  "language_info": {
   "codemirror_mode": {
    "name": "ipython",
    "version": 3
   },
   "file_extension": ".py",
   "mimetype": "text/x-python",
   "name": "python",
   "nbconvert_exporter": "python",
   "pygments_lexer": "ipython3",
   "version": "3.5.4rc1"
  }
 },
 "nbformat": 4,
 "nbformat_minor": 2
}
