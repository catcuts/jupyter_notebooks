{
 "cells": [
  {
   "cell_type": "code",
   "execution_count": 1,
   "metadata": {},
   "outputs": [
    {
     "name": "stdout",
     "output_type": "stream",
     "text": [
      "1\n",
      "2\n",
      "3\n",
      "4\n",
      "5\n",
      "Hey there! I timed out! You can do things after me!\n",
      "6\n",
      "7\n",
      "8\n",
      "9\n"
     ]
    }
   ],
   "source": [
    "from threading import Thread, Event\n",
    "import time\n",
    "\n",
    "# Event object used to send signals from one thread to another\n",
    "stop_event = Event()\n",
    "\n",
    "def do_actions():\n",
    "    \"\"\"\n",
    "    Function that should timeout after 5 seconds. It simply prints a number and waits 1 second.\n",
    "    :return:\n",
    "    \"\"\"\n",
    "    i = 0\n",
    "    while True:\n",
    "        i += 1\n",
    "        print(i)\n",
    "        time.sleep(1)\n",
    " \n",
    "        # Here we make the check if the other thread sent a signal to stop execution.\n",
    "#         if stop_event.is_set():\n",
    "#             break\n",
    "\n",
    "if __name__ == '__main__':\n",
    "    # We create another Thread\n",
    "    action_thread = Thread(target=do_actions)\n",
    " \n",
    "    # Here we start the thread and we wait 5 seconds before the code continues to execute.\n",
    "    action_thread.start()\n",
    "    action_thread.join(timeout=5)\n",
    " \n",
    "    # We send a signal that the other thread should stop.\n",
    "#     stop_event.set()\n",
    " \n",
    "    print(\"Hey there! I timed out! You can do things after me!\")"
   ]
  }
 ],
 "metadata": {
  "kernelspec": {
   "display_name": "Python 3",
   "language": "python",
   "name": "python3"
  },
  "language_info": {
   "codemirror_mode": {
    "name": "ipython",
    "version": 3
   },
   "file_extension": ".py",
   "mimetype": "text/x-python",
   "name": "python",
   "nbconvert_exporter": "python",
   "pygments_lexer": "ipython3",
   "version": "3.5.4rc1"
  }
 },
 "nbformat": 4,
 "nbformat_minor": 2
}
