{
 "cells": [
  {
   "cell_type": "code",
   "execution_count": 1,
   "metadata": {},
   "outputs": [],
   "source": [
    "from contextlib import contextmanager"
   ]
  },
  {
   "cell_type": "code",
   "execution_count": 2,
   "metadata": {},
   "outputs": [],
   "source": [
    "@contextmanager\n",
    "def demo():\n",
    "    print('[Allocate resources]')\n",
    "    print('Code before yield-statement executes in __enter__')\n",
    "    yield '*** contextmanager demo ***'\n",
    "#     yield\n",
    "    print('Code after yield-statement executes in __exit__')\n",
    "    print('[Free resources]')"
   ]
  },
  {
   "cell_type": "code",
   "execution_count": 3,
   "metadata": {},
   "outputs": [
    {
     "name": "stdout",
     "output_type": "stream",
     "text": [
      "[Allocate resources]\n",
      "Code before yield-statement executes in __enter__\n",
      "Assigned Value: *** contextmanager demo ***\n",
      "meow\n",
      "Code after yield-statement executes in __exit__\n",
      "[Free resources]\n"
     ]
    }
   ],
   "source": [
    "with demo() as value:\n",
    "    print('Assigned Value: %s' % value)\n",
    "    print('meow')"
   ]
  },
  {
   "cell_type": "markdown",
   "metadata": {},
   "source": [
    "可以看到，生成器函数中 yield 之前的语句在__enter__()方法中执行，yield 之后的语句在__exit__()中执行，而yield产生的值赋给了as子句中的value变量。\n",
    "\n",
    "需要注意的是，contextmanager 只是省略了 __enter__()/ __exit__()的编写，但并不负责实现资源的“获取”和“清理”工作；\n",
    "\n",
    "“获取”操作需要定义在yield语句之前，“清理”操作需要定义yield语句之后，\n",
    "\n",
    "这样 with 语句在执行__enter__()/__exit__()方法时会执行这些语句以获取/释放资源，即生成器函数中需要实现必要的逻辑控制，包括资源访问出现错误时抛出适当的异常。"
   ]
  },
  {
   "cell_type": "code",
   "execution_count": 4,
   "metadata": {},
   "outputs": [
    {
     "data": {
      "text/plain": [
       "<contextlib._GeneratorContextManager at 0xb3d881cc>"
      ]
     },
     "execution_count": 4,
     "metadata": {},
     "output_type": "execute_result"
    }
   ],
   "source": [
    "demo()"
   ]
  },
  {
   "cell_type": "code",
   "execution_count": null,
   "metadata": {},
   "outputs": [],
   "source": []
  }
 ],
 "metadata": {
  "kernelspec": {
   "display_name": "Python 3",
   "language": "python",
   "name": "python3"
  },
  "language_info": {
   "codemirror_mode": {
    "name": "ipython",
    "version": 3
   },
   "file_extension": ".py",
   "mimetype": "text/x-python",
   "name": "python",
   "nbconvert_exporter": "python",
   "pygments_lexer": "ipython3",
   "version": "3.5.2"
  }
 },
 "nbformat": 4,
 "nbformat_minor": 2
}
