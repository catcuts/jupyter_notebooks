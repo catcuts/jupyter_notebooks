{
 "cells": [
  {
   "cell_type": "code",
   "execution_count": 1,
   "metadata": {},
   "outputs": [],
   "source": [
    "from functools import partial"
   ]
  },
  {
   "cell_type": "code",
   "execution_count": 2,
   "metadata": {},
   "outputs": [],
   "source": [
    "def foo():\n",
    "    qux = 1"
   ]
  },
  {
   "cell_type": "code",
   "execution_count": 7,
   "metadata": {},
   "outputs": [
    {
     "name": "stdout",
     "output_type": "stream",
     "text": [
      "foo in memory: 2960254124\n",
      "foo in memory: 2960254124\n",
      "bar in memory: 2960148476\n",
      "baz in memory: 2960694764\n",
      "bar and baz are in the different memory(memories)\n"
     ]
    }
   ],
   "source": [
    "print(\"foo in memory: %s\" % id(foo))\n",
    "bar = partial(foo)\n",
    "baz = partial(foo)\n",
    "print(\"foo in memory: %s\" % id(foo))\n",
    "print(\"bar in memory: %s\" % id(bar))\n",
    "print(\"baz in memory: %s\" % id(baz))\n",
    "print(\"bar and baz are in the %s memory(memories)\" % (\"same\" if id(bar) == id(baz) else \"different\"))"
   ]
  },
  {
   "cell_type": "code",
   "execution_count": null,
   "metadata": {},
   "outputs": [],
   "source": []
  }
 ],
 "metadata": {
  "kernelspec": {
   "display_name": "Python 3",
   "language": "python",
   "name": "python3"
  },
  "language_info": {
   "codemirror_mode": {
    "name": "ipython",
    "version": 3
   },
   "file_extension": ".py",
   "mimetype": "text/x-python",
   "name": "python",
   "nbconvert_exporter": "python",
   "pygments_lexer": "ipython3",
   "version": "3.5.4rc1"
  }
 },
 "nbformat": 4,
 "nbformat_minor": 2
}
