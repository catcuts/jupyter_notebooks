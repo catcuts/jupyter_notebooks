{
 "cells": [
  {
   "cell_type": "code",
   "execution_count": 14,
   "metadata": {},
   "outputs": [],
   "source": [
    "import inspect\n",
    "from functools import wraps"
   ]
  },
  {
   "cell_type": "code",
   "execution_count": 15,
   "metadata": {},
   "outputs": [],
   "source": [
    "class M(type):\n",
    "\n",
    "    def __new__(mcl, name, bases, nmspc):\n",
    "        print(\"in meta\")\n",
    "        return super(M, mcl).__new__(mcl, name, bases, nmspc)"
   ]
  },
  {
   "cell_type": "code",
   "execution_count": 18,
   "metadata": {},
   "outputs": [],
   "source": [
    "def singleton_on_features(*features):\n",
    "    print(\"start decoration\")\n",
    "    instances = {}  # { <features_dict_frozenset>: <instance> }\n",
    "\n",
    "    def singleton(cls):\n",
    "        print(\"start singleton\")\n",
    "        assert inspect.isclass(cls), 'The Singleton decorator can only be applied to class'\n",
    "\n",
    "        func = cls.__init__\n",
    "\n",
    "        @wraps(func)\n",
    "        def _wrapper_init(self, *args, **kwargs):\n",
    "            if not hasattr(self, \"___init__called\"):\n",
    "                self.___init__called = True\n",
    "                return func(self, *args, **kwargs)\n",
    "#             else:\n",
    "#                 raise Exception(\"Conflict naming: ___init__called\")\n",
    "\n",
    "        def _new(clsobj, *args, **kwargs):\n",
    "            \"\"\"\n",
    "            使用元编程实现单例\n",
    "            \"\"\"\n",
    "            fts = {k: v for k, v in kwargs.items() if k in features}\n",
    "            fts_set = set(fts.items())\n",
    "            fts_frozenset = frozenset(fts.items())\n",
    "\n",
    "            instanced = fts_frozenset in instances\n",
    "            if not instanced or (instanced and len(fts_set - set(kwargs.items())) == len(fts_set)):  # 说明没有任何交集\n",
    "                instances[fts_frozenset] = object.__new__(clsobj)  # 则实例化\n",
    "            return instances[fts_frozenset]  # 否则返回单例\n",
    "\n",
    "        # 拦截__new__方法\n",
    "        setattr(cls, \"__new__\", classmethod(_new))\n",
    "        # 由于在创建cls时，python会调用__new__来创建实例，然后再调用实例的__init__\n",
    "        # 这样通过在__new__使用object__new__能确保每次实例化cls时均返回同一个实例。\n",
    "        # 但是python还是会调用__new__的__init__，这样会导致__init__方法每实例一次就会调用一次\n",
    "        # 这种行为不是我们需要的，因此我们通过run_on_once装饰器做一定的处理，使__init__只调用一次\n",
    "        setattr(cls, \"__init__\", _wrapper_init)\n",
    "        print(\"stop singleton\")\n",
    "        return cls\n",
    "    print(\"stop decoration\")\n",
    "    return singleton"
   ]
  },
  {
   "cell_type": "code",
   "execution_count": 19,
   "metadata": {},
   "outputs": [
    {
     "name": "stdout",
     "output_type": "stream",
     "text": [
      "start decoration\n",
      "stop decoration\n",
      "in meta\n",
      "start singleton\n",
      "stop singleton\n"
     ]
    }
   ],
   "source": [
    "@singleton_on_features(\"sn\")\n",
    "class A(metaclass=M):\n",
    "    def __init__(self, sn):\n",
    "        print(\"A: init\")\n",
    "        self.sn = sn"
   ]
  },
  {
   "cell_type": "markdown",
   "metadata": {},
   "source": [
    "## 结论"
   ]
  },
  {
   "cell_type": "markdown",
   "metadata": {},
   "source": [
    "先装饰，再元类，再类，再实例化"
   ]
  },
  {
   "cell_type": "code",
   "execution_count": null,
   "metadata": {},
   "outputs": [],
   "source": []
  }
 ],
 "metadata": {
  "kernelspec": {
   "display_name": "Python 3",
   "language": "python",
   "name": "python3"
  },
  "language_info": {
   "codemirror_mode": {
    "name": "ipython",
    "version": 3
   },
   "file_extension": ".py",
   "mimetype": "text/x-python",
   "name": "python",
   "nbconvert_exporter": "python",
   "pygments_lexer": "ipython3",
   "version": "3.5.4rc1"
  }
 },
 "nbformat": 4,
 "nbformat_minor": 2
}
