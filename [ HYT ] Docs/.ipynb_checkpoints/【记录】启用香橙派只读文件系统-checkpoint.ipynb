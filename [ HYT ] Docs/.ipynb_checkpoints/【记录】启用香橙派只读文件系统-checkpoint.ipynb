{
 "cells": [
  {
   "cell_type": "markdown",
   "metadata": {},
   "source": [
    "**启用前：**\n",
    "___\n",
    "```shell\n",
    "root@orangepi:~# df -h\n",
    "Filesystem      Size  Used Avail Use% Mounted on\n",
    "rootfs          7.2G  3.7G  3.2G  54% /\n",
    "/dev/root       7.2G  3.7G  3.2G  54% /\n",
    "devtmpfs        374M     0  374M   0% /dev\n",
    "tmpfs           101M  200K  101M   1% /run\n",
    "tmpfs           5.0M     0  5.0M   0% /run/lock\n",
    "tmpfs           201M     0  201M   0% /run/shm\n",
    "/dev/mmcblk0p1   41M  4.9M   37M  12% /boot\n",
    "```\n",
    "___\n",
    "```shell\n",
    "root@orangepi:~# mount\n",
    "/dev/mmcblk0p1  on /boot        type vfat (rw,relatime,fmask=0022,dmask=0022,codepage=cp437,iocharset=ascii,shortname=mixed,errors=continue)\n",
    "/dev/root       on /            type ext4 (rw,noatime,data=ordered)\n",
    "\n",
    "tmpfs           on /run/shm     type tmpfs (rw,nosuid,nodev,noexec,relatime,size=205360k)\n",
    "tmpfs           on /run         type tmpfs (rw,nosuid,noexec,relatime,size=102688k,mode=755)\n",
    "tmpfs           on /run/lock    type tmpfs (rw,nosuid,nodev,noexec,relatime,size=5120k)\n",
    "\n",
    "devtmpfs        on /dev         type devtmpfs (rw,relatime,size=382196k,nr_inodes=95549,mode=755)\n",
    "sysfs           on /sys         type sysfs (rw,nosuid,nodev,noexec,relatime)\n",
    "proc            on /proc        type proc (rw,nosuid,nodev,noexec,relatime)\n",
    "devpts          on /dev/pts     type devpts (rw,nosuid,noexec,relatime,gid=5,mode=620,ptmxmode=000)\n",
    "```"
   ]
  },
  {
   "cell_type": "code",
   "execution_count": null,
   "metadata": {},
   "outputs": [],
   "source": []
  }
 ],
 "metadata": {
  "kernelspec": {
   "display_name": "Python 3",
   "language": "python",
   "name": "python3"
  },
  "language_info": {
   "codemirror_mode": {
    "name": "ipython",
    "version": 3
   },
   "file_extension": ".py",
   "mimetype": "text/x-python",
   "name": "python",
   "nbconvert_exporter": "python",
   "pygments_lexer": "ipython3",
   "version": "3.5.4rc1"
  }
 },
 "nbformat": 4,
 "nbformat_minor": 2
}
