{
 "cells": [
  {
   "cell_type": "markdown",
   "metadata": {},
   "source": [
    "\n",
    "## ON-OFF 键工作协议\n",
    "___\n",
    "### 开机（ON）\n",
    "\n",
    "#### 开机方式\n",
    "\n",
    "　　开机方式为：在已关机的情况下，切断供电后，再上电。\n",
    "\n",
    "　　注：\n",
    "\n",
    "- 已关机信号见：[已关机信号](#已关机信号)。\n",
    "  \n",
    "- 本开发板在系统停止运行的情况下 GPIO 引脚没有除了提供电平以外的功能。\n",
    "\n",
    "#### 已开机信号\n",
    "\n",
    "　　已开机信号为：GPIO 第 26 引脚为持续高电平（5 秒以上）。\n",
    "___\n",
    "### 关机（OFF）\n",
    "\n",
    "#### 关机方式\n",
    "\n",
    "　　关机方式为：在已开机的情况下，转发 ON-OFF 按键信号给开发板。\n",
    "\n",
    "#### 已关机信号\n",
    "\n",
    "　　已关机信号为：GPIO 第 26 引脚为持续低电平（5 秒以上）。\n",
    "  "
   ]
  },
  {
   "cell_type": "code",
   "execution_count": null,
   "metadata": {},
   "outputs": [],
   "source": []
  }
 ],
 "metadata": {
  "kernelspec": {
   "display_name": "Python 3",
   "language": "python",
   "name": "python3"
  },
  "language_info": {
   "codemirror_mode": {
    "name": "ipython",
    "version": 3
   },
   "file_extension": ".py",
   "mimetype": "text/x-python",
   "name": "python",
   "nbconvert_exporter": "python",
   "pygments_lexer": "ipython3",
   "version": "3.5.4rc1"
  }
 },
 "nbformat": 4,
 "nbformat_minor": 2
}
