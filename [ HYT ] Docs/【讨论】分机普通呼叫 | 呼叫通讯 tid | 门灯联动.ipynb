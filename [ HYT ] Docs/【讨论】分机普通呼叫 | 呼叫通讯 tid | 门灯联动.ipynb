{
 "cells": [
  {
   "cell_type": "markdown",
   "metadata": {},
   "source": [
    "___\n",
    "【问题概述】：呼叫事务中，如何确保处在同一呼叫事务中的设备拥有同一个 `tid` ？\n",
    "\n",
    "【详细描述】：一般 `tid` 都是由事务发起方生成的，在呼叫事务中，即主叫方。那如何确保被叫方触发各种该事务范围内的事件或告警时，所携带的 `tid` 能与呼叫方发起的该事务的 `tid` 一致呢？\n",
    "\n",
    "【一致意见】：SIP 客户端在发起呼叫的同时，会产生一个 `id`，可以这个 `id` 为输入，采用协议规定的算法，生成一个 `tid`。这样的话，被叫方也可以通过同一个呼叫的 `id` 生成同样的 `tid`。\n",
    "\n",
    "【前提假设】：能够获取到这个 `id`。\n",
    "\n",
    "___\n",
    "【问题概述】：门灯可能接在门口机，也可能接在分机。如果接在任意一台分机，当病房内有分机呼叫时，如何让这台分机去点亮门口灯？\n",
    "\n",
    "【详细描述】：-\n",
    "\n",
    "【一致意见】：分机具备点亮门口灯的能力/动作，当任意一台分机收到该动作的 mqtt 消息时，就去点亮门口灯，不论该分机是否接了门灯，因为没接门灯就是不会亮，接了门灯就会亮。\n",
    "\n",
    "【前提假设】：-\n",
    "\n",
    "___\n"
   ]
  },
  {
   "cell_type": "code",
   "execution_count": null,
   "metadata": {},
   "outputs": [],
   "source": []
  }
 ],
 "metadata": {
  "kernelspec": {
   "display_name": "Python 3",
   "language": "python",
   "name": "python3"
  },
  "language_info": {
   "codemirror_mode": {
    "name": "ipython",
    "version": 3
   },
   "file_extension": ".py",
   "mimetype": "text/x-python",
   "name": "python",
   "nbconvert_exporter": "python",
   "pygments_lexer": "ipython3",
   "version": "3.5.4rc1"
  }
 },
 "nbformat": 4,
 "nbformat_minor": 2
}
