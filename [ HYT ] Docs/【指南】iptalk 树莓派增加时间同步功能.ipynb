{
 "cells": [
  {
   "cell_type": "markdown",
   "metadata": {},
   "source": [
    "\n",
    "对于已经部署完毕的树莓派，运行补丁：（也可以重新部署）\n",
    "\n",
    "```shell\n",
    "bash make_ro_system_sp_PATCH_for_rtc.sh\n",
    "```\n",
    "\n",
    "对于尚未部署的树莓派，直接部署：\n",
    "\n",
    "```shell\n",
    "bash make_ro_system_sp.sh windows\n",
    "```\n"
   ]
  },
  {
   "cell_type": "code",
   "execution_count": null,
   "metadata": {},
   "outputs": [],
   "source": []
  }
 ],
 "metadata": {
  "kernelspec": {
   "display_name": "Python 3",
   "language": "python",
   "name": "python3"
  },
  "language_info": {
   "codemirror_mode": {
    "name": "ipython",
    "version": 3
   },
   "file_extension": ".py",
   "mimetype": "text/x-python",
   "name": "python",
   "nbconvert_exporter": "python",
   "pygments_lexer": "ipython3",
   "version": "3.6.5"
  }
 },
 "nbformat": 4,
 "nbformat_minor": 2
}
