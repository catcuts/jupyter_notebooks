{
 "cells": [
  {
   "cell_type": "markdown",
   "metadata": {},
   "source": [
    "\n",
    "___\n",
    "## <span style='color: #dd4b39;'>在TBS-8000-1T（树莓派+1T硬盘）上部署 IPTALK WEB 端</span>\n",
    "\n",
    "1. 准备一张 `SD` 卡（`8G`）；\n",
    "<br><br>\n",
    "2. 到 [这里](http://192.168.38.165:8080/index.php/f/68220) 下载 系统镜像；\n",
    "<br><br>\n",
    "3. 到 [这里](http://192.168.38.165:8080/index.php/f/69093) 下载 自动部署程序，并直接解压；\n",
    "<br><br>\n",
    "4. 把 系统镜像 写入到 `SD` 卡内；\n",
    ">\n",
    ">    1) `SD` 卡插入 `PC`, 识别后, 打开 `SDformatter`;\n",
    ">    \n",
    ">    2) 使用 `SDformatter` 格式化该 `SD` 卡, <span style='color: #dd4b39;'>完毕后安全弹出 SD 卡重新插入</span>;\n",
    ">    \n",
    ">    ![](图1_格式化SD卡)\n",
    ">    \n",
    ">    3) 打开 `Win32DiskImager`, 显示为 `SD` 卡所在盘符后, 选择 系统镜像 后, 点击 `write` 并等待写入完毕;\n",
    ">    \n",
    ">    ![](图2_写入树莓派镜像)\n",
    "\n",
    "5. 把 `SD` 卡放入 `TBS-8000-1T` 上；\n",
    "<br><br>\n",
    "6. 上电开机；\n",
    "<br><br>\n",
    "7. 打开 `putty`，进入 `TBS-8000-1T`，执行 `mount -o remount,rw /`；\n",
    "<br><br>\n",
    "8. 打开 `filezilla`，进入 `TBS-8000-1T` 的 `/home/pi` 目录；\n",
    "<br><br>\n",
    "9. 把 自动部署程序 上传到 `/home/pi` 目录下；\n",
    "<br><br>\n",
    "10. 打开 `putty`，进入 `TBS-8000-1T`，切换到目录 `/home/pi/make_ro_system_for_rpi3_jessie`，也就是执行：  \n",
    "`cd /home/pi/make_ro_system_for_rpi3_jessie`；\n",
    "<br><br>\n",
    "11. 运行 自动部署程序，也就是执行：`bash make_ro_system_sp.sh windows`；\n",
    "<br><br>\n",
    "12. 一路 `yes` 或 `y` 即可（具体过程可参照 [视频](http://192.168.38.165:8080/index.php/f/69094) ）；  \n",
    "**注意：**  \n",
    "　　其中有一个地方提示说 `[ 按 CTRL + \\ 退出 ]` ，在这里的时候，要测试一下 web 端可否访问；  \n",
    "　　测试完后，要按 `y` 再按回车。（这是因为我的提示没有更新的缘故）  \n",
    "<br>\n",
    "13. 关机前，打开 `putty` ，进入 `TBS-8000-1T`，执行 `mount -o remount,ro /` 然后再断电关机或重启。\n",
    "\n",
    "___\n",
    "## <span style='color: #dd4b39;'>命令注</span>\n",
    "- `cd /home/pi/make_ro_system_for_rpi3_jessie`  \n",
    "　　`cd` 就是 切换目录，后面跟 `目录的路径`。\n",
    "<br><br>\n",
    "- `bash make_ro_system_sp.sh windows`  \n",
    "　　`bash` 就是 执行程序，后面跟 `程序文件的路径`。\n",
    "<br><br>\n",
    "- `mount -o remount,rw /`   \n",
    "　　就是 挂载（`mount`）根目录（`/`），选项（`-o`）是 重新挂载（`remount`）为 读写（`rw`）；因为 `TBS-8000-1T` 默认设置为 只读系统（抗断电）；只读系统只可读、不可写；要传输文件到 `/home/pi`（处在 `/` 下），则应把系统 **暂时** 设置为 可写。\n",
    "<br><br>\n",
    "- `mount -o remount,ro /`   \n",
    "　　同理，把根目录重新挂载回只读，方可断电关机或重启。\n",
    "\n",
    "___\n",
    "## <span style='color: #dd4b39;'>备注</span>\n",
    "- 不用再扩容了，因为镜像里已经扩容了，所以镜像写入后也扩容了。"
   ]
  },
  {
   "cell_type": "code",
   "execution_count": null,
   "metadata": {},
   "outputs": [],
   "source": []
  }
 ],
 "metadata": {
  "kernelspec": {
   "display_name": "Python 3",
   "language": "python",
   "name": "python3"
  },
  "language_info": {
   "codemirror_mode": {
    "name": "ipython",
    "version": 3
   },
   "file_extension": ".py",
   "mimetype": "text/x-python",
   "name": "python",
   "nbconvert_exporter": "python",
   "pygments_lexer": "ipython3",
   "version": "3.5.4rc1"
  }
 },
 "nbformat": 4,
 "nbformat_minor": 2
}
