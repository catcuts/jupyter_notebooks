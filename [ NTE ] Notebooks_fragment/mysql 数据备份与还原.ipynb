{
 "cells": [
  {
   "cell_type": "markdown",
   "metadata": {},
   "source": [
    "\n",
    "　　导出：\n",
    "  \n",
    "```shell\n",
    "mysqldump -u用户名 -p密码 数据库名 > 数据库名.sql\n",
    "#（注意：-d 参数只导出表结构）\n",
    "```\n",
    "\n",
    "　　导入：\n",
    "\n",
    "```shell\n",
    "mysql -u用户名 -p密码 数据库名 < 数据库名.sql\n",
    "```"
   ]
  },
  {
   "cell_type": "code",
   "execution_count": null,
   "metadata": {},
   "outputs": [],
   "source": []
  }
 ],
 "metadata": {
  "kernelspec": {
   "display_name": "Python 3",
   "language": "python",
   "name": "python3"
  },
  "language_info": {
   "codemirror_mode": {
    "name": "ipython",
    "version": 3
   },
   "file_extension": ".py",
   "mimetype": "text/x-python",
   "name": "python",
   "nbconvert_exporter": "python",
   "pygments_lexer": "ipython3",
   "version": "3.6.5"
  }
 },
 "nbformat": 4,
 "nbformat_minor": 2
}
