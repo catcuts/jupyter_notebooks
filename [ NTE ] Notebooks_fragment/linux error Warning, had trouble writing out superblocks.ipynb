{
 "cells": [
  {
   "cell_type": "markdown",
   "metadata": {},
   "source": [
    "\n",
    "> 参考\n",
    "> 1. [google-search](https://www.google.com/search?q=Warning%2C+had+trouble+writing+out+superblocks.&oq=Warning%2C+had+trouble+writing+out+superblocks.&aqs=chrome..69i57.1117j0j4&sourceid=chrome&ie=UTF-8)\n",
    ">\n",
    "> 2. [Superblock介绍和故障恢复](https://wenku.baidu.com/view/de280c6a7e21af45b307a874.html)\n",
    ">\n",
    "> 3. [如何檢查硬碟是否有壞軌? ](http://www.ubuntu-tw.org/modules/newbb/viewtopic.php?viewmode=flat&order=DESC&topic_id=8535)\n",
    ">\n",
    "> 4. [Cannot create new partition (have trouble writing out superblocks)](https://ubuntuforums.org/showthread.php?t=2157295)\n",
    ">"
   ]
  },
  {
   "cell_type": "code",
   "execution_count": null,
   "metadata": {},
   "outputs": [],
   "source": []
  }
 ],
 "metadata": {
  "kernelspec": {
   "display_name": "Python 3",
   "language": "python",
   "name": "python3"
  },
  "language_info": {
   "codemirror_mode": {
    "name": "ipython",
    "version": 3
   },
   "file_extension": ".py",
   "mimetype": "text/x-python",
   "name": "python",
   "nbconvert_exporter": "python",
   "pygments_lexer": "ipython3",
   "version": "3.5.4rc1"
  }
 },
 "nbformat": 4,
 "nbformat_minor": 2
}
