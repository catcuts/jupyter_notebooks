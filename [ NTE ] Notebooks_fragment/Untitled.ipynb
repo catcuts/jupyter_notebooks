{
 "cells": [
  {
   "cell_type": "code",
   "execution_count": 5,
   "metadata": {},
   "outputs": [],
   "source": [
    "a=b'{\\n    \"type\"     : 5,\\n    \"sid\"      : 0,\\n    \"sync\"     : false,\\n    \"from\"     : \"10000011\",\\n    \"to\"       : \"\",\\n    \"timestamp\": 1539136080678,\\n    \"receipt\"  : false,\\n    \"flags\"    : \"\",\\n    \"token\"    : \"\",\\n    \"tid\"      : 123,\\n    \"payload\"  : {\\n        \"code\"    : 8001,  \\n        \"port\"    : 1,\\n        \"value\"   : 1,\\n        \"level\"   : 5,\\n        \"location\": {\\n            \"label\": \"\\xb7\\xc0\\xcb\\xae\\xb7\\xd6\\xbb\\xfa\\xc4\\xa3\\xc4\\xe2\\xb1\\xa8\\xbe\\xaf\\xa3\\xa8\\xc0\\xb4\\xd7\\xd4mqttfx\\xa3\\xa9\",\\n            \"x\" : 0,\\n            \"y\" : 0,\\n            \"z\" : 0\\n        }\\n    }\\n}'"
   ]
  },
  {
   "cell_type": "code",
   "execution_count": 6,
   "metadata": {},
   "outputs": [
    {
     "data": {
      "text/plain": [
       "b'{\\n    \"type\"     : 5,\\n    \"sid\"      : 0,\\n    \"sync\"     : false,\\n    \"from\"     : \"10000011\",\\n    \"to\"       : \"\",\\n    \"timestamp\": 1539136080678,\\n    \"receipt\"  : false,\\n    \"flags\"    : \"\",\\n    \"token\"    : \"\",\\n    \"tid\"      : 123,\\n    \"payload\"  : {\\n        \"code\"    : 8001,  \\n        \"port\"    : 1,\\n        \"value\"   : 1,\\n        \"level\"   : 5,\\n        \"location\": {\\n            \"label\": \"\\xb7\\xc0\\xcb\\xae\\xb7\\xd6\\xbb\\xfa\\xc4\\xa3\\xc4\\xe2\\xb1\\xa8\\xbe\\xaf\\xa3\\xa8\\xc0\\xb4\\xd7\\xd4mqttfx\\xa3\\xa9\",\\n            \"x\" : 0,\\n            \"y\" : 0,\\n            \"z\" : 0\\n        }\\n    }\\n}'"
      ]
     },
     "execution_count": 6,
     "metadata": {},
     "output_type": "execute_result"
    }
   ],
   "source": [
    "a"
   ]
  },
  {
   "cell_type": "code",
   "execution_count": 7,
   "metadata": {},
   "outputs": [
    {
     "ename": "UnicodeDecodeError",
     "evalue": "'utf-8' codec can't decode byte 0xb7 in position 396: invalid start byte",
     "output_type": "error",
     "traceback": [
      "\u001b[0;31m---------------------------------------------------------------------------\u001b[0m",
      "\u001b[0;31mUnicodeDecodeError\u001b[0m                        Traceback (most recent call last)",
      "\u001b[0;32m<ipython-input-7-4d564cbc5fe7>\u001b[0m in \u001b[0;36m<module>\u001b[0;34m()\u001b[0m\n\u001b[0;32m----> 1\u001b[0;31m \u001b[0ma\u001b[0m\u001b[0;34m.\u001b[0m\u001b[0mdecode\u001b[0m\u001b[0;34m(\u001b[0m\u001b[0;34m)\u001b[0m\u001b[0;34m\u001b[0m\u001b[0m\n\u001b[0m",
      "\u001b[0;31mUnicodeDecodeError\u001b[0m: 'utf-8' codec can't decode byte 0xb7 in position 396: invalid start byte"
     ]
    }
   ],
   "source": [
    "a.decode()"
   ]
  },
  {
   "cell_type": "code",
   "execution_count": 8,
   "metadata": {},
   "outputs": [
    {
     "data": {
      "text/plain": [
       "'{\\n    \"type\"     : 5,\\n    \"sid\"      : 0,\\n    \"sync\"     : false,\\n    \"from\"     : \"10000011\",\\n    \"to\"       : \"\",\\n    \"timestamp\": 1539136080678,\\n    \"receipt\"  : false,\\n    \"flags\"    : \"\",\\n    \"token\"    : \"\",\\n    \"tid\"      : 123,\\n    \"payload\"  : {\\n        \"code\"    : 8001,  \\n        \"port\"    : 1,\\n        \"value\"   : 1,\\n        \"level\"   : 5,\\n        \"location\": {\\n            \"label\": \"防水分机模拟报警（来自mqttfx）\",\\n            \"x\" : 0,\\n            \"y\" : 0,\\n            \"z\" : 0\\n        }\\n    }\\n}'"
      ]
     },
     "execution_count": 8,
     "metadata": {},
     "output_type": "execute_result"
    }
   ],
   "source": [
    "a.decode('gb2312')"
   ]
  },
  {
   "cell_type": "code",
   "execution_count": null,
   "metadata": {},
   "outputs": [],
   "source": []
  }
 ],
 "metadata": {
  "kernelspec": {
   "display_name": "Python 3",
   "language": "python",
   "name": "python3"
  },
  "language_info": {
   "codemirror_mode": {
    "name": "ipython",
    "version": 3
   },
   "file_extension": ".py",
   "mimetype": "text/x-python",
   "name": "python",
   "nbconvert_exporter": "python",
   "pygments_lexer": "ipython3",
   "version": "3.5.4rc1"
  }
 },
 "nbformat": 4,
 "nbformat_minor": 2
}
