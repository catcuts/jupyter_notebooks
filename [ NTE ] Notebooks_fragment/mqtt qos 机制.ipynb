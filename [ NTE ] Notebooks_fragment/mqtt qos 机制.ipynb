{
 "cells": [
  {
   "cell_type": "markdown",
   "metadata": {},
   "source": [
    "\n",
    "参考：\n",
    "\n",
    "> - [Understanding MQTT QOS Levels- Part 1](http://www.steves-internet-guide.com/understanding-mqtt-qos-levels-part-1/)\n",
    "> - [Understanding MQTT QOS Levels- Part 2](http://www.steves-internet-guide.com/understanding-mqtt-qos-2/)\n",
    "\n",
    "总结：\n",
    "\n",
    "对于发送端（可以是 client，也可以是broker）而言：\n",
    "\n",
    "`qos=0` 意味着 发送端 把消息发出去后就不管了\n",
    "\n",
    "`qos=1` 意味着 发送端 把消息发出去后会确保它被收到，否则会一直重发\n",
    "（而 broker 收到后，会回复给发送端 `puback` 确认，但是 `qos=1` 时，broker 也不管对方会不会收到这条 `puback`，直接就将信息转发给订阅了该主题的客户端，所以客户端可能会收到 n 条重复消息）\n",
    "\n",
    "`qos=2` 就是为了防止客户端收到重复消息的，broker 只有在确认自己的确认（`pubrec`）被收到后（`pubrel`），才会分发消息到订阅的客户端\n"
   ]
  },
  {
   "cell_type": "markdown",
   "metadata": {},
   "source": [
    "\n",
    "![](images/Understanding%20MQTT%20QOS%20Levels-%20Part%201.png)\n"
   ]
  },
  {
   "cell_type": "markdown",
   "metadata": {},
   "source": [
    "\n",
    "![](images/Understanding%20MQTT%20QOS%20Levels-%20Part%202.png)\n"
   ]
  },
  {
   "cell_type": "code",
   "execution_count": null,
   "metadata": {},
   "outputs": [],
   "source": []
  }
 ],
 "metadata": {
  "kernelspec": {
   "display_name": "Python 3",
   "language": "python",
   "name": "python3"
  },
  "language_info": {
   "codemirror_mode": {
    "name": "ipython",
    "version": 3
   },
   "file_extension": ".py",
   "mimetype": "text/x-python",
   "name": "python",
   "nbconvert_exporter": "python",
   "pygments_lexer": "ipython3",
   "version": "3.5.4rc1"
  }
 },
 "nbformat": 4,
 "nbformat_minor": 2
}
