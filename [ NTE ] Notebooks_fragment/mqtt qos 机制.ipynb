{
 "cells": [
  {
   "cell_type": "markdown",
   "metadata": {},
   "source": [
    "\n",
    "参考：\n",
    "\n",
    "> - [Understanding MQTT QOS Levels- Part 1](http://www.steves-internet-guide.com/understanding-mqtt-qos-levels-part-1/)\n",
    "> - [Understanding MQTT QOS Levels- Part 2](http://www.steves-internet-guide.com/understanding-mqtt-qos-2/)\n",
    "\n",
    "总结：\n",
    "\n",
    "对于发送端（可以是 client，也可以是broker）而言：\n",
    "\n",
    "`qos=0` 意味着 发送端 把消息发出去后就不管了\n",
    "\n",
    "`qos=1` 意味着 发送端 把消息发出去后会确保它被收到，否则会一直重发\n",
    "（如果接收端是 broker， broker 收到后，会回复给发送端 `puback` 确认，但是 `qos=1` 时，broker 也不管对方会不会收到这条 `puback`，直接就将信息转发给订阅了该主题的客户端，所以客户端可能会收到 n 条重复消息；如果接收端是 另一个客户端，则没有接收端是 broker 的这些考虑）\n",
    "\n",
    ">...\n",
    ">正如前面所说，在发布者和订阅者之间有两个传输过程，它们的QoS可能会不一样。  \n",
    ">这意味着QoS级别在发布者和订阅者两端可能不同。发送端到broker的QoS级别由发送端定义，broker到接收端的QoS由接收端定义。  \n",
    ">假如一个客户端B以QoS 1级别订阅一个消息，客户端A以QoS 2级别订阅同一个消息，那么客户端B就会以QoS 1的级别收到消息。  \n",
    ">当然了，消息可能会被发送到客户端B多次，因为QoS 1的级别只能保证消息到达至少一次。  \n",
    "\n",
    "`qos=2` 就是为了防止客户端收到重复消息的，broker 只有在确认自己的确认（`pubrec`）被收到后（`pubrel`），才会分发消息到订阅的客户端\n"
   ]
  },
  {
   "cell_type": "markdown",
   "metadata": {},
   "source": [
    "\n",
    "![](images/Understanding%20MQTT%20QOS%20Levels-%20Part%201.png)\n"
   ]
  },
  {
   "cell_type": "markdown",
   "metadata": {},
   "source": [
    "\n",
    "![](images/Understanding%20MQTT%20QOS%20Levels-%20Part%202.png)\n"
   ]
  },
  {
   "cell_type": "code",
   "execution_count": null,
   "metadata": {},
   "outputs": [],
   "source": []
  }
 ],
 "metadata": {
  "kernelspec": {
   "display_name": "Python 3",
   "language": "python",
   "name": "python3"
  },
  "language_info": {
   "codemirror_mode": {
    "name": "ipython",
    "version": 3
   },
   "file_extension": ".py",
   "mimetype": "text/x-python",
   "name": "python",
   "nbconvert_exporter": "python",
   "pygments_lexer": "ipython3",
   "version": "3.6.5"
  }
 },
 "nbformat": 4,
 "nbformat_minor": 2
}
