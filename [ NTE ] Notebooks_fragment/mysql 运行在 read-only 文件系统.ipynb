{
 "cells": [
  {
   "cell_type": "markdown",
   "metadata": {},
   "source": [
    "\n",
    "　　1. 停止 mysql 服务：`sudo /etc/init.d/mysql stop`\n",
    "\n",
    "　　2. [设置 mysql 数据目录为其他目录（如外接硬盘下的目录）](./mysql 数据目录设置为其他目录（如外接硬盘下的目录）.ipynb)\n",
    "    \n",
    "　　3. 然后：（否则出现错误如：`/usr/sbin/mysqld: Can't create/write to file '/tmp/ibXbs5w9' (Errcode: 13)`——[参考](https://www.cyberciti.biz/faq/mysqld-innodb-error-unable-to-create-temporary-file/)）\n",
    "\n",
    "```shell\n",
    "chmod 1777 /tmp\n",
    "```\n",
    "\n",
    "　　4. 启动 mysql 服务：\n",
    "  \n",
    "```shell\n",
    "mount -o remount,rw /\n",
    "\n",
    "sudo /etc/init.d/mysql restart\n",
    "\n",
    "mount -o remount,ro /\n",
    "```\n"
   ]
  },
  {
   "cell_type": "code",
   "execution_count": null,
   "metadata": {},
   "outputs": [],
   "source": []
  }
 ],
 "metadata": {
  "kernelspec": {
   "display_name": "Python 3",
   "language": "python",
   "name": "python3"
  },
  "language_info": {
   "codemirror_mode": {
    "name": "ipython",
    "version": 3
   },
   "file_extension": ".py",
   "mimetype": "text/x-python",
   "name": "python",
   "nbconvert_exporter": "python",
   "pygments_lexer": "ipython3",
   "version": "3.5.4rc1"
  }
 },
 "nbformat": 4,
 "nbformat_minor": 2
}
