{
 "cells": [
  {
   "cell_type": "markdown",
   "metadata": {},
   "source": [
    "\n",
    "\n",
    "　　**备份**（前提：系统盘（或小型系统的 SD 卡）挂载到其他 linux 系统，设备为：`/dev/sdx`）\n",
    "\n",
    "```shell\n",
    "sudo dd if=/dev/sdx | gzip>/path/to/bkupfile.gz\n",
    "```\n",
    "\n",
    "　　**还原**（前提：空卡格式化后，挂载到存储着备份的 linux 系统，设备为：`/dev/sdy`）\n",
    "\n",
    "```shell\n",
    "sudo gzip -dc /path/to/bkupfile.gz | sudo dd of=/dev/sdy\n",
    "```"
   ]
  },
  {
   "cell_type": "code",
   "execution_count": null,
   "metadata": {},
   "outputs": [],
   "source": []
  }
 ],
 "metadata": {
  "kernelspec": {
   "display_name": "Python 3",
   "language": "python",
   "name": "python3"
  },
  "language_info": {
   "codemirror_mode": {
    "name": "ipython",
    "version": 3
   },
   "file_extension": ".py",
   "mimetype": "text/x-python",
   "name": "python",
   "nbconvert_exporter": "python",
   "pygments_lexer": "ipython3",
   "version": "3.6.5"
  }
 },
 "nbformat": 4,
 "nbformat_minor": 2
}
