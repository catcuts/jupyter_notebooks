{
 "cells": [
  {
   "cell_type": "markdown",
   "metadata": {},
   "source": [
    "\n",
    "配置：\n",
    "```shell\n",
    "wget http://dl.fedoraproject.org/pub/epel/epel-release-latest-7.noarch.rpm\n",
    "rpm -ivh epel-release-7.noarch.rpm I\n",
    "```\n",
    "\n",
    "检查：\n",
    "```shell\n",
    "yum repolist\n",
    "```\n",
    "\n",
    "使用：\n",
    "```shell\n",
    "yum --enablerepo=epel install xxx\n",
    "```\n",
    "\n",
    "参考：  \n",
    "[Centos7.x RHEL 配置EPEL第三方YUM源](https://blog.csdn.net/u011435712/article/details/48751275)"
   ]
  },
  {
   "cell_type": "code",
   "execution_count": null,
   "metadata": {},
   "outputs": [],
   "source": []
  }
 ],
 "metadata": {
  "kernelspec": {
   "display_name": "Python 3",
   "language": "python",
   "name": "python3"
  },
  "language_info": {
   "codemirror_mode": {
    "name": "ipython",
    "version": 3
   },
   "file_extension": ".py",
   "mimetype": "text/x-python",
   "name": "python",
   "nbconvert_exporter": "python",
   "pygments_lexer": "ipython3",
   "version": "3.6.5"
  }
 },
 "nbformat": 4,
 "nbformat_minor": 2
}
