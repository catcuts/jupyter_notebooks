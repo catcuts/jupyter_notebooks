{
 "cells": [
  {
   "cell_type": "markdown",
   "metadata": {},
   "source": [
    "\n",
    "待总结\n",
    "\n",
    "参考：\n",
    "\n",
    "- [google-search: 允许跨域 安全性](https://www.google.com/search?ei=x8L0W9mnI62-0PEP48mdyAQ&q=%E5%85%81%E8%AE%B8%E8%B7%A8%E5%9F%9F+%E5%AE%89%E5%85%A8%E6%80%A7&oq=%E5%85%81%E8%AE%B8%E8%B7%A8%E5%9F%9F+%E5%AE%89%E5%85%A8%E6%80%A7&gs_l=psy-ab.3...397472.409057..409620...5.0..2.298.2267.2-10....2..0....1..gws-wiz.....6..0j35i39j0i67j0i30j0i5i30.OR7AhRCM4X8)\n",
    "\n",
    "- [CORS——跨域请求那些事儿](https://yq.aliyun.com/articles/69313)\n",
    "\n",
    "- ▲[跨域资源共享(CORS)安全性浅析](https://www.freebuf.com/articles/web/18493.html)\n",
    "\n",
    "- [踩过的坑--CORS跨域请求中预检(preflight)](https://www.jianshu.com/p/2f264dac6f32)\n",
    "（推荐了 express cors，剖析了源码）\n",
    "\n",
    "- [cors跨域之简单请求与预检请求（发送请求头带令牌token）](https://segmentfault.com/a/1190000009971254)\n",
    "\n",
    "见笔记\n",
    "\n",
    "参考：\n",
    "\n",
    "- [跨站请求伪造 维基百科，自由的百科全书](https://zh.wikipedia.org/wiki/%E8%B7%A8%E7%AB%99%E8%AF%B7%E6%B1%82%E4%BC%AA%E9%80%A0)\n",
    "\n",
    "- [django表单验证和跨站伪造csrf](https://www.bbsmax.com/A/mo5kKj35wR/)\n",
    "\n",
    "- [Django中CSRF防护原理及使用](https://www.jianshu.com/p/991df812e2a5?utm_campaign=maleskine&utm_content=note&utm_medium=seo_notes&utm_source=recommendation)\n",
    "\n",
    "- [Django 的 CSRF 保护机制](https://www.cnblogs.com/lins05/archive/2012/12/02/2797996.html)\n",
    "\n",
    "- [前后端分离架构下CSRF防护机制](https://iblog.wilee.me/post/detail/7)\n",
    "\n",
    "- [CSRF攻击与防御（写得非常好）](https://blog.csdn.net/stpeace/article/details/53512283)\n",
    "\n",
    "- [ajax跨域，这应该是最全的解决方案了](https://segmentfault.com/a/1190000012469713#articleHeader10)\n",
    "\n"
   ]
  },
  {
   "cell_type": "code",
   "execution_count": null,
   "metadata": {},
   "outputs": [],
   "source": []
  }
 ],
 "metadata": {
  "kernelspec": {
   "display_name": "Python 3",
   "language": "python",
   "name": "python3"
  },
  "language_info": {
   "codemirror_mode": {
    "name": "ipython",
    "version": 3
   },
   "file_extension": ".py",
   "mimetype": "text/x-python",
   "name": "python",
   "nbconvert_exporter": "python",
   "pygments_lexer": "ipython3",
   "version": "3.6.5"
  }
 },
 "nbformat": 4,
 "nbformat_minor": 2
}
