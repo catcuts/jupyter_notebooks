{
 "cells": [
  {
   "cell_type": "markdown",
   "metadata": {},
   "source": [
    "\n",
    "> 见笔记\n",
    "\n",
    "参考：\n",
    "\n",
    "- [使用 Fetch](https://developer.mozilla.org/zh-CN/docs/Web/API/Fetch_API/Using_Fetch)\n",
    "- [fetch请求设置Content-Type失败？](https://segmentfault.com/q/1010000011796178)\n",
    "- [Fetch API 初探](https://juejin.im/entry/583684d4880741006c081fa6)\n",
    "- [新的Fetch API](https://www.w3ctech.com/topic/854)\n",
    "- [fetch() does not send headers?](https://stackoverflow.com/questions/45591594/fetch-does-not-send-headers)\n",
    "- [Fetch 概述](https://github.com/camsong/blog/issues/2)\n",
    "- [camsong/fetch-ie8](https://github.com/camsong/fetch-ie8)\n",
    "- [Fetch Living Standard — Last Updated 20 November 2018](https://fetch.spec.whatwg.org/#simple-header)\n",
    "- [跨域资源共享 CORS 详解](http://www.ruanyifeng.com/blog/2016/04/cors.html)\n",
    "- [Cross-Origin Resource Sharing (CORS)](https://developer.mozilla.org/en-US/docs/Web/HTTP/CORS)\n",
    "- [Request.mode](https://developer.mozilla.org/en-US/docs/Web/API/Request/mode)\n",
    "- [Request.credentials](https://developer.mozilla.org/en-US/docs/Web/API/Request/credentials)\n",
    "- [Request.cache](https://developer.mozilla.org/en-US/docs/Web/API/Request/cache)"
   ]
  },
  {
   "cell_type": "code",
   "execution_count": null,
   "metadata": {},
   "outputs": [],
   "source": []
  }
 ],
 "metadata": {
  "kernelspec": {
   "display_name": "Python 3",
   "language": "python",
   "name": "python3"
  },
  "language_info": {
   "codemirror_mode": {
    "name": "ipython",
    "version": 3
   },
   "file_extension": ".py",
   "mimetype": "text/x-python",
   "name": "python",
   "nbconvert_exporter": "python",
   "pygments_lexer": "ipython3",
   "version": "3.6.5"
  }
 },
 "nbformat": 4,
 "nbformat_minor": 2
}
