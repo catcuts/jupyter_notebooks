{
 "cells": [
  {
   "cell_type": "markdown",
   "metadata": {},
   "source": [
    "\n",
    ">参考：\n",
    ">1. [字符串转数值](https://www.cnblogs.com/chengmo/archive/2010/09/30/1839556.html)\n",
    ">2. [字符串数值比较](https://blog.csdn.net/timo1160139211/article/details/74078931)\n",
    "\n",
    "　　示例：（硬盘检查）\n",
    "\n",
    "```shell\n",
    "echo -e \"[ info ] 检查硬盘 ...\"\n",
    "\n",
    "    selected_hd=\n",
    "\n",
    "    sddevlist=`ls /dev/sd*`\n",
    "\n",
    "    for dev in $sddevlist; do\n",
    "        sddevsize=`fdisk -l $dev | sed -n \"s|Disk $dev: \\([^,]*\\) GiB, .*|\\1|p\"`\n",
    "        \n",
    "        # 字符串转整数或浮点数\n",
    "        sddevsize=`awk \"BEGIN{print $sddevsize+0 }\"`\n",
    "        \n",
    "        # 数值比较（不论整数或浮点数）\n",
    "        if [ `echo $sddevsize 900 | awk '{if($1>=$2){printf\"ge\"}else{printf\"lt\"}}'` == \"ge\" ]; then\n",
    "            echo -ne \"上面这个是你的硬盘吗（大小: $sddevsize） ? [y/n] \"\n",
    "            read confirmed\n",
    "            if [ \"$confirmed\" == \"y\" ]; then\n",
    "                echo -e \"用户选择了硬盘: $dev\"\n",
    "                selected_hd=$dev\n",
    "            fi\n",
    "        fi\n",
    "    done \n",
    "\n",
    "    if [ -z $selected_hd ]; then\n",
    "        echo -e \"[ erro ] 没有可用的硬盘 . 中止 .\"\n",
    "        exit 1\n",
    "    fi\n",
    "\n",
    "echo -e \"[ info ] 检查硬盘 正常 .\"\n",
    "```\n"
   ]
  },
  {
   "cell_type": "code",
   "execution_count": null,
   "metadata": {},
   "outputs": [],
   "source": []
  }
 ],
 "metadata": {
  "kernelspec": {
   "display_name": "Python 3",
   "language": "python",
   "name": "python3"
  },
  "language_info": {
   "codemirror_mode": {
    "name": "ipython",
    "version": 3
   },
   "file_extension": ".py",
   "mimetype": "text/x-python",
   "name": "python",
   "nbconvert_exporter": "python",
   "pygments_lexer": "ipython3",
   "version": "3.5.4rc1"
  }
 },
 "nbformat": 4,
 "nbformat_minor": 2
}
