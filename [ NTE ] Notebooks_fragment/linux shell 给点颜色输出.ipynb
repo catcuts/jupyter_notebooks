{
 "cells": [
  {
   "cell_type": "markdown",
   "metadata": {},
   "source": [
    "\n",
    "> [参考 from stackoverflow](https://stackoverflow.com/questions/5947742/how-to-change-the-output-color-of-echo-in-linux)\n",
    ">\n",
    "> [参考 from wikipedia](https://zh.wikipedia.org/wiki/ANSI%E8%BD%AC%E4%B9%89%E5%BA%8F%E5%88%97)\n",
    "\n",
    "　　示例：\n",
    "  \n",
    "```shell\n",
    "Black=\"\\033[0;30m\"\n",
    "Dark_Gray=\"\\033[1;30m\"\n",
    "Red=\"\\033[0;31m\"\n",
    "Light_Red=\"\\033[1;31m\"\n",
    "Green=\"\\033[0;32m\"\n",
    "Light_Green=\"\\033[1;32m\"\n",
    "Brown_Orange=\"\\033[0;33m\"\n",
    "Yellow=\"\\033[1;33m\"\n",
    "Blue=\"\\033[0;34m\"\n",
    "Light_Blue=\"\\033[1;34m\"\n",
    "Purple=\"\\033[0;35m\"\n",
    "Light_Purple=\"\\033[1;35m\"\n",
    "Cyan=\"\\033[0;36m\"\n",
    "Light_Cyan=\"\\033[1;36m\"\n",
    "Light_Gray=\"\\033[0;37m\"\n",
    "White=\"\\033[1;37m\"\n",
    "NC='\\033[0m' # No Color\n",
    "\n",
    "# how to use ?\n",
    "# source /path/to/this.sh\n",
    "# then start using these color constants !\n",
    "\n",
    "# an example\n",
    "echo -e \"${Light_Green}I${NC} ${Red}love${NC} ${Cyan}Stack${NC} ${Light_Purple}Overflow${NC}\"\n",
    "```"
   ]
  },
  {
   "cell_type": "code",
   "execution_count": 1,
   "metadata": {},
   "outputs": [
    {
     "name": "stdout",
     "output_type": "stream",
     "text": [
      "\u001b[1;32mI\u001b[0m \u001b[0;31mlove\u001b[0m \u001b[0;36mStack\u001b[0m \u001b[1;35mOverflow\u001b[0m\n"
     ]
    }
   ],
   "source": [
    "%%sh\n",
    "Black=\"\\033[0;30m\"\n",
    "Dark_Gray=\"\\033[1;30m\"\n",
    "Red=\"\\033[0;31m\"\n",
    "Light_Red=\"\\033[1;31m\"\n",
    "Green=\"\\033[0;32m\"\n",
    "Light_Green=\"\\033[1;32m\"\n",
    "Brown_Orange=\"\\033[0;33m\"\n",
    "Yellow=\"\\033[1;33m\"\n",
    "Blue=\"\\033[0;34m\"\n",
    "Light_Blue=\"\\033[1;34m\"\n",
    "Purple=\"\\033[0;35m\"\n",
    "Light_Purple=\"\\033[1;35m\"\n",
    "Cyan=\"\\033[0;36m\"\n",
    "Light_Cyan=\"\\033[1;36m\"\n",
    "Light_Gray=\"\\033[0;37m\"\n",
    "White=\"\\033[1;37m\"\n",
    "NC='\\033[0m' # No Color\n",
    "\n",
    "# how to use ?\n",
    "# source /path/to/this.sh\n",
    "# then start using these color constants !\n",
    "\n",
    "# an example\n",
    "echo \"${Light_Green}I${NC} ${Red}love${NC} ${Cyan}Stack${NC} ${Light_Purple}Overflow${NC}\""
   ]
  },
  {
   "cell_type": "code",
   "execution_count": null,
   "metadata": {},
   "outputs": [],
   "source": []
  }
 ],
 "metadata": {
  "kernelspec": {
   "display_name": "Python 3",
   "language": "python",
   "name": "python3"
  },
  "language_info": {
   "codemirror_mode": {
    "name": "ipython",
    "version": 3
   },
   "file_extension": ".py",
   "mimetype": "text/x-python",
   "name": "python",
   "nbconvert_exporter": "python",
   "pygments_lexer": "ipython3",
   "version": "3.5.4rc1"
  }
 },
 "nbformat": 4,
 "nbformat_minor": 2
}
