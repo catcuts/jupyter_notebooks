{
 "cells": [
  {
   "cell_type": "markdown",
   "metadata": {},
   "source": [
    "# apt-get 时卡在 “正在等待报头” [waiting for headers]\n",
    "\n",
    "```shell\n",
    "sudo rm -rf /var/lib/apt/lists/ && sudo rm -rf /var/cache/apt/archives/\n",
    "\n",
    "```\n",
    "　　然后重试\n",
    "  \n",
    "___\n",
    "\n",
    "# W: Target Packages (partner/binary-amd64/Packages) is configured multiple times in /etc/apt/sources.list:49 and /etc/apt/sources.list.d/××××××.list:4\n",
    "\n",
    "```shell\n",
    "sudo rm /etc/apt/sources.list.d/××××××.list\n",
    "sudo apt-get update\n",
    "```"
   ]
  },
  {
   "cell_type": "markdown",
   "metadata": {},
   "source": []
  },
  {
   "cell_type": "code",
   "execution_count": null,
   "metadata": {},
   "outputs": [],
   "source": []
  }
 ],
 "metadata": {
  "kernelspec": {
   "display_name": "Python 3",
   "language": "python",
   "name": "python3"
  },
  "language_info": {
   "codemirror_mode": {
    "name": "ipython",
    "version": 3
   },
   "file_extension": ".py",
   "mimetype": "text/x-python",
   "name": "python",
   "nbconvert_exporter": "python",
   "pygments_lexer": "ipython3",
   "version": "3.6.5"
  }
 },
 "nbformat": 4,
 "nbformat_minor": 2
}
