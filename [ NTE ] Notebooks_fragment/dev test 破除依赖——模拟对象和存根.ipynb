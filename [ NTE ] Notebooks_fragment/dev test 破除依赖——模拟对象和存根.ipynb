{
 "cells": [
  {
   "cell_type": "markdown",
   "metadata": {},
   "source": [
    "\n",
    "　　[破除依赖](https://www.cnblogs.com/LipeiNet/p/5012101.html)\n",
    "\n",
    "　　[模拟对象和存根](https://www.cnblogs.com/LipeiNet/p/5017726.html)\n",
    "  \n",
    "　　[Stubbing, Mocking and Service Virtualization Differences for Test and Development Teams](https://www.infoq.com/articles/stubbing-mocking-service-virtualization-differences)\n",
    "  \n",
    "　　[vue-test-utils: mount()](https://vue-test-utils.vuejs.org/zh/api/mount.html)\n"
   ]
  },
  {
   "cell_type": "code",
   "execution_count": null,
   "metadata": {},
   "outputs": [],
   "source": []
  }
 ],
 "metadata": {
  "kernelspec": {
   "display_name": "Python 3",
   "language": "python",
   "name": "python3"
  },
  "language_info": {
   "codemirror_mode": {
    "name": "ipython",
    "version": 3
   },
   "file_extension": ".py",
   "mimetype": "text/x-python",
   "name": "python",
   "nbconvert_exporter": "python",
   "pygments_lexer": "ipython3",
   "version": "3.5.4rc1"
  }
 },
 "nbformat": 4,
 "nbformat_minor": 2
}
