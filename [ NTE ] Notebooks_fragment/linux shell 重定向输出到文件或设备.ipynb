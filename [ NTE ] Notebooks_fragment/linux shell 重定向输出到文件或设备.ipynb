{
 "cells": [
  {
   "cell_type": "markdown",
   "metadata": {},
   "source": [
    "\n",
    ">[一种方法：command > file 2&>1](http://www.cnblogs.com/caolisong/archive/2007/04/25/726896.html)\n",
    ">\n",
    ">[另一些方法：上面可写成：command &> file](https://askubuntu.com/questions/420981/how-do-i-save-terminal-output-to-a-file#731237?newreg=14870b9ae2f341008a2a07854e6c5c73)\n"
   ]
  },
  {
   "cell_type": "code",
   "execution_count": null,
   "metadata": {},
   "outputs": [],
   "source": []
  }
 ],
 "metadata": {
  "kernelspec": {
   "display_name": "Python 3",
   "language": "python",
   "name": "python3"
  },
  "language_info": {
   "codemirror_mode": {
    "name": "ipython",
    "version": 3
   },
   "file_extension": ".py",
   "mimetype": "text/x-python",
   "name": "python",
   "nbconvert_exporter": "python",
   "pygments_lexer": "ipython3",
   "version": "3.5.4rc1"
  }
 },
 "nbformat": 4,
 "nbformat_minor": 2
}
