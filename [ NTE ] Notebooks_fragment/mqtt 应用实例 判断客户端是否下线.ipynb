{
 "cells": [
  {
   "cell_type": "markdown",
   "metadata": {},
   "source": [
    "护士站主机如何渲染门口机在线/离线状态：通过对门口机状态变更的响应来实现。\n",
    "\n",
    "具体是：\n",
    "\n",
    "门口机上线应触发状态变更消息： /voerka/<domain>/groups/<门口机group>/$$status\n",
    "（online=true）\n",
    "\n",
    "            {\n",
    "                \"type\"     : 3,\n",
    "                \"sid\"      : 0,\n",
    "                \"sync\"     : false,\n",
    "                \"from\"     : <String:本机sn>,\n",
    "                \"to\"       : \"\",\n",
    "                \"timestamp\": <Long:timestamp>,\n",
    "                \"receipt\"  : false,\n",
    "                \"flags\"    : \"\",\n",
    "                \"token\"    : <String:token>,\n",
    "                \"tid\"      : \"\",\n",
    "                \"payload\"  : {\n",
    "                    \"code\"    : 1001,\n",
    "                    \"source\"  : <同from>,\n",
    "                    \"level\"   : 1,\n",
    "                    \"status\": {\n",
    "                        \"online\": true\n",
    "                    }\n",
    "                }\n",
    "            }\n",
    "\n",
    "门口机下线（或意外断线）应触发状态变更消息：到同一主题（online=false）\n",
    "\n",
    "以上消息设置均为：retain=1, qos=2\n",
    "\n",
    "如何在下线或断线自动触发状态变更消息？\n",
    "http://www.eclipse.org/paho/files/jsdoc/Paho.MQTT.Client.html\n",
    "网页内搜索“willMessage”然后跳转至：http://www.eclipse.org/paho/files/jsdoc/Paho.MQTT.Message.html 查看相关设置（retain、qos等）"
   ]
  },
  {
   "cell_type": "code",
   "execution_count": null,
   "metadata": {},
   "outputs": [],
   "source": []
  }
 ],
 "metadata": {
  "kernelspec": {
   "display_name": "Python 3",
   "language": "python",
   "name": "python3"
  },
  "language_info": {
   "codemirror_mode": {
    "name": "ipython",
    "version": 3
   },
   "file_extension": ".py",
   "mimetype": "text/x-python",
   "name": "python",
   "nbconvert_exporter": "python",
   "pygments_lexer": "ipython3",
   "version": "3.5.4rc1"
  }
 },
 "nbformat": 4,
 "nbformat_minor": 2
}
