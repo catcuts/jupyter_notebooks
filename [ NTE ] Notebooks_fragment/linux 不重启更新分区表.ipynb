{
 "cells": [
  {
   "cell_type": "markdown",
   "metadata": {},
   "source": [
    "\n",
    "> 参考：\n",
    ">\n",
    "> 1. [google-serach: The new table will be used at the next reboot or after you run partprobe(8) or kpartx(8)](https://www.google.com/search?q=The+new+table+will+be+used+at+the+next+reboot+or+after+you+run+partprobe(8)+or+kpartx(8)&oq=The+new+table+will+be+used+at+the+next+reboot+or+after+you+run+partprobe(8)+or+kpartx(8)&aqs=chrome..69i57.396j0j9&sourceid=chrome&ie=UTF-8)\n",
    ">\n",
    "> 2. [fdisk 分区之后 不停机内核重新加载分区表](http://blog.51cto.com/7678808/1767749)\n"
   ]
  },
  {
   "cell_type": "code",
   "execution_count": null,
   "metadata": {},
   "outputs": [],
   "source": []
  }
 ],
 "metadata": {
  "kernelspec": {
   "display_name": "Python 3",
   "language": "python",
   "name": "python3"
  },
  "language_info": {
   "codemirror_mode": {
    "name": "ipython",
    "version": 3
   },
   "file_extension": ".py",
   "mimetype": "text/x-python",
   "name": "python",
   "nbconvert_exporter": "python",
   "pygments_lexer": "ipython3",
   "version": "3.5.4rc1"
  }
 },
 "nbformat": 4,
 "nbformat_minor": 2
}
