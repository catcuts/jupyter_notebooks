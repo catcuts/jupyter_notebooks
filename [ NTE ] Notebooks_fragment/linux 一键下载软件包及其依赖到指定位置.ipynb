{
 "cells": [
  {
   "cell_type": "markdown",
   "metadata": {},
   "source": [
    "\n",
    "> 参考：\n",
    "> - [apt一键下载所有依赖的包](https://blog.csdn.net/junbujianwpl/article/details/52811153)\n",
    "> - [Change an apt cache folder location](https://abz89.wordpress.com/2010/02/11/change-an-apt-cache-folder-location/)\n",
    "> - [Where do packages installed/upgraded with APT get stored?](https://askubuntu.com/questions/178806/where-do-packages-installed-upgraded-with-apt-get-stored)\n",
    "\n",
    "示例代码：\n",
    "```shell\n",
    "#!/bin/bash\n",
    "\n",
    "download_dir=/media/catcuts/0001C44100083553/Documents/catcuts/project/test/download\n",
    "\n",
    "logfile=./download_pkg_deps.log\n",
    "ret=\"\"\n",
    "\n",
    "echo '' > $logfile\n",
    "\n",
    "function getDepends()\n",
    "{\n",
    "   echo \"fileName is\" $1>>$logfile\n",
    "   # use tr to del < >\n",
    "   ret=`apt-cache depends $1|grep 依赖|cut -d: -f2 |tr -d \"<>\"`\n",
    "   echo $ret|tee  -a $logfile\n",
    "}\n",
    "# 需要获取其所依赖包的包\n",
    "libs=\"resolvconf\"                  # 或者用$1，从命令行输入库名字\n",
    "\n",
    "# download libs dependen. deep in 3\n",
    "i=0\n",
    "while [ $i -lt 3 ] ;\n",
    "do\n",
    "    let i++\n",
    "    echo $i\n",
    "    # download libs\n",
    "    newlist=\" \"\n",
    "    for j in $libs\n",
    "    do\n",
    "        added=\"$(getDepends $j)\"\n",
    "        newlist=\"$newlist $added\"\n",
    "        sudo apt-get install -o dir::cache::archives=$download_dir $added --reinstall -d -y\n",
    "        #sudo apt-get install $added --reinstall -d -y\n",
    "    done\n",
    "\n",
    "    libs=$newlist\n",
    "done\n",
    "\n",
    "```\n"
   ]
  },
  {
   "cell_type": "code",
   "execution_count": null,
   "metadata": {},
   "outputs": [],
   "source": []
  }
 ],
 "metadata": {
  "kernelspec": {
   "display_name": "Python 3",
   "language": "python",
   "name": "python3"
  },
  "language_info": {
   "codemirror_mode": {
    "name": "ipython",
    "version": 3
   },
   "file_extension": ".py",
   "mimetype": "text/x-python",
   "name": "python",
   "nbconvert_exporter": "python",
   "pygments_lexer": "ipython3",
   "version": "3.5.4rc1"
  }
 },
 "nbformat": 4,
 "nbformat_minor": 2
}
