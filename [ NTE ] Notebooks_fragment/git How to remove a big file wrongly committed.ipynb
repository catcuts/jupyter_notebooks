{
 "cells": [
  {
   "cell_type": "markdown",
   "metadata": {},
   "source": [
    "\n",
    "**When you meet this:**\n",
    "\n",
    "```bash\n",
    "remote: error: GH001: Large files detected. You may want to try Git Large File Storage - https://git-lfs.github.com.\n",
    "remote: error: Trace: 7d51855d4f834a90c5a5a526e93d2668\n",
    "remote: error: See http://git.io/iEPt8g for more information.\n",
    "remote: error: File coverage/sensitivity/simulated.bed is 102.00 MB; this exceeds GitHub's file size limit of 100.00 MB\n",
    "```\n",
    "\n",
    "**Try this:**\n",
    "\n",
    "```bash\n",
    "git filter-branch --tree-filter 'rm -rf path/to/your/file' HEAD\n",
    "git push\n",
    "```\n",
    "\n",
    "**Reference**\n",
    "\n",
    "[git : How to remove a big file wrongly committed](http://thomas-cokelaer.info/blog/2018/02/git-how-to-remove-a-big-file-wrongly-committed/)"
   ]
  },
  {
   "cell_type": "code",
   "execution_count": null,
   "metadata": {},
   "outputs": [],
   "source": []
  }
 ],
 "metadata": {
  "kernelspec": {
   "display_name": "Python 3",
   "language": "python",
   "name": "python3"
  },
  "language_info": {
   "codemirror_mode": {
    "name": "ipython",
    "version": 3
   },
   "file_extension": ".py",
   "mimetype": "text/x-python",
   "name": "python",
   "nbconvert_exporter": "python",
   "pygments_lexer": "ipython3",
   "version": "3.6.5"
  }
 },
 "nbformat": 4,
 "nbformat_minor": 2
}
