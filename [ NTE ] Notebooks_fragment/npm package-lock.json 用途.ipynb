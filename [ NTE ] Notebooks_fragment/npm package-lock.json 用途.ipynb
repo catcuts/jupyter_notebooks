{
 "cells": [
  {
   "cell_type": "markdown",
   "metadata": {},
   "source": [
    "\n",
    "在没有 `package-lock.json` 的时候，`npm i` 使用 `package.json` 来安装所需依赖；\n",
    "\n",
    "然后自动生成 `package-lock.json`，记录了当前安装的依赖的版本以及位置，相当于一个快照；\n",
    "\n",
    "之后，在另一个地方重新安装依赖时，就使用已存在的 `package-lock.json` 来安装依赖，保证了依赖的版本和位置与开发时保持一致，而不会安装最新版本的依赖（因为 `package.json` 常常定义依赖的版本为向后兼容，而依赖更新可能导致 bug，需要对依赖该依赖的工程进行重新测试，而不能直接发布）；\n",
    "\n",
    "所以在 5.4.2 版本之前：已存在 `package-lock.json` 的话，修改 `package.json` 是对于 `npm i` 是无济于事的，除非删掉前者，然后重新 `npm i` 才能重新生成关于当前依赖的快照，也就是新的一份 `package-lock.json`；\n",
    "\n",
    "在 5.4.2 版本之后，如果改了 `package.json`，且 `package.json` 和 `lock` 文件不同，那么执行`npm i` 时npm会根据package中的版本号以及语义含义去下载最新的包，并更新至 `lock`。如果两者是同一状态，那么执行 `npm i` 都会根据 `lock` 下载，不会理会 `package` 实际包的版本是否有新。\n",
    "\n",
    "参考：\n",
    "[npm install 生成的package-lock.json是什么文件？有什么用？](https://www.zhihu.com/question/62331583)\n",
    "\n"
   ]
  },
  {
   "cell_type": "code",
   "execution_count": null,
   "metadata": {},
   "outputs": [],
   "source": []
  }
 ],
 "metadata": {
  "kernelspec": {
   "display_name": "Python 3",
   "language": "python",
   "name": "python3"
  },
  "language_info": {
   "codemirror_mode": {
    "name": "ipython",
    "version": 3
   },
   "file_extension": ".py",
   "mimetype": "text/x-python",
   "name": "python",
   "nbconvert_exporter": "python",
   "pygments_lexer": "ipython3",
   "version": "3.6.5"
  }
 },
 "nbformat": 4,
 "nbformat_minor": 2
}
