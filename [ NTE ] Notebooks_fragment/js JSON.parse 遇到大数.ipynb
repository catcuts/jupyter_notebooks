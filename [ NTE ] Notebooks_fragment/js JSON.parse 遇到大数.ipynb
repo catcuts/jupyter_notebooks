{
 "cells": [
  {
   "cell_type": "markdown",
   "metadata": {},
   "source": [
    "\n",
    "```js\n",
    "let messageString=`{\n",
    "        \"type\"     : 1,\n",
    "        \"sid\"      : 0,\n",
    "        \"sync\"     : false,\n",
    "        \"from\"     : \"123456789\",\n",
    "        \"to\"       : \"\",\n",
    "        \"timestamp\": 1544005642452,\n",
    "        \"receipt\"  : false,\n",
    "        \"flags\"    : \"\",\n",
    "        \"token\"    : \"\",\n",
    "        \"tid\"      : 987654321789456123,\n",
    "        \"payload\"  : {\n",
    "            \"code\"    : 8001,\n",
    "            \"source\"  : 123456789,\n",
    "            \"level\"   : 1\n",
    "        }\n",
    "    }`\n",
    "    \n",
    "JSON.parse(messageString.replace(/\"tid\"\\s*:\\s*(\\d+),/, '\"tid\":\"$1\",'))\n",
    "```\n"
   ]
  },
  {
   "cell_type": "code",
   "execution_count": null,
   "metadata": {},
   "outputs": [],
   "source": []
  }
 ],
 "metadata": {
  "kernelspec": {
   "display_name": "Python 3",
   "language": "python",
   "name": "python3"
  },
  "language_info": {
   "codemirror_mode": {
    "name": "ipython",
    "version": 3
   },
   "file_extension": ".py",
   "mimetype": "text/x-python",
   "name": "python",
   "nbconvert_exporter": "python",
   "pygments_lexer": "ipython3",
   "version": "3.6.5"
  }
 },
 "nbformat": 4,
 "nbformat_minor": 2
}
