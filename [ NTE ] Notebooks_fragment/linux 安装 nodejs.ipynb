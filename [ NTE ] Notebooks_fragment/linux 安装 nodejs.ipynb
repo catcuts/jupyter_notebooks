{
 "cells": [
  {
   "cell_type": "markdown",
   "metadata": {},
   "source": [
    "这是一个讨论（但是 debian i686 架构不知为何找不到 10.x）：\n",
    "\n",
    "> https://github.com/nodejs/help/issues/1040\n",
    "\n",
    "最简单的可能是用 nvm（但耗时长，因为要编译）\n",
    "\n",
    "> https://www.digitalocean.com/community/tutorials/how-to-install-node-js-on-debian-8#how-to-install-using-nvm"
   ]
  },
  {
   "cell_type": "code",
   "execution_count": null,
   "metadata": {},
   "outputs": [],
   "source": []
  }
 ],
 "metadata": {
  "kernelspec": {
   "display_name": "Python 3",
   "language": "python",
   "name": "python3"
  },
  "language_info": {
   "codemirror_mode": {
    "name": "ipython",
    "version": 3
   },
   "file_extension": ".py",
   "mimetype": "text/x-python",
   "name": "python",
   "nbconvert_exporter": "python",
   "pygments_lexer": "ipython3",
   "version": "3.6.5"
  }
 },
 "nbformat": 4,
 "nbformat_minor": 2
}
