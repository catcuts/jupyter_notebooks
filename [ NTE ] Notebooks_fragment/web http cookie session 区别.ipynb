{
 "cells": [
  {
   "cell_type": "markdown",
   "metadata": {},
   "source": [
    "\n",
    "> 推荐阅读：[Cookie和Session的作用和工作原理](https://blog.csdn.net/guoweimelon/article/details/50886092)\n",
    ">\n",
    "> 同时我还在 Hypothesis 上对这篇文章做了笔记\n",
    "\n",
    "　　cookie 和 session 都是用于保存 http 连接状态的方式，因为 http 协议是无状态协议。cookie 和 session 并不直接面向验证，而往往是要先认证通过后，服务器才会派发 cookie 或 生成 session 来保存这个已经验证通过的 http 会话（或称连接）状态。\n",
    "\n",
    "　　所以 cookie 和 session 其实作用类似，区别之一在于保存的位置不同。\n",
    "\n",
    "　　cookie 是服务器产生的，在响应客户端请求的同时附带在响应报文中，之后，服务器就不保存 cookie 了。当客户端再次请求时，会在请求报文中带上相应的 cookie，服务器收到后，会解析这个 cookie，获知客户端的身份和该 cookie 对应的会话状态。\n",
    "\n",
    "　　session 也是服务器产生的，但在响应客户端请求的同时，只会附带这个 session 的 id 在响应报文中，而且是已 cookie 的方式，作为 cookie 的一个属性，之后，服务器会保存整个 session 的内容，通常是使用数据库来保存。当客户端再次请求时，还是在请求报文中带上相应 session id 的 cookie，服务器收到后，根据 session id 索引到对应的 session 对象，获知客户端的身份和相应的会话状态。\n",
    "  \n",
    "　　另外一个重要的区别是，cookie 和 session 的安全性（或隐私策略）不同。cookie 是整个会话对象都放在客户端，很容易看到（base64 只是压缩，并不是加密）。 session 是整个会话对象都放在服务端，只有一个 session id 副本放在客户端的 cookie 里，所以就算有人偷到了 session id 冒充，也看不到会话信息。\n",
    "\n",
    "　　所以假如选用 cookie，比较好的方法是，敏感的信息如账号密码等尽量不要写到 cookie中。最好是像 Google、Baidu 那样将 cookie 信息加密，提交到服务器后再进行解密，保证cookie 中的信息只要本人能读得懂。而假如选择 session 就省事多了，反正是放在服务器上，session 里任何隐私都能够有效的保护。 \n",
    "  \n",
    "　　还有一个要注意的区别是，cookie 有效期可以设置为很大，而 session 的有效期只要关闭浏览器就失效了。"
   ]
  },
  {
   "cell_type": "code",
   "execution_count": null,
   "metadata": {},
   "outputs": [],
   "source": []
  }
 ],
 "metadata": {
  "kernelspec": {
   "display_name": "Python 3",
   "language": "python",
   "name": "python3"
  },
  "language_info": {
   "codemirror_mode": {
    "name": "ipython",
    "version": 3
   },
   "file_extension": ".py",
   "mimetype": "text/x-python",
   "name": "python",
   "nbconvert_exporter": "python",
   "pygments_lexer": "ipython3",
   "version": "3.5.4rc1"
  }
 },
 "nbformat": 4,
 "nbformat_minor": 2
}
