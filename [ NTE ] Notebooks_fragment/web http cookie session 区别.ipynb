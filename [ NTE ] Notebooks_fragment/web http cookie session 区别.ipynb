{
 "cells": [
  {
   "cell_type": "markdown",
   "metadata": {},
   "source": [
    "\n",
    "　　cookie 和 session 都是用于保存 http 连接状态的方式，因为 http 协议是无状态协议。cookie 和 session 并不直接面向验证，而往往是要先认证通过后，服务器才会派发 cookie 或 生成 session 来保存这个已经验证通过的 http 会话（或称连接）状态。\n",
    "\n",
    "　　所以 cookie 和 session 其实作用类似，区别在于保存的位置不同。\n",
    "\n",
    "　　cookie 是服务器产生的，在响应客户端请求的同时附带在响应报文中，之后，服务器就不保存 cookie 了。当客户端再次请求时，会在请求报文中带上相应的 cookie，服务器收到后，会解析这个 cookie，获知客户端的身份和该 cookie 对应的会话状态。\n",
    "\n",
    "　　session 也是服务器产生的，但在响应客户端请求的同时，只会附带这个 session 的 id 在响应报文中，而且是已 cookie 的方式，作为 cookie 的一个属性，之后，服务器会保存整个 session 的内容，通常是使用数据库来保存。当客户端再次请求时，还是在请求报文中带上相应 session id 的 cookie，服务器收到后，根据 session id 索引到对应的 session 对象，获知客户端的身份和相应的会话状态。"
   ]
  },
  {
   "cell_type": "code",
   "execution_count": null,
   "metadata": {},
   "outputs": [],
   "source": []
  }
 ],
 "metadata": {
  "kernelspec": {
   "display_name": "Python 3",
   "language": "python",
   "name": "python3"
  },
  "language_info": {
   "codemirror_mode": {
    "name": "ipython",
    "version": 3
   },
   "file_extension": ".py",
   "mimetype": "text/x-python",
   "name": "python",
   "nbconvert_exporter": "python",
   "pygments_lexer": "ipython3",
   "version": "3.5.4rc1"
  }
 },
 "nbformat": 4,
 "nbformat_minor": 2
}
