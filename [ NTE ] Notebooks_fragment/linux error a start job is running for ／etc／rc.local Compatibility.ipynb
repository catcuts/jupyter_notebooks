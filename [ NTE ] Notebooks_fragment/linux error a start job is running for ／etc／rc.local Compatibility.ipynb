{
 "cells": [
  {
   "cell_type": "markdown",
   "metadata": {},
   "source": [
    "\n",
    "> 参考\n",
    "> 1. [google-search](https://www.google.com/search?q=a+start+job+is+running+for+%2Fetc%2Frc.local&oq=a+start+job+is+running+for+%2Fetc%2Frc.local&aqs=chrome..69i57j69i64l3.17458j0j1&sourceid=chrome&ie=UTF-8)\n",
    ">\n",
    "> 2. [“A start job is running for /etc/rc.local Compatibility”: how to fix?](https://askubuntu.com/questions/616757/a-start-job-is-running-for-etc-rc-local-compatibility-how-to-fix)\n",
    ">"
   ]
  },
  {
   "cell_type": "code",
   "execution_count": null,
   "metadata": {},
   "outputs": [],
   "source": []
  }
 ],
 "metadata": {
  "kernelspec": {
   "display_name": "Python 3",
   "language": "python",
   "name": "python3"
  },
  "language_info": {
   "codemirror_mode": {
    "name": "ipython",
    "version": 3
   },
   "file_extension": ".py",
   "mimetype": "text/x-python",
   "name": "python",
   "nbconvert_exporter": "python",
   "pygments_lexer": "ipython3",
   "version": "3.5.4rc1"
  }
 },
 "nbformat": 4,
 "nbformat_minor": 2
}
