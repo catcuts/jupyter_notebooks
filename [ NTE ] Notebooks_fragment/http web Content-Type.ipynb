{
 "cells": [
  {
   "cell_type": "markdown",
   "metadata": {},
   "source": [
    "\n",
    "参考：\n",
    "\n",
    "- [理解HTTP之Content-Type](http://homeway.me/2015/07/19/understand-http-about-content-type/)\n",
    "\n",
    "- [content-type的作用](https://blog.csdn.net/qq_24591547/article/details/50126215)\n",
    "\n"
   ]
  },
  {
   "cell_type": "code",
   "execution_count": null,
   "metadata": {},
   "outputs": [],
   "source": []
  }
 ],
 "metadata": {
  "kernelspec": {
   "display_name": "Python 3",
   "language": "python",
   "name": "python3"
  },
  "language_info": {
   "codemirror_mode": {
    "name": "ipython",
    "version": 3
   },
   "file_extension": ".py",
   "mimetype": "text/x-python",
   "name": "python",
   "nbconvert_exporter": "python",
   "pygments_lexer": "ipython3",
   "version": "3.6.5"
  }
 },
 "nbformat": 4,
 "nbformat_minor": 2
}
