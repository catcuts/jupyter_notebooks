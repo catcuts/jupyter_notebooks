{
 "cells": [
  {
   "cell_type": "markdown",
   "metadata": {},
   "source": [
    "\n",
    "　　一般的分区表（除了 GPT）只能存储 4 个主分区的地址，多了找不到。\n",
    "\n",
    "　　留一个扩展分区，就可以在扩展分区内存储更多的分区地址，从而扩展成逻辑分区。\n",
    "  \n",
    "　　所以扩展分区如果没有扩展成逻辑分区，就只是存储分区表，不能直接使用。\n",
    "  \n",
    "　　[参考](https://www.quora.com/Why-does-not-Linux-let-create-more-than-4-partition)\n",
    "  "
   ]
  },
  {
   "cell_type": "code",
   "execution_count": null,
   "metadata": {},
   "outputs": [],
   "source": []
  }
 ],
 "metadata": {
  "kernelspec": {
   "display_name": "Python 3",
   "language": "python",
   "name": "python3"
  },
  "language_info": {
   "codemirror_mode": {
    "name": "ipython",
    "version": 3
   },
   "file_extension": ".py",
   "mimetype": "text/x-python",
   "name": "python",
   "nbconvert_exporter": "python",
   "pygments_lexer": "ipython3",
   "version": "3.5.4rc1"
  }
 },
 "nbformat": 4,
 "nbformat_minor": 2
}
