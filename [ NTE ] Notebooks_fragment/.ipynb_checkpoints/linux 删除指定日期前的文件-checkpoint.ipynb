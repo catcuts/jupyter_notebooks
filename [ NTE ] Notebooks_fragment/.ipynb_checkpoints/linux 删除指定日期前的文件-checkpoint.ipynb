{
 "cells": [
  {
   "cell_type": "markdown",
   "metadata": {},
   "source": [
    "\n",
    ">[参考 1](https://blog.csdn.net/superbfly/article/details/25000693)\n",
    ">  \n",
    ">[参考 2](https://www.2cto.com/os/201208/149552.html)\n",
    "\n",
    "　　比如：删除 30 天前（等效于：最后 30 天访问）：\n",
    "```shell\n",
    "find . -mtime +30 -type f | xargs rm -rf\n",
    "```\n",
    "\n",
    "　　完整的可选项列表：\n",
    "- `-amin n`  \n",
    "　　查找系统中最后 N 分钟访问的文件 \n",
    "<br><br>\n",
    "- `atime n`  \n",
    "　　查找系统中最后 n\\*24 小时访问的文件 \n",
    "<br><br>\n",
    "- `cmin n`  \n",
    "　　查找系统中最后 N 分钟被改变状态的文件 \n",
    "<br><br>\n",
    "- `ctime n`  \n",
    "　　查找系统中最后 n\\*24 小时被改变状态的文件 \n",
    "<br><br>\n",
    "- `mtime n`  \n",
    "　　查找系统中最后 n\\*24 小时被修改的文件"
   ]
  },
  {
   "cell_type": "code",
   "execution_count": null,
   "metadata": {},
   "outputs": [],
   "source": []
  }
 ],
 "metadata": {
  "kernelspec": {
   "display_name": "Python 3",
   "language": "python",
   "name": "python3"
  },
  "language_info": {
   "codemirror_mode": {
    "name": "ipython",
    "version": 3
   },
   "file_extension": ".py",
   "mimetype": "text/x-python",
   "name": "python",
   "nbconvert_exporter": "python",
   "pygments_lexer": "ipython3",
   "version": "3.5.4rc1"
  }
 },
 "nbformat": 4,
 "nbformat_minor": 2
}
