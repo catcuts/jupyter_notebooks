{
 "cells": [
  {
   "cell_type": "markdown",
   "metadata": {},
   "source": [
    "\n",
    "　　**临时修改**\n",
    "  \n",
    "```shell\n",
    "catcuts@catcuts-PC:~$ sudo sysctl vm.swappiness=10\n",
    "vm.swappiness = 10\n",
    "```\n",
    "\n",
    "　　检查：\n",
    "\n",
    "```shell\n",
    "catcuts@catcuts-PC:~$ cat /proc/sys/vm/swappiness\n",
    "10\n",
    "```\n",
    " \n",
    "　　**永久修改**\n",
    "\n",
    "```shell\n",
    "catcuts@catcuts-PC:~$ sudo echo 'vm.swappiness=10' >> /etc/sysctl.conf\n",
    "```"
   ]
  },
  {
   "cell_type": "code",
   "execution_count": null,
   "metadata": {},
   "outputs": [],
   "source": []
  }
 ],
 "metadata": {
  "kernelspec": {
   "display_name": "Python 3",
   "language": "python",
   "name": "python3"
  },
  "language_info": {
   "codemirror_mode": {
    "name": "ipython",
    "version": 3
   },
   "file_extension": ".py",
   "mimetype": "text/x-python",
   "name": "python",
   "nbconvert_exporter": "python",
   "pygments_lexer": "ipython3",
   "version": "3.5.4rc1"
  }
 },
 "nbformat": 4,
 "nbformat_minor": 2
}
