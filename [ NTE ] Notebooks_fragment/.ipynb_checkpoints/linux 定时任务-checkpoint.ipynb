{
 "cells": [
  {
   "cell_type": "markdown",
   "metadata": {},
   "source": [
    "\n",
    ">[参考 1](https://blog.csdn.net/qinxiandiqi/article/details/39475209)\n",
    ">\n",
    ">[参考 2](https://www.cnblogs.com/b028/archive/2011/01/07/1930243.html)\n",
    "\n",
    "```shell\n",
    "contrab -e\n",
    "```\n",
    "\n",
    "```shell\n",
    "# m h  dom mon dow   command\n",
    " \n",
    "# * * * * *  command to execute\n",
    "# ┬ ┬ ┬ ┬ ┬\n",
    "# │ │ │ │ │\n",
    "# │ │ │ │ │\n",
    "# │ │ │ │ └───── 星期中的哪一天(0-7)(从0到6代表星期日到星期六,也可以使用名字;7是星期天,等同于0)\n",
    "# │ │ │ └────────── 月份 (1 - 12)\n",
    "# │ │ └─────────────── 月份中的日 (1 - 31)\n",
    "# │ └──────────────────── 小时 (0 - 23)\n",
    "# └───────────────────────── 分钟 (0 - 59)\n",
    "```\n",
    "\n",
    "　　比如：\n",
    "```shell\n",
    "# 每天 00:10 执行\n",
    "10 0 * * *  /home/pi/backup.sh\n",
    "\n",
    "# 每天早上 6 点 10 分\n",
    "10 6 * * *  /home/pi/backup.sh\n",
    "\n",
    "# 每 2 个小时\n",
    "0 */2 * * *  /home/pi/backup.sh\n",
    "\n",
    "# 晚上 11 点到早上 8 点之间每两个小时，早上 8 点\n",
    "0 23-7/2，8 * * *  /home/pi/backup.sh\n",
    "\n",
    "# 每个月的 4 号和每个礼拜的礼拜一到礼拜三的早上 11 点\n",
    "0 11 4 * mon-wed  /home/pi/backup.sh\n",
    "\n",
    "# 1 月份日早上 4 点\n",
    "0 4 1 jan *  /home/pi/backup.sh\n",
    "\n",
    "# 应用\n",
    "# 每 2 天清理一次（清理 1 天前的备份）\n",
    "0 0 */2 * *  /home/pi/sweep_old_iptalk_database_bkups.sh\n",
    "# 每 1 小时备份一次\n",
    "0 */1 * * *  /home/pi/backup_iptalk_database.sh \n",
    "\n",
    "```"
   ]
  },
  {
   "cell_type": "code",
   "execution_count": null,
   "metadata": {},
   "outputs": [],
   "source": []
  }
 ],
 "metadata": {
  "kernelspec": {
   "display_name": "Python 3",
   "language": "python",
   "name": "python3"
  },
  "language_info": {
   "codemirror_mode": {
    "name": "ipython",
    "version": 3
   },
   "file_extension": ".py",
   "mimetype": "text/x-python",
   "name": "python",
   "nbconvert_exporter": "python",
   "pygments_lexer": "ipython3",
   "version": "3.5.4rc1"
  }
 },
 "nbformat": 4,
 "nbformat_minor": 2
}
