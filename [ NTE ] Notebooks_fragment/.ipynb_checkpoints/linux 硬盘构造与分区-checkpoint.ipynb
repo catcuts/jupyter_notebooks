{
 "cells": [
  {
   "cell_type": "markdown",
   "metadata": {},
   "source": [
    "\n",
    "　　[系统讲了硬盘构造与分区](https://www.cnblogs.com/ifantastic/p/3948088.html)——不过有时间还是要看[鸟哥的私房菜](http://cn.linux.vbird.org/linux_basic/0230filesystem.php#fdisk)。\n",
    "\n",
    "\n",
    "　　"
   ]
  },
  {
   "cell_type": "code",
   "execution_count": null,
   "metadata": {},
   "outputs": [],
   "source": []
  }
 ],
 "metadata": {
  "kernelspec": {
   "display_name": "Python 3",
   "language": "python",
   "name": "python3"
  },
  "language_info": {
   "codemirror_mode": {
    "name": "ipython",
    "version": 3
   },
   "file_extension": ".py",
   "mimetype": "text/x-python",
   "name": "python",
   "nbconvert_exporter": "python",
   "pygments_lexer": "ipython3",
   "version": "3.5.4rc1"
  }
 },
 "nbformat": 4,
 "nbformat_minor": 2
}
