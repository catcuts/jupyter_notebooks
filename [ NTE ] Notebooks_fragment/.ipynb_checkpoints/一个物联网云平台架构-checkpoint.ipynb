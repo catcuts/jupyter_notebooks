{
 "cells": [
  {
   "cell_type": "markdown",
   "metadata": {},
   "source": [
    "### 一、核心模块划分（`server/core/*`）\n",
    "\n",
    "　　主要模块放在 `server/core/` 目录，包括：\n",
    "\n",
    "1. **基类**\n",
    "    - 基类（`vigmodule.js`）  \n",
    "<br>\n",
    "2. **主体**\n",
    "    - 设备（`devices/*`）\n",
    "    - 服务（`services/*`）\n",
    "    - 应用（`app/*`）\n",
    "    - 平台（`platform/*`）  \n",
    "<br>\n",
    "3. **辅助**\n",
    "    - 常数（`const.js`）\n",
    "    - 缓存（`cache.js`）\n",
    "    - 日志（`logger.js`）\n",
    "    - 国际化（`i18n.js`）  \n",
    "<br>\n",
    "4. **通信**\n",
    "    - 总线（`eventbus/*`）\n",
    "    - 协议（`protocols/*`）  \n",
    "<br>\n",
    "5. **存储** \n",
    "    - 数据（`storage.js`）\n",
    "    - 资源（`resource.js`）\n",
    "    - 事务（`transactions.js`）  \n",
    "<br>\n",
    "6. **接口**\n",
    "    - API（`api/*`）\n",
    "\n",
    "### 二、周边模块划分（`server/!core/*`）\n",
    "\n",
    "　　周边模块放在 `server/` 目录（除了 `core/`），包括：\n",
    "\n",
    "1. **实例**\n",
    "    - 设备（`devices/*`）\n",
    "    - 服务（`services/*`）\n",
    "    - 应用（`apps/*`）  \n",
    "<br>\n",
    "2. **辅助**\n",
    "    - 配置（`settings/*`）\n",
    "    - 命令（`command/*`）\n",
    "    - 模板（`templates/*`）\n",
    "    - 文档（`docsites/*`）  \n",
    "<br>\n",
    "3. **工具**\n",
    "    - 工具（`utils/*`）  \n",
    "<br>\n",
    "4. **存储** \n",
    "    - 数据（`data/*`） \n",
    "    - 资源（`www/*`）  \n",
    "<br>\n",
    "5. **测试**\n",
    "    - 测试（`test/*`）  \n",
    "<br>\n",
    "6. **其他**\n",
    "    - 启动（`start.js`）\n",
    "    - 入口（`server.js`）\n",
    "    - 调试（`shell.js`）"
   ]
  },
  {
   "cell_type": "code",
   "execution_count": null,
   "metadata": {},
   "outputs": [],
   "source": []
  }
 ],
 "metadata": {
  "kernelspec": {
   "display_name": "Python 3",
   "language": "python",
   "name": "python3"
  },
  "language_info": {
   "codemirror_mode": {
    "name": "ipython",
    "version": 3
   },
   "file_extension": ".py",
   "mimetype": "text/x-python",
   "name": "python",
   "nbconvert_exporter": "python",
   "pygments_lexer": "ipython3",
   "version": "3.5.4rc1"
  }
 },
 "nbformat": 4,
 "nbformat_minor": 2
}
