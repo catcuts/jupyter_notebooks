{
 "cells": [
  {
   "cell_type": "markdown",
   "metadata": {},
   "source": [
    "\n",
    "按钮1：运行/继续 F5，真正的一步一步运行\n",
    "按钮2：单步跳过(又叫逐过程) F10，按语句单步执行。当有函数时，不会进入函数。\n",
    "按钮3：单步调试（又叫逐语句） F11：当有函数时，点击这个按钮，会进入这个函数内。\n",
    "按钮4：单步跳出 ⇧F11:如果有循环，点击该按钮，会执行到循环外面的语句。\n",
    "按钮5：重启 ⇧⌘F5：\n",
    "按钮5：停止 ⇧F5：\n",
    "\n",
    "注：以上所指跳过、进入或跳出的是函数如print()，而非循环体如for\n",
    "\n",
    "参考：[VSCode Debug模式下各图标 含义](https://www.cnblogs.com/36bian/p/7571802.html)\n"
   ]
  },
  {
   "cell_type": "code",
   "execution_count": null,
   "metadata": {},
   "outputs": [],
   "source": []
  }
 ],
 "metadata": {
  "kernelspec": {
   "display_name": "Python 3",
   "language": "python",
   "name": "python3"
  },
  "language_info": {
   "codemirror_mode": {
    "name": "ipython",
    "version": 3
   },
   "file_extension": ".py",
   "mimetype": "text/x-python",
   "name": "python",
   "nbconvert_exporter": "python",
   "pygments_lexer": "ipython3",
   "version": "3.6.5"
  }
 },
 "nbformat": 4,
 "nbformat_minor": 2
}
