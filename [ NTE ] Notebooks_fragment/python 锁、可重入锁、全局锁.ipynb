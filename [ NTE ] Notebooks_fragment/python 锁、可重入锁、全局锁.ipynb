{
 "cells": [
  {
   "cell_type": "markdown",
   "metadata": {},
   "source": [
    "\n",
    "多线程时，其中一个线程对一个变量加锁，则其它线程无法对该变量进行修改操作；\n",
    "\n",
    "只有当线程释放锁后，其它线程才能以竞争的方式获得该锁并用于加锁该变量，之后同上；\n",
    "\n",
    "需知：加锁后，使用完毕，必须释放，否则会造成死锁（其它线程一直堵塞在等待释放锁的阶段）；\n",
    "\n",
    "为什么需要可重入锁——同一线程在加锁后的嵌套中，又请求该锁，普通锁会造成死锁，因此需要可重入锁；\n",
    "\n",
    "可知，导致死锁的情况有 2 种：\n",
    "\n",
    "1. 同一线程，嵌套获取同把锁，造成死锁。\n",
    "2. 多个线程，不按顺序同时获取多个锁。造成死锁\n",
    "\n",
    "关于第 2 种，再举个例子：\n",
    "\n",
    "> 线程1，嵌套获取A,B两个锁，线程2，嵌套获取B,A两个锁。\n",
    ">\n",
    "> 由于两个线程是交替执行的，是有机会遇到线程1获取到锁A，而未获取到锁B，在同一时刻，线程2获取到锁B，而未获取到锁A。\n",
    ">\n",
    ">由于锁B已经被线程2获取了，所以线程1就卡在了获取锁B处，由于是嵌套锁，线程1未获取并释放B，是不能释放锁A的，这是导致线程2也获取不到锁A，也卡住了。\n",
    ">\n",
    "> 两个线程，各执一锁，各不让步。造成死锁。\n",
    "\n",
    "参考：\n",
    "[Python并发编程之谈谈线程中的“锁机制”（三）](https://juejin.im/post/5b17f4305188257d6b5cff6f)\n",
    "\n",
    "什么是 python 的全局锁？\n",
    "\n",
    "解释器被一个全局解释器锁保护着，它确保任何时候都只有一个Python线程执行。\n",
    "\n",
    "也就是说，100 核的 cpu 上，python 也只用到了 1 核。\n",
    "\n",
    "需知：GIL 存在于 CPython 但不一定在其它 python 解释器上。\n",
    "\n",
    "参考：\n",
    "[12.9 Python的全局锁问题](https://python3-cookbook.readthedocs.io/zh_CN/latest/c12/p09_dealing_with_gil_stop_worring_about_it.html)"
   ]
  },
  {
   "cell_type": "code",
   "execution_count": null,
   "metadata": {},
   "outputs": [],
   "source": []
  }
 ],
 "metadata": {
  "kernelspec": {
   "display_name": "Python 3",
   "language": "python",
   "name": "python3"
  },
  "language_info": {
   "codemirror_mode": {
    "name": "ipython",
    "version": 3
   },
   "file_extension": ".py",
   "mimetype": "text/x-python",
   "name": "python",
   "nbconvert_exporter": "python",
   "pygments_lexer": "ipython3",
   "version": "3.6.5"
  }
 },
 "nbformat": 4,
 "nbformat_minor": 2
}
