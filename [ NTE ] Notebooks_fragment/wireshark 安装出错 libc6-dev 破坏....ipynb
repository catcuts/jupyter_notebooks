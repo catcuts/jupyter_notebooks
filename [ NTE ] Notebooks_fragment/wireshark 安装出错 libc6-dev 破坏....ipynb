{
 "cells": [
  {
   "cell_type": "markdown",
   "metadata": {},
   "source": [
    "\n",
    "安装 wireshark 错误：\n",
    "\n",
    "```shell\n",
    "catcuts@catcuts-PC:~$ sudo apt-get install wireshark\n",
    "正在读取软件包列表... 完成\n",
    "正在分析软件包的依赖关系树       \n",
    "正在读取状态信息... 完成       \n",
    "有一些软件包无法被安装。如果您用的是 unstable 发行版，这也许是\n",
    "因为系统无法达到您要求的状态造成的。该版本中可能会有一些您需要的软件\n",
    "包尚未被创建或是它们已被从新到(Incoming)目录移出。\n",
    "下列信息可能会对解决问题有所帮助：\n",
    "\n",
    "下列软件包有未满足的依赖关系：\n",
    " libc6-dev : 破坏: libperl5.26 (< 5.26.1-3) 但是 5.26.0-4 正要被安装\n",
    "E: 错误，pkgProblemResolver::Resolve 发生故障，这可能是有软件包被要求保持现状的缘故。\n",
    "```\n",
    "\n",
    "解决：\n",
    "\n",
    "```shell\n",
    "sudo apt-get install libc-dev\n",
    "```\n",
    "\n",
    "参考：\n",
    "[【Deepin】安裝smartmontool報錯：libc6-dev : 破壞:](https://www.smwenku.com/a/5b8d7a5e2b717718833e4a72/)"
   ]
  },
  {
   "cell_type": "code",
   "execution_count": null,
   "metadata": {},
   "outputs": [],
   "source": []
  }
 ],
 "metadata": {
  "kernelspec": {
   "display_name": "Python 3",
   "language": "python",
   "name": "python3"
  },
  "language_info": {
   "codemirror_mode": {
    "name": "ipython",
    "version": 3
   },
   "file_extension": ".py",
   "mimetype": "text/x-python",
   "name": "python",
   "nbconvert_exporter": "python",
   "pygments_lexer": "ipython3",
   "version": "3.5.4rc1"
  }
 },
 "nbformat": 4,
 "nbformat_minor": 2
}
