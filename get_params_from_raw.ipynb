{
 "cells": [
  {
   "cell_type": "code",
   "execution_count": 1,
   "metadata": {},
   "outputs": [],
   "source": [
    "import re"
   ]
  },
  {
   "cell_type": "code",
   "execution_count": 2,
   "metadata": {},
   "outputs": [],
   "source": [
    "def get_real(value_str):\n",
    "    try:\n",
    "        return int(value_str)\n",
    "    except:\n",
    "        pass\n",
    "\n",
    "    try:\n",
    "        return float(value_str)\n",
    "    except:\n",
    "        pass\n",
    "\n",
    "    try:\n",
    "        if value_str.lower() == \"true\":\n",
    "            return True\n",
    "        elif value_str.lower() == \"false\":\n",
    "            return False\n",
    "    except:\n",
    "        pass\n",
    "\n",
    "    if value_str.startswith(\"'\") and value_str.endswith(\"'\"):\n",
    "        return value_str[1:-1]\n",
    "\n",
    "    return value_str"
   ]
  },
  {
   "cell_type": "code",
   "execution_count": 3,
   "metadata": {},
   "outputs": [],
   "source": [
    "def get_params(raw_params):\n",
    "    # raw_params = [\"1\", \"2.36\", \"x\", \"y\", \"a =1\", \"  b= '2'\", \"c=true  \", \"    d =  'z'        \", \"e=1.589\"]\n",
    "    # return:\n",
    "    # (args, kwargs)\n",
    "    # args = [1,2.36,\"x\",\"y\"]\n",
    "    # kwargs = {\"a\":1, \"b\": '2', \"c\": True, \"d\": 'z', \"e\": 1.589}\n",
    "    assert isinstance(raw_params, (list, tuple)), \"parameter `raw_params` shoule be a list or tuple\"\n",
    "    args, kwargs = [], {}\n",
    "    for raw_param in raw_params:\n",
    "        formated_raw_param = re.sub(r\"\\s*=\\s*\", \"=\", raw_param.strip())\n",
    "        kwarg_matched = re.search(r\"\\s*(.*)\\s*=\\s*(.*)\\s*\", formated_raw_param)\n",
    "        if kwarg_matched:\n",
    "            key, value = kwarg_matched.groups()\n",
    "            # value can be int, float, str, bool\n",
    "            kwargs[key] = get_real(value)\n",
    "        else:\n",
    "            args.append(get_real(raw_param))\n",
    "    return args, kwargs"
   ]
  },
  {
   "cell_type": "code",
   "execution_count": 4,
   "metadata": {},
   "outputs": [],
   "source": [
    "raw_params = [\"1\", \"2.36\", \"x\", \"y\", \"a =12501\", \"  b= '2080'\", \"c=true  \", \"    d =  'z'        \", \"e=1.589\"]"
   ]
  },
  {
   "cell_type": "code",
   "execution_count": 5,
   "metadata": {},
   "outputs": [
    {
     "name": "stdout",
     "output_type": "stream",
     "text": [
      "result:\n",
      " \targs:\n",
      " \t\t[1, 2.36, 'x', 'y']\n",
      " \tkwargs:\n",
      " \t\t{'a': 12501, 'b': '2080', 'd': 'z', 'c': True, 'e': 1.589}\n"
     ]
    }
   ],
   "source": [
    "result = get_params(raw_params)\n",
    "print(\"result:\\n \\\n",
    "\\targs:\\n \\\n",
    "\\t\\t%s\\n \\\n",
    "\\tkwargs:\\n \\\n",
    "\\t\\t%s\" % (result))"
   ]
  },
  {
   "cell_type": "code",
   "execution_count": null,
   "metadata": {},
   "outputs": [],
   "source": []
  }
 ],
 "metadata": {
  "kernelspec": {
   "display_name": "Python 3",
   "language": "python",
   "name": "python3"
  },
  "language_info": {
   "codemirror_mode": {
    "name": "ipython",
    "version": 3
   },
   "file_extension": ".py",
   "mimetype": "text/x-python",
   "name": "python",
   "nbconvert_exporter": "python",
   "pygments_lexer": "ipython3",
   "version": "3.5.2"
  }
 },
 "nbformat": 4,
 "nbformat_minor": 2
}
