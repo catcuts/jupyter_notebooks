{
 "cells": [
  {
   "cell_type": "code",
   "execution_count": 1,
   "metadata": {},
   "outputs": [],
   "source": [
    "import re"
   ]
  },
  {
   "cell_type": "code",
   "execution_count": 2,
   "metadata": {},
   "outputs": [],
   "source": [
    "def get_param(params, name, default=None):\n",
    "        if not params:\n",
    "            return default\n",
    "        param = default\n",
    "        matched = re.search(r\"--%s=\\s*([^\\s]+)\" % name, params)\n",
    "        if matched:\n",
    "            param = matched.groups()[0]\n",
    "        try:\n",
    "            if str(param).lower() == \"true\":\n",
    "                return True\n",
    "            elif str(param).lower() == \"false\":\n",
    "                return False\n",
    "        except:\n",
    "            pass\n",
    "        try:\n",
    "            param = int(param)\n",
    "        except:\n",
    "            pass\n",
    "        return param"
   ]
  },
  {
   "cell_type": "markdown",
   "metadata": {},
   "source": [
    "### Test"
   ]
  },
  {
   "cell_type": "code",
   "execution_count": 13,
   "metadata": {},
   "outputs": [
    {
     "name": "stdout",
     "output_type": "stream",
     "text": [
      "cmd params:  --show=''\n"
     ]
    }
   ],
   "source": [
    "cmd = \"config --show=''\"\n",
    "\n",
    "cmd_matched_config = re.match(r\"\\s*config((?:\\s+--[^=]+\\s*(?:=.+)*)*)\", cmd)\n",
    "if cmd_matched_config:\n",
    "    params = cmd_matched_config.groups()[0]\n",
    "    print(\"cmd params: %s\" % params)"
   ]
  },
  {
   "cell_type": "code",
   "execution_count": 14,
   "metadata": {},
   "outputs": [
    {
     "name": "stdout",
     "output_type": "stream",
     "text": [
      "param `show`: ''\n"
     ]
    }
   ],
   "source": [
    "param = get_param(params, \"show\")\n",
    "print(\"param `show`: %s\" % param)"
   ]
  },
  {
   "cell_type": "code",
   "execution_count": null,
   "metadata": {},
   "outputs": [],
   "source": []
  }
 ],
 "metadata": {
  "kernelspec": {
   "display_name": "Python 3",
   "language": "python",
   "name": "python3"
  },
  "language_info": {
   "codemirror_mode": {
    "name": "ipython",
    "version": 3
   },
   "file_extension": ".py",
   "mimetype": "text/x-python",
   "name": "python",
   "nbconvert_exporter": "python",
   "pygments_lexer": "ipython3",
   "version": "3.5.2"
  }
 },
 "nbformat": 4,
 "nbformat_minor": 2
}
