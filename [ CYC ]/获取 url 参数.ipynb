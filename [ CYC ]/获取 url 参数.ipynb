{
 "cells": [
  {
   "cell_type": "code",
   "execution_count": 1,
   "metadata": {},
   "outputs": [],
   "source": [
    "var sUrl = 'http://www.nowcoder.com?key=1&key=2&key=3&test=4&meow=#hehe'"
   ]
  },
  {
   "cell_type": "code",
   "execution_count": 2,
   "metadata": {},
   "outputs": [],
   "source": [
    "function getUrlParam(sUrl, sKey) {\n",
    "    if (sUrl.indexOf('?') === -1) { return {} }\n",
    "    var paramsStr = sUrl.slice(sUrl.indexOf('?') + 1, sUrl.indexOf('#'))\n",
    "    var paramsLst = paramsStr.split('&')\n",
    "    var params = {}\n",
    "    console.log(paramsLst)\n",
    "    for (var paramKeyValStr of paramsLst) {\n",
    "        var paramKeyVal = paramKeyValStr.split('=')\n",
    "        var paramKey = paramKeyVal[0]\n",
    "        var paramVal = paramKeyVal[1]\n",
    "        paramVal = Number(paramVal) ? Number(paramVal) : paramVal\n",
    "        existedParamVal = params[paramKey]\n",
    "        if (existedParamVal) {\n",
    "            params[paramKey] = [].concat(existedParamVal, paramVal)\n",
    "        } else {\n",
    "            params[paramKey] = paramVal\n",
    "        }\n",
    "    }\n",
    "    return sKey === undefined ? params : (params[sKey] || '') \n",
    "}"
   ]
  },
  {
   "cell_type": "code",
   "execution_count": 3,
   "metadata": {},
   "outputs": [
    {
     "name": "stdout",
     "output_type": "stream",
     "text": [
      "[ 'key=1', 'key=2', 'key=3', 'test=4', 'meow=' ]\n"
     ]
    },
    {
     "data": {
      "text/plain": [
       "[ 1, 2, 3 ]"
      ]
     },
     "execution_count": 3,
     "metadata": {},
     "output_type": "execute_result"
    }
   ],
   "source": [
    "var sKey = 'key'\n",
    "getUrlParam(sUrl, sKey)"
   ]
  },
  {
   "cell_type": "code",
   "execution_count": 4,
   "metadata": {},
   "outputs": [
    {
     "name": "stdout",
     "output_type": "stream",
     "text": [
      "[ 'key=1', 'key=2', 'key=3', 'test=4', 'meow=' ]\n"
     ]
    },
    {
     "data": {
      "text/plain": [
       "4"
      ]
     },
     "execution_count": 4,
     "metadata": {},
     "output_type": "execute_result"
    }
   ],
   "source": [
    "sKey = 'test'\n",
    "getUrlParam(sUrl, sKey)"
   ]
  },
  {
   "cell_type": "code",
   "execution_count": 5,
   "metadata": {},
   "outputs": [
    {
     "name": "stdout",
     "output_type": "stream",
     "text": [
      "[ 'key=1', 'key=2', 'key=3', 'test=4', 'meow=' ]\n"
     ]
    },
    {
     "data": {
      "text/plain": [
       "''"
      ]
     },
     "execution_count": 5,
     "metadata": {},
     "output_type": "execute_result"
    }
   ],
   "source": [
    "sKey = 'abc'\n",
    "getUrlParam(sUrl, sKey)"
   ]
  },
  {
   "cell_type": "code",
   "execution_count": 6,
   "metadata": {},
   "outputs": [
    {
     "name": "stdout",
     "output_type": "stream",
     "text": [
      "[ 'key=1', 'key=2', 'key=3', 'test=4', 'meow=' ]\n"
     ]
    },
    {
     "data": {
      "text/plain": [
       "{ key: [ 1, 2, 3 ], test: 4, meow: '' }"
      ]
     },
     "execution_count": 6,
     "metadata": {},
     "output_type": "execute_result"
    }
   ],
   "source": [
    "getUrlParam(sUrl)"
   ]
  },
  {
   "cell_type": "code",
   "execution_count": 7,
   "metadata": {},
   "outputs": [
    {
     "name": "stdout",
     "output_type": "stream",
     "text": [
      "[ 'key=1', 'key=2', 'key=3', 'test=4', 'meow=' ]\n"
     ]
    },
    {
     "data": {
      "text/plain": [
       "''"
      ]
     },
     "execution_count": 7,
     "metadata": {},
     "output_type": "execute_result"
    }
   ],
   "source": [
    "sKey = 'meow'\n",
    "getUrlParam(sUrl, sKey)"
   ]
  },
  {
   "cell_type": "code",
   "execution_count": 8,
   "metadata": {},
   "outputs": [
    {
     "data": {
      "text/plain": [
       "{}"
      ]
     },
     "execution_count": 8,
     "metadata": {},
     "output_type": "execute_result"
    }
   ],
   "source": [
    "sUrl2 = 'http://www.nowcoder.com'\n",
    "getUrlParam(sUrl2)"
   ]
  },
  {
   "cell_type": "code",
   "execution_count": null,
   "metadata": {},
   "outputs": [],
   "source": []
  },
  {
   "cell_type": "code",
   "execution_count": null,
   "metadata": {},
   "outputs": [],
   "source": []
  }
 ],
 "metadata": {
  "kernelspec": {
   "display_name": "Javascript (Node.js)",
   "language": "javascript",
   "name": "javascript"
  },
  "language_info": {
   "file_extension": ".js",
   "mimetype": "application/javascript",
   "name": "javascript",
   "version": "8.11.1"
  }
 },
 "nbformat": 4,
 "nbformat_minor": 2
}
