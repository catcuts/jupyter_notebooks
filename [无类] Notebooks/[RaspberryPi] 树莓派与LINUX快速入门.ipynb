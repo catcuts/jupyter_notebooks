{
 "cells": [
  {
   "cell_type": "markdown",
   "metadata": {},
   "source": [
    "# 树莓派与LINUX快速入门"
   ]
  },
  {
   "cell_type": "markdown",
   "metadata": {},
   "source": [
    "## 目录\n",
    "**一、树莓派入门**\n",
    "  1. 什么是树莓派\n",
    "  2. 树莓派能做什么？\n",
    "  3. 树莓派实战\n",
    "\n",
    "**二、Linux入门**\n",
    "  1. 什么是Linux？\n",
    "  2. Linux能做什么？\n",
    "  3. Linux Shell 实战"
   ]
  },
  {
   "cell_type": "markdown",
   "metadata": {},
   "source": [
    "## 一、树莓派入门"
   ]
  },
  {
   "cell_type": "markdown",
   "metadata": {},
   "source": [
    "### 1. 什么是树莓派?"
   ]
  },
  {
   "cell_type": "markdown",
   "metadata": {},
   "source": [
    "　　**1) 小型电脑**，运行 unix 或 unix-like 系统 <sub>（解释）</sub>  \n",
    "\n",
    "　　**2) 性价比高**，价格300元左右，并且在一些应用场合中具备足够的性能 <sub>（举例: 搭建个人翻墙服务器, 对比租用搬瓦工服务器）</sub>  \n",
    "　　　　这意味着，在某些应用场合中，树莓派的性价比很高。对于 IPtalk 产品, 树莓派为不愿意自行购买服务器的客户提供了可选项。\n",
    "\n",
    "　　**3) 结构** （[详细参数](http://www.waveshare.net/shop/RPi3-B.htm)）\n",
    "　　　　![](http://orih6r7i8.bkt.clouddn.com/structure%20of%20rpi.jpg)"
   ]
  },
  {
   "cell_type": "markdown",
   "metadata": {},
   "source": [
    "### 2. 树莓派能做什么?\n",
    "　　**1) 学习 Linux**：有助测试和运维提高（如果想学 Linux, 一个选择是租用服务器, 另一个选择就是购买一块树莓派）\n",
    "    \n",
    "　　**2) 服务器**：运行所需程序（比如 iptalk 程序） \n",
    "\n",
    "　　**3) DIY**：作为核心材料（有兴趣的话, 可以谷歌搜索）"
   ]
  },
  {
   "cell_type": "markdown",
   "metadata": {},
   "source": [
    "### 3. 如何使用树莓派? —— 快速入门指南\n",
    "　　**1) 硬件准备**：一块树莓派及其基本辅件（SD卡、电源线、网线）\n",
    "\n",
    "　　**2) 软件准备**：从[官网]((https://www.raspberrypi.org/downloads/)下载镜像\n",
    "\n",
    "　　**3) 安装系统**：将镜像写入到 SD 卡（使用 SDFormatter 和 Win32DiskImager）\n",
    "  \n",
    "　　**3) 常规配置**：写入完毕后，设置 IP 并开启 ssh 服务\n",
    "\n",
    "　　**4) 开机访问**：上电开机，通过 ssh 访问树莓派\n",
    "\n",
    "　　**5) 重启关机**：`shutdown` 或 `reboot` 或 `poweroff` <sub>（解释）</sub>\n",
    "\n",
    "　　**6) 实战部分** <sub>（场景|实践）</sub>\n",
    "  \n",
    "　　　　**1. 配置网络**：编辑 `/etc/dhcpcd.conf`\n",
    "      \n",
    "　　　　**2. 检查网络**：`curl www.baidu.com`\n",
    "    \n",
    "　　　　**3. 查看进程**：`ps -aux | grep <进程名>`  \n",
    "　　　　　　　　 **注**：\\-aux 显示所有包含其他使用者的行程（详见 [Linux Tools Quick Tutorial - ps 进程查看器](http://linuxtools-rst.readthedocs.io/zh_CN/latest/tool/ps.html)）\n",
    "\n",
    "　　　　**4. 杀死进程**：`kill -9 <PID>`  \n",
    "　　　　　　　　 **注**：  \n",
    "　　　　　　　　 　　· `-9` 表示 杀死相关进程（详见 [Linux Tools Quick Tutorial - 进程管理工具](http://linuxtools-rst.readthedocs.io/zh_CN/latest/base/05_process_manage.html)）  \n",
    "　　　　　　　　 　　· <PID> 为 ps 命令查询得到的进程 ID\n",
    "                \n",
    "　　　　**5. 开机运行**：编辑 `/etc/rc.local` <sub>（设置 iptalk 开机运行）</sub>\n",
    "\n",
    "　　　　**6. 安装/卸载软件**：`apt-get` 或 `apitude` （`apitude` 可认为是 `apt-get` 的升级）  \n",
    "　　　　　　　　　　　　—— use command apt-get or apitude  \n",
    "　　　　　　　　　　　　—— eg.: sudo apitude install -y mysql-server  # install mysql-server for iptalk  \n",
    "　　　　　　　　　　　　(whaty sudo? whaty -y? why not apt-get —— based on best practice on RPi, not for all linux releases)  \n",
    "\n",
    "　　　　**7. 配置并开启防火墙**：`ufw enable` 常见配置：(详见手册：[中文版](http://wiki.ubuntu.org.cn/Ufw%E4%BD%BF%E7%94%A8%E6%8C%87%E5%8D%97) | [英文版](https://help.ubuntu.com/community/UFW))\n",
    "```shell\n",
    "sudo ufw allow from 10.0.0.0/8 to any port 22 && \\\n",
    "sudo ufw allow from 172.16.0.0/12 to any port 22 && \\\n",
    "sudo ufw allow from 192.168.0.0/16 to any port 22 && \\\n",
    "sudo ufw --force enable deny from any to any port 2 && \\\n",
    "sudo ufw allow from any to any\n",
    "```\n",
    "\n",
    "　　　　**8. 不要忽略运行输出**：可能有些关键的错误或警告包含在内，并且需要引起注意 <sub>（比如按照指导运行一个脚本，出现了意外）</sub>\n",
    "\n",
    "　　　　**9. 使用 shell 脚本自动化所需工作**：下一节<sub>（例如上述配置防火墙，一条一条配置很繁琐）</sub>\n",
    "\n",
    "　　　　**10. 如何挂载移动硬盘或U盘到树莓派上？**：留作作业。（搜索或问人，最终目标是在树莓派上读写移动硬盘或U盘）\n",
    "\n",
    "　　**7) 树莓派相关资源**  \n",
    "　　　　**1. 官网**: [www.raspberrypi.org](www.raspberrypi.org)  \n",
    "　　　　**2. 搜索引擎**: [www.google.com](www.google.com)  \n",
    "　　　　**3. Linux**：[Linux私房菜](http://cn.linux.vbird.org/) [Linux工具快速教程](http://linuxtools-rst.readthedocs.io/zh_CN/latest/index.html)"
   ]
  },
  {
   "cell_type": "markdown",
   "metadata": {},
   "source": [
    "## 二、Linux入门"
   ]
  },
  {
   "cell_type": "markdown",
   "metadata": {},
   "source": [
    "### 1. 什么是Linux?"
   ]
  },
  {
   "cell_type": "markdown",
   "metadata": {},
   "source": [
    "　　简而言之，Linux 是操作系统的一种，类似常用的 Windows。二者的区别在于，使用文化上的区别。  \n",
    "　　Linux 崇尚开源精神，自己动手丰衣足食，它与使用者的关系是无责任协作关系。目前已有多个基于 Linux 内核的发行版。  \n",
    "　　Windows 则注重服务和盈利，与使用者的关系是服务供应商和客户的关系，用户需要购买，才能获得相应的软件和服务。"
   ]
  },
  {
   "cell_type": "markdown",
   "metadata": {},
   "source": [
    "### 2. Linux能做什么?"
   ]
  },
  {
   "cell_type": "markdown",
   "metadata": {},
   "source": [
    "　　所有一个计算机操作系统能做的事。如文档编辑、远程通讯、学习娱乐、软件开发等。"
   ]
  },
  {
   "cell_type": "markdown",
   "metadata": {},
   "source": [
    "### 3. 为什么要用Linux，Windows不好吗?"
   ]
  },
  {
   "cell_type": "markdown",
   "metadata": {},
   "source": [
    "　　选择 Linux 是源于需求，需求来自于痛点。  \n",
    "　　对于 IPTALK 服务器的部署，客户的痛点在于：需要自己提供服务器。  \n",
    "　　如何解决呢，就是为客户提供一个服务器，但是性能又不必太强大，树莓派就刚好。  \n",
    "　　所以选择了树莓派，树莓派运行的是 Linux 系统，所以我们就用上了 Linux 系统。  \n",
    "　　注：树莓派3B目前能运行 Windows 10 IoT Core 系统 —— 微软为物联网研发的专用版，且完全免费。  \n",
    "　　（更多参考：[Ubuntu/Linux与Windows的区别](Ubuntu/Linux与Windows的区别)）"
   ]
  },
  {
   "cell_type": "markdown",
   "metadata": {},
   "source": [
    "### 4. 使用 Linux Shell 脚本"
   ]
  },
  {
   "cell_type": "markdown",
   "metadata": {},
   "source": [
    "　　**1) 新建一个文件并打开**：`nano hello.sh`  \n",
    "　　**2) 内容写上**：\n",
    "\n",
    "```shell\n",
    "#!/bin/sh\n",
    "# #!/bin/sh 或 #!/bin/bash 称为 shebang\n",
    "# 它声明了这个脚本要用什么解释器来解释并运行\n",
    "# #!/bin/sh 表示用 /bin/sh 程序来解释这个脚本\n",
    "# 一般 linux 里都装有 /bin/sh 这个软件，所以 #!/bin/sh 兼容性比较好\n",
    "\n",
    "# 本脚本实现功能：\n",
    "# 在当前文件夹下，如果不存在 hello.txt 则新建一个\n",
    "# 新建完后，往 hello.txt 里写入 hello world\n",
    "# 期间增加一些提示信息，如“文件已存在”“文件已创建”\n",
    "\n",
    "HELLO_FILE=./hello.txt  # 变量赋值 ./ 表示当前文件夹下\n",
    "\n",
    "if [ ! -f $HELLO_FILE ]; then\n",
    "    # 如果文件不存在\n",
    "    touch $HELLO_FILE  # 则新建一个文件\n",
    "    echo \"$HELLO_FILE 已创建\"\n",
    "else\n",
    "    echo \"$HELLO_FILE 已存在\"  # 已存在，不新建\n",
    "fi\n",
    "\n",
    "HELLO_FILE_RP=`readlink -f $HELLO_FILE`  # 获得 ./hello.txt 的完整路径\n",
    "\n",
    "echo 'hello world' > $HELLO_FILE  # > 表示覆盖写入，>> 表示追加到最后一行  \n",
    "\n",
    "# 多行文本如何书写\n",
    "echo \"$HELLO_FILE_RP \\\n",
    "写入完成\"  # 注意：要用双引号\n",
    "\n",
    "echo '再见'  # 提示“再见”\n",
    "```\n",
    "\n",
    "　　**3) 保存退出**：`crlt+x y ┘`  \n",
    "　　**4) 运行**：`bash hello.sh` <sub>（或者加权限 `chmod +x hello.sh` 后运行：`hello.sh`）</sub>   \n",
    "　　**5) Linux相关资源**   \n",
    "　　　　**1. 搜索引擎**: [www.google.com](www.google.com)  \n",
    "　　　　**2. 学习材料**：  \n",
    "　　　　　　　　· [Linux Shell 教程](https://wenku.baidu.com/view/a41f837acaaedd3383c4d3b4.html)  \n",
    "　　　　　　　　· [Linux私房菜](http://cn.linux.vbird.org/)  \n",
    "　　　　　　　　· [Linux工具快速教程](http://linuxtools-rst.readthedocs.io/zh_CN/latest/index.html)"
   ]
  },
  {
   "cell_type": "code",
   "execution_count": null,
   "metadata": {},
   "outputs": [],
   "source": []
  }
 ],
 "metadata": {
  "kernelspec": {
   "display_name": "Python 3",
   "language": "python",
   "name": "python3"
  },
  "language_info": {
   "codemirror_mode": {
    "name": "ipython",
    "version": 3
   },
   "file_extension": ".py",
   "mimetype": "text/x-python",
   "name": "python",
   "nbconvert_exporter": "python",
   "pygments_lexer": "ipython3",
   "version": "3.5.4rc1"
  }
 },
 "nbformat": 4,
 "nbformat_minor": 2
}
