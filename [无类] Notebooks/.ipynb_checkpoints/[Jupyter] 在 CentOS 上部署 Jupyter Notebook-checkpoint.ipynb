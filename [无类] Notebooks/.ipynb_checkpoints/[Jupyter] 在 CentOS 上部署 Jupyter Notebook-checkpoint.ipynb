{
 "cells": [
  {
   "cell_type": "markdown",
   "metadata": {},
   "source": [
    "# 在 CentOS 上部署 Jupyter Notebook"
   ]
  },
  {
   "cell_type": "markdown",
   "metadata": {},
   "source": [
    "**目录**\n",
    "* [安装 Python3](#安装Python3)\n",
    "* [安装 Jupyter](#安装Jupyter)\n",
    "* [安装 Nodejs](#安装Nodejs)\n",
    "* [安装 IJavascript](#安装IJavascript)\n",
    "* [安装 插件与主题](#安装插件与主题)"
   ]
  },
  {
   "cell_type": "markdown",
   "metadata": {},
   "source": [
    "## 安装 Python3"
   ]
  },
  {
   "cell_type": "markdown",
   "metadata": {},
   "source": [
    "> 参考 [CentOS 6 下安装Python 3](https://imxylz.com/blog/2013/11/05/install-python-3-on-centos-6/)"
   ]
  },
  {
   "cell_type": "markdown",
   "metadata": {},
   "source": [
    "## 安装 Jupyter"
   ]
  },
  {
   "cell_type": "markdown",
   "metadata": {},
   "source": [
    "> 参考 [基本安装](http://jupyter.org/install)  \n",
    "配置：[CentOS 7 搭建 IPython Notebook](http://blog.topspeedsnail.com/archives/7321)  \n",
    "或 [在 Linux VPS 上搭建云端 Jupyter Notebook](http://www.codebelief.com/article/2017/06/run-remote-jupyter-notebook-on-linux-vps/)"
   ]
  },
  {
   "cell_type": "markdown",
   "metadata": {},
   "source": [
    "到目前为止你已经可以运行 Jupyter Notebook 了  \n",
    "但只有 Python3 内核。接下来安装 Javascript 内核。"
   ]
  },
  {
   "cell_type": "markdown",
   "metadata": {},
   "source": [
    "## 安装 Nodejs"
   ]
  },
  {
   "cell_type": "markdown",
   "metadata": {},
   "source": [
    "> 参考 [How To Install Node.js on a CentOS 7 server](https://www.digitalocean.com/community/tutorials/how-to-install-node-js-on-a-centos-7-server) 但有改动\n",
    "\n",
    "```shell\n",
    "wget https://nodejs.org/dist/v8.11.1/node-v8.11.1-linux-x86.tar.gz \\\n",
    "sudo tar --strip-components 1 -xzvf node-v* -C /usr/local \\\n",
    "node -v \\\n",
    "npm -v\n",
    "```"
   ]
  },
  {
   "cell_type": "markdown",
   "metadata": {},
   "source": [
    "## 安装 IJavascript"
   ]
  },
  {
   "cell_type": "markdown",
   "metadata": {},
   "source": [
    "> 参考 [n-riesco/ijavascript](https://github.com/n-riesco/ijavascript) 它是官方的，但遇到问题还不够  \n",
    "解决权限问题：[How to Prevent Permissions Errors](https://docs.npmjs.com/getting-started/fixing-npm-permissions) 注意不要以 root 用户操作以及 profile 在 /etc 下  \n",
    "另外，你可能会碰到 gcc 版本问题：[Failed to install in Centos 6.8](https://github.com/Automattic/node-canvas/issues/786)  \n",
    "解决之道：[How to Install gcc 4.7.x/4.8.x on CentOS](https://superuser.com/a/743163)  \n",
    "参考自：[centos 6.x x86_64装nodejs模块ws](https://my.oschina.net/wwfifi/blog/525771)  \n",
    "终于装好了，打开一看竟然报错：[ijskernel not found 啊](https://github.com/nteract/hydrogen/issues/1222) 原因竟在于 ...  \n",
    "\n",
    "```shell\n",
    "wget http://people.centos.org/tru/devtools-2/devtools-2.repo -O /etc/yum.repos.d/devtools-2.repo \\\n",
    "yum install devtoolset-2-gcc devtoolset-2-binutils devtoolset-2-gcc-c++ \\\n",
    "\n",
    "mkdir ~/.npm-global \\\n",
    "npm config set prefix '~/.npm-global' \\\n",
    "export PATH=~/.npm-global/bin:$PATH \\\n",
    "source /etc/profile \\\n",
    "\n",
    "env CC=/opt/rh/devtoolset-2/root/usr/bin/gcc CXX=/opt/rh/devtoolset-2/root/usr/bin/g++ npm install -g ijavascript \\\n",
    "ijsinstall --spec-path=full  # 原因就在于此\n",
    "```"
   ]
  },
  {
   "cell_type": "markdown",
   "metadata": {},
   "source": [
    "## 安装插件与主题\n",
    "> 参考 [Jupyter notebook 安装与配置，插件扩展，主题，PDF输出](http://www.cnblogs.com/McKean/p/6249112.html)  \n",
    "和 [Jupyter DashBoards 另类全家桶](https://www.jianshu.com/p/e872aad33eeb)"
   ]
  },
  {
   "cell_type": "code",
   "execution_count": null,
   "metadata": {},
   "outputs": [],
   "source": []
  }
 ],
 "metadata": {
  "kernelspec": {
   "display_name": "Python 3",
   "language": "python",
   "name": "python3"
  },
  "language_info": {
   "codemirror_mode": {
    "name": "ipython",
    "version": 3
   },
   "file_extension": ".py",
   "mimetype": "text/x-python",
   "name": "python",
   "nbconvert_exporter": "python",
   "pygments_lexer": "ipython3",
   "version": "3.5.2"
  }
 },
 "nbformat": 4,
 "nbformat_minor": 2
}
