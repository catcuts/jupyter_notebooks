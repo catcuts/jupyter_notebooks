{
 "cells": [
  {
   "cell_type": "markdown",
   "metadata": {},
   "source": [
    "> 整理来源：[十分钟搞清字符集和字符编码](http://cenalulu.github.io/linux/character-encoding/)"
   ]
  },
  {
   "cell_type": "markdown",
   "metadata": {},
   "source": [
    "### 一、什么是字符集\n",
    "**字符集**是一套从存储值到字符的解析规则，包括 <u>字库表</u> <u>编码字符集</u> <u>字符编码</u> 。  \n",
    "\n",
    "**字库表**：放所有可显示的字符；  \n",
    "\n",
    "**编码字符集**：放地址，表示上述字符的位置；  \n",
    "编码字符集包括 Unicode ASCII 等。  \n",
    "\n",
    "**字符编码**：编码字符集和实际存储值之间转换关系。  \n",
    "字符编码包括 UTF-8 GBK 等。  "
   ]
  },
  {
   "cell_type": "markdown",
   "metadata": {},
   "source": [
    "**为什么需要字符编码，而不是直接存储编码字符集？**  \n",
    "因为对特定地区，并不需要字库表中所有的字，而只需要一部分。通过字符编码，就可以将那一部分不需要的字过滤掉，节省了存储空间（以字符编码的方式存储）。如中国的gbk和国际上的utf-8。utf-8编码中原本只需要一个字节的ASCII字符，仍只占一个字节。  "
   ]
  },
  {
   "cell_type": "markdown",
   "metadata": {},
   "source": [
    "**进一步理解**：编码字符集中的 <u>字符地址</u> 是由 <u>存储值</u> 通过 <u>字符编码</u> 推导出来的。  \n",
    "所以实际占用空间的只有 <u>字库表</u> 和 <u>字符编码（可能主要是表）</u>。  \n",
    "<u>字符地址</u> 对应 <u>字库表</u> 的 <u>字符位置</u>， 字符地址的数量 取决于 <u>字符编码算法</u> ，<u>存储值格式</u> 亦然。  \n",
    "因此 不同的字符编码 要求的 存储值单位长度 和 字符库 不一样。  \n",
    "于是 <u>不同的地区</u> 采取 <u>不同的字符编码</u> ，就为 <u>优化存储值单位长度和字符库大小</u> 提供了可能。"
   ]
  },
  {
   "cell_type": "markdown",
   "metadata": {},
   "source": [
    "### 二、UTF-8 与 Unicode 的关系\n",
    "Unicode 就是上文中提到的编码字符集，而 UTF-8 就是字符编码，即 Unicode 规则字库的一种实现形式。  \n",
    "随着互联网的发展，对同一字库集的要求越来越迫切， Unicode 标准也就自然而然的出现。  \n",
    "Unicode 几乎涵盖了各个国家语言可能出现的符号和文字，并将为他们编号。详见：Unicode on Wikipedia。  \n",
    "Unicode 的编号从 0000 开始一直到 10FFFF 共分为 17 个 Plane ，每个 Plane 中有 65536 个字符。  \n",
    "UTF-8 只实现了第一个 Plane (\\u0000-\\uFFFF 区段)。  \n",
    "可见 UTF-8 虽然是一个当今接受度最广的字符集编码，但是它并没有涵盖整个Unicode的字库，这也造成了它在某些场景下对于特殊字符的处理困难。  \n",
    "如 Emoji (一种在 Unicode 位于 \\u1F601-\\u1F64F 区段的字符)\n"
   ]
  },
  {
   "cell_type": "markdown",
   "metadata": {},
   "source": [
    "### 三、[继续阅读](http://cenalulu.github.io/linux/character-encoding/)"
   ]
  },
  {
   "cell_type": "markdown",
   "metadata": {},
   "source": [
    "### 四、python 3 例子"
   ]
  },
  {
   "cell_type": "code",
   "execution_count": 1,
   "metadata": {},
   "outputs": [],
   "source": [
    "import sys"
   ]
  },
  {
   "cell_type": "code",
   "execution_count": 2,
   "metadata": {},
   "outputs": [
    {
     "name": "stdout",
     "output_type": "stream",
     "text": [
      "@python3: s = '你好', s == u'你好' != <u or not>'你好的utf-8编码' is True\n",
      "你好\n",
      "b'\\xc4\\xe3\\xba\\xc3'\n"
     ]
    }
   ],
   "source": [
    "s = '你好' # python3 中 str 类型相当于 python2 中 unicode 类型(即已经解码成 unicode 编码),\n",
    "           # 因此 s = '你好' 即 s = u'你好' (如果第一行声明为 utf-8 编码, 否则按默认编码方式)\n",
    "\n",
    "if s == u'你好' and s != '\\xe4\\xbd\\xa0\\xe5\\xa5\\xbd' and s != u'\\xe4\\xbd\\xa0\\xe5\\xa5\\xbd':\n",
    "    print(\"@python3: s = '你好', s == u'你好' != <u or not>'你好的utf-8编码' is True\")\n",
    "    # 检验: '你好' == u'你好' => True\n",
    "\n",
    "print(s) # python3 中 print 不解码, 来什么打印什么,\n",
    "         # 所以这里就是 print('你好') 或 print(u'你好')\n",
    "\n",
    "ss = s.encode('gbk') # 正确 ss 被编码成 byte\n",
    "                     # 即 ss = b'\\xc4\\xe3\\xba\\xc3'\n",
    "\n",
    "# ss = s.decode('utf8').encode('gbk') # 报错: python3: str --(encode)--> byte --(decode)--> str\n",
    "\n",
    "print(ss) # python3 中 print 不解码, 来什么打印什么,\n",
    "          # 所以这里就是 print(b'\\xc4\\xe3\\xba\\xc3') 打印出来就是 b'\\xc4\\xe3\\xba\\xc3'"
   ]
  },
  {
   "cell_type": "markdown",
   "metadata": {},
   "source": [
    "### 五、参考"
   ]
  },
  {
   "cell_type": "markdown",
   "metadata": {},
   "source": [
    "[十分钟搞清字符集和字符编码](http://cenalulu.github.io/linux/character-encoding/)  \n",
    "[Python 编码转换与中文处理](http://www.jianshu.com/p/53bb448fe85b)  \n",
    "[Python 3.5 如何对中文字符串进行处理?](https://segmentfault.com/q/1010000004926244/a-1020000004936807)  \n",
    "[Python2 与 Python3 的编码对比](http://kuanghy.github.io/2016/10/15/encoding-python2-vs-python3)  \n",
    "[Python字符编码详解](http://www.cnblogs.com/huxi/archive/2010/12/05/1897271.html)  \n",
    "[python3新特性 字符串方面的变化【整理】关于Python脚本开头两行的：#!/usr/bin/python和# -- coding: utf-8 --的作用 – 指定文件编码类型](https://www.crifan.com/python_head_meaning_for_usr_bin_python_coding_utf-8/)"
   ]
  },
  {
   "cell_type": "code",
   "execution_count": 18,
   "metadata": {},
   "outputs": [
    {
     "name": "stdout",
     "output_type": "stream",
     "text": [
      "喵\n"
     ]
    }
   ],
   "source": [
    "a = b'\\xE5\\x96\\xB5'\n",
    "print(a.decode('utf-8'))"
   ]
  },
  {
   "cell_type": "code",
   "execution_count": null,
   "metadata": {},
   "outputs": [],
   "source": []
  }
 ],
 "metadata": {
  "kernelspec": {
   "display_name": "Python 3",
   "language": "python",
   "name": "python3"
  },
  "language_info": {
   "codemirror_mode": {
    "name": "ipython",
    "version": 3
   },
   "file_extension": ".py",
   "mimetype": "text/x-python",
   "name": "python",
   "nbconvert_exporter": "python",
   "pygments_lexer": "ipython3",
   "version": "3.5.4rc1"
  }
 },
 "nbformat": 4,
 "nbformat_minor": 2
}
