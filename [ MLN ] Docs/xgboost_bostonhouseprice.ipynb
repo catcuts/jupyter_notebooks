{
 "cells": [
  {
   "cell_type": "markdown",
   "metadata": {},
   "source": [
    "## xgboost用法速查表\n",
    "### by 《网易云课程 x 稀牛学院 机器学习工程师微专业》寒小阳"
   ]
  },
  {
   "cell_type": "markdown",
   "metadata": {},
   "source": [
    "#### 1.读取libsvm格式数据并指定参数建模\n",
    "\n",
    "**by《网易云课程 x 稀牛学院 机器学习工程师微专业》 寒小阳**"
   ]
  },
  {
   "cell_type": "code",
   "execution_count": 18,
   "metadata": {},
   "outputs": [
    {
     "name": "stdout",
     "output_type": "stream",
     "text": [
      "Load data...\n",
      "[0]\teval-rmse:0.864868\ttrain-rmse:0.868291\n",
      "[1]\teval-rmse:0.68519\ttrain-rmse:0.680458\n",
      "[2]\teval-rmse:0.557824\ttrain-rmse:0.537732\n",
      "[3]\teval-rmse:0.469427\ttrain-rmse:0.427458\n",
      "[4]\teval-rmse:0.40723\ttrain-rmse:0.343512\n",
      "[5]\teval-rmse:0.368745\ttrain-rmse:0.278701\n",
      "[6]\teval-rmse:0.343565\ttrain-rmse:0.228765\n",
      "[7]\teval-rmse:0.329269\ttrain-rmse:0.190318\n",
      "[8]\teval-rmse:0.319058\ttrain-rmse:0.158885\n",
      "[9]\teval-rmse:0.311615\ttrain-rmse:0.133616\n",
      "[10]\teval-rmse:0.305831\ttrain-rmse:0.114225\n",
      "[11]\teval-rmse:0.302456\ttrain-rmse:0.099174\n",
      "[12]\teval-rmse:0.298727\ttrain-rmse:0.087801\n",
      "[13]\teval-rmse:0.297225\ttrain-rmse:0.076566\n",
      "[14]\teval-rmse:0.296927\ttrain-rmse:0.069883\n",
      "[15]\teval-rmse:0.295933\ttrain-rmse:0.062789\n",
      "[16]\teval-rmse:0.294876\ttrain-rmse:0.057303\n",
      "[17]\teval-rmse:0.292889\ttrain-rmse:0.052135\n",
      "[18]\teval-rmse:0.292624\ttrain-rmse:0.045967\n",
      "[19]\teval-rmse:0.291023\ttrain-rmse:0.039977\n"
     ]
    }
   ],
   "source": [
    "# coding: utf-8\n",
    "import xgboost as xgb\n",
    "from sklearn.datasets import load_boston\n",
    "from sklearn.model_selection import train_test_split\n",
    "from sklearn.preprocessing import StandardScaler\n",
    "from sklearn.metrics import mean_squared_error\n",
    "\n",
    "# 加载数据集合\n",
    "print('Load data...')\n",
    "\n",
    "df_train = load_boston()\n",
    "\n",
    "# 设定训练集和测试集\n",
    "X_train, X_test, y_train, y_test = train_test_split(\n",
    "    df_train.data, df_train.target, test_size=0.25, random_state=42\n",
    ")\n",
    "\n",
    "# 数据预处理\n",
    "ss_X = StandardScaler()\n",
    "ss_y = StandardScaler()\n",
    "X_train = ss_X.fit_transform(X_train)\n",
    "X_test = ss_X.transform(X_test)\n",
    "y_train = ss_y.fit_transform(y_train.reshape(-1, 1))\n",
    "y_test = ss_y.transform(y_test.reshape(-1, 1))\n",
    "\n",
    "# 构建xgb中的DMatrixt格式\n",
    "dtrain = xgb.DMatrix(X_train, y_train)\n",
    "dtest = xgb.DMatrix(X_test, y_test)\n",
    "\n",
    "#超参数设定\n",
    "param = {\n",
    "#     'n_estimator': 200,\n",
    "    'max_depth':8, \n",
    "    'eta':0.25, \n",
    "    'silent':1, \n",
    "    'objective':'reg:linear' \n",
    "}\n",
    "\n",
    "# 设定watchlist用于查看模型状态\n",
    "watchlist  = [(dtest,'eval'), (dtrain,'train')]\n",
    "num_round = 20\n",
    "bst = xgb.train(param, dtrain, num_round, watchlist)\n",
    "\n",
    "# 使用模型预测\n",
    "preds = bst.predict(dtest)\n",
    "\n",
    "# 模型存储\n",
    "\n",
    "bst.save_model('./0001.model')"
   ]
  },
  {
   "cell_type": "markdown",
   "metadata": {},
   "source": [
    "#### 3.使用xgboost的sklearn包\n",
    "\n",
    "**by《网易云课程 x 稀牛学院 机器学习工程师微专业》 寒小阳**"
   ]
  },
  {
   "cell_type": "code",
   "execution_count": 16,
   "metadata": {},
   "outputs": [
    {
     "name": "stdout",
     "output_type": "stream",
     "text": [
      "[0]\tvalidation_0-rmse:0.877011\tvalidation_1-rmse:0.895387\n",
      "[1]\tvalidation_0-rmse:0.691485\tvalidation_1-rmse:0.719628\n",
      "[2]\tvalidation_0-rmse:0.554144\tvalidation_1-rmse:0.598901\n",
      "[3]\tvalidation_0-rmse:0.442405\tvalidation_1-rmse:0.493608\n",
      "[4]\tvalidation_0-rmse:0.361971\tvalidation_1-rmse:0.426578\n",
      "[5]\tvalidation_0-rmse:0.295493\tvalidation_1-rmse:0.383583\n",
      "[6]\tvalidation_0-rmse:0.245715\tvalidation_1-rmse:0.355404\n",
      "[7]\tvalidation_0-rmse:0.205383\tvalidation_1-rmse:0.337687\n",
      "[8]\tvalidation_0-rmse:0.178193\tvalidation_1-rmse:0.325121\n",
      "[9]\tvalidation_0-rmse:0.153158\tvalidation_1-rmse:0.319087\n",
      "[10]\tvalidation_0-rmse:0.134972\tvalidation_1-rmse:0.315769\n",
      "[11]\tvalidation_0-rmse:0.118034\tvalidation_1-rmse:0.31032\n",
      "[12]\tvalidation_0-rmse:0.102505\tvalidation_1-rmse:0.304502\n",
      "[13]\tvalidation_0-rmse:0.092036\tvalidation_1-rmse:0.303424\n",
      "[14]\tvalidation_0-rmse:0.083077\tvalidation_1-rmse:0.300918\n",
      "[15]\tvalidation_0-rmse:0.075729\tvalidation_1-rmse:0.299148\n",
      "[16]\tvalidation_0-rmse:0.070185\tvalidation_1-rmse:0.298403\n",
      "[17]\tvalidation_0-rmse:0.063852\tvalidation_1-rmse:0.297045\n",
      "[18]\tvalidation_0-rmse:0.059105\tvalidation_1-rmse:0.295425\n",
      "[19]\tvalidation_0-rmse:0.054305\tvalidation_1-rmse:0.294938\n",
      "[20]\tvalidation_0-rmse:0.050685\tvalidation_1-rmse:0.294685\n",
      "[21]\tvalidation_0-rmse:0.048513\tvalidation_1-rmse:0.294057\n",
      "[22]\tvalidation_0-rmse:0.044012\tvalidation_1-rmse:0.29401\n",
      "[23]\tvalidation_0-rmse:0.042239\tvalidation_1-rmse:0.292652\n",
      "[24]\tvalidation_0-rmse:0.038912\tvalidation_1-rmse:0.292652\n",
      "[25]\tvalidation_0-rmse:0.035421\tvalidation_1-rmse:0.292047\n",
      "[26]\tvalidation_0-rmse:0.032521\tvalidation_1-rmse:0.291701\n",
      "[27]\tvalidation_0-rmse:0.030072\tvalidation_1-rmse:0.291767\n",
      "[28]\tvalidation_0-rmse:0.027655\tvalidation_1-rmse:0.291134\n",
      "[29]\tvalidation_0-rmse:0.025764\tvalidation_1-rmse:0.290791\n"
     ]
    },
    {
     "data": {
      "text/plain": [
       "['./0003.model']"
      ]
     },
     "execution_count": 16,
     "metadata": {},
     "output_type": "execute_result"
    }
   ],
   "source": [
    "#!/usr/bin/python\n",
    "import warnings\n",
    "warnings.filterwarnings(\"ignore\")\n",
    "import xgboost as xgb\n",
    "from sklearn.datasets import load_boston\n",
    "from sklearn.model_selection import train_test_split\n",
    "from sklearn.preprocessing import StandardScaler\n",
    "from sklearn.metrics import mean_squared_error\n",
    "from sklearn.externals import joblib\n",
    "\n",
    "\n",
    "# 基本例子，从csv文件中读取数据，做二分类\n",
    "\n",
    "# 用pandas读入数据\n",
    "data = load_boston()\n",
    "\n",
    "# 设定训练集和测试集\n",
    "train_X, test_X, train_y, test_y = train_test_split(\n",
    "    df_train.data, df_train.target, test_size=0.25, random_state=42\n",
    ")\n",
    "\n",
    "# 数据预处理\n",
    "ss_X = StandardScaler()\n",
    "ss_y = StandardScaler()\n",
    "train_X = ss_X.fit_transform(train_X)\n",
    "test_X = ss_X.transform(test_X)\n",
    "train_y = ss_y.fit_transform(train_y.reshape(-1, 1))\n",
    "test_y = ss_y.transform(test_y.reshape(-1, 1))\n",
    "\n",
    "# 初始化模型\n",
    "xgb_regressor = xgb.XGBRegressor(n_estimators=30,\\\n",
    "                                   max_depth=8, \\\n",
    "                                   learning_rate=0.25, \\\n",
    "                                   subsample=0.9, \\\n",
    "                                   colsample_bytree=0.9, \\\n",
    "                                   scilent=1)\n",
    "\n",
    "# 拟合模型\n",
    "xgb_regressor.fit(train_X, train_y, \n",
    "                 eval_set=[(train_X, train_y), (test_X, test_y)], eval_metric=\"rmse\", verbose=True)\n",
    "\n",
    "# 使用模型预测\n",
    "preds = xgb_regressor.predict(test_X)\n",
    "\n",
    "# 模型存储\n",
    "joblib.dump(xgb_regressor, './0003.model')"
   ]
  },
  {
   "cell_type": "markdown",
   "metadata": {},
   "source": [
    "#### 2.网格搜索查找最优超参数\n",
    "**by《网易云课程 x 稀牛学院 机器学习工程师微专业》 寒小阳**"
   ]
  },
  {
   "cell_type": "code",
   "execution_count": 14,
   "metadata": {},
   "outputs": [
    {
     "name": "stdout",
     "output_type": "stream",
     "text": [
      "参数最优化：\n",
      "Fitting 3 folds for each of 9 candidates, totalling 27 fits\n",
      "0.8331697180655884\n",
      "{'max_depth': 2, 'n_estimators': 200}\n"
     ]
    },
    {
     "name": "stderr",
     "output_type": "stream",
     "text": [
      "[Parallel(n_jobs=1)]: Done  27 out of  27 | elapsed:    0.9s finished\n"
     ]
    }
   ],
   "source": [
    "from sklearn.model_selection import GridSearchCV\n",
    "\n",
    "print(\"参数最优化：\")\n",
    "y = train_y\n",
    "X = train_X\n",
    "xgb_model = xgb.XGBRegressor()\n",
    "clf = GridSearchCV(xgb_model,\n",
    "                   {'max_depth': [2,4,6],\n",
    "                    'n_estimators': [50,100,200]}, verbose=1)\n",
    "clf.fit(X,y)\n",
    "print(clf.best_score_)\n",
    "print(clf.best_params_)"
   ]
  },
  {
   "cell_type": "code",
   "execution_count": null,
   "metadata": {},
   "outputs": [],
   "source": []
  }
 ],
 "metadata": {
  "kernelspec": {
   "display_name": "Python 3",
   "language": "python",
   "name": "python3"
  },
  "language_info": {
   "codemirror_mode": {
    "name": "ipython",
    "version": 3
   },
   "file_extension": ".py",
   "mimetype": "text/x-python",
   "name": "python",
   "nbconvert_exporter": "python",
   "pygments_lexer": "ipython3",
   "version": "3.5.4rc1"
  }
 },
 "nbformat": 4,
 "nbformat_minor": 2
}
