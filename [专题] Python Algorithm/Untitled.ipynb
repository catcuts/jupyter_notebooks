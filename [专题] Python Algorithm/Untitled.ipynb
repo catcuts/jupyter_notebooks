{
 "cells": [
  {
   "cell_type": "code",
   "execution_count": 1,
   "metadata": {},
   "outputs": [],
   "source": [
    "import random"
   ]
  },
  {
   "cell_type": "code",
   "execution_count": 2,
   "metadata": {},
   "outputs": [],
   "source": [
    "class Sort:\n",
    "    def __init__(self):\n",
    "        pass\n",
    "    \n",
    "    def by_bubbling(self, bubble_list, order=1):\n",
    "        \"\"\"\n",
    "        冒泡算法就是：\n",
    "        一个位于列表最左侧的泡泡从头开始走，举着个牌子说，“我最大，我最大”\n",
    "        当半路上遇到比它大的泡泡时，打不过，就把牌子交个那个泡泡，由那个泡泡继续举着牌子走\n",
    "        最后走到尽头的泡泡就是最大的泡泡\n",
    "        以上是第一轮，选出了最大的泡泡\n",
    "        第二轮，选出第二大的泡泡\n",
    "        第三轮，选出第三大的泡泡\n",
    "        ...\n",
    "        第 n 轮，选出第 n 大的泡泡\n",
    "        当 n = 泡泡总数时，结束\n",
    "        \"\"\"\n",
    "        bubble_total_nr = len(bubble_list)\n",
    "        for i in range(bubble_total_nr):\n",
    "            for j in range(bubble_total_nr - 1 - i):  # 泡泡开始往上冒（冒泡路程每轮减少 i）\n",
    "                current_bubble = bubble_list[j]  # 举牌的泡泡（即当前的泡泡）\n",
    "                next_bubble = bubble_list[j + 1]  # 它所面临的泡泡\n",
    "                if (current_bubble - next_bubble) * order > 0:  # 遇到比它小的，KO 它\n",
    "                    bubble_list[j + 1], bubble_list[j] = current_bubble, next_bubble  # 然后继续走（即交换位置）\n",
    "                # 遇到比它大的，打不过，就留下来了，在下一轮中，举牌的泡泡就是这个泡泡的下一个泡泡\n",
    "                # 注：交牌这个动作由 for 来完成，它把指针移向下一个泡泡就是交牌（也可以交给同一个泡泡），所以 else 为空   \n",
    "    \n",
    "    def by_choosing(self, _list, order=1):\n",
    "        \"\"\"\n",
    "        类似冒泡算法，与之不同的是：冒泡一轮打斗中，每打一次就交换一次（类似单挑）；选择排序中一轮打斗，完成后才交换（类似群架）\n",
    "        \"\"\"\n",
    "        total_nr = len(_list)\n",
    "        for i in range(total_nr - 1):\n",
    "            winner_index = i\n",
    "            for j in range(i + 1, total_nr):\n",
    "                winner = _list[winner_index]\n",
    "                challenger = _list[j]  # 每次的挑战者\n",
    "                if (winner - challenger) * order > 0:\n",
    "                    winner_index = j  # 挑战成功，拿到这一轮的卫冕冠军，但还不是这一轮的最终冠军（不交换位置）\n",
    "                # 比完一轮后，如果冠军不是自己，就要交换\n",
    "                if winner_index != 1:\n",
    "                    _list[i], _list[winner_index] = _list[winner_index], _list[i]\n",
    "                    \n",
    "    def by_inserting(self, card_list, order=1):\n",
    "        \"\"\"\n",
    "        就像打牌中分牌时，边抓牌边整理大小\n",
    "        抓第一张牌，不用整理\n",
    "        抓第二张牌，如果比第一张大，就放后面，反之前面\n",
    "        抓第三张牌，如果比第二张大，就放后面，反之再如果比第一张大，就放后面，反之前面\n",
    "        抓第四张牌，...\n",
    "        类似选择，都是打群架，不同的是：选择打完一轮群架后交换被挑战者与赢家的位置，\n",
    "        而插入是插入到被挑战者的前面，而且是每轮中的每次都插，这点又和冒泡类似\n",
    "        因此插入可以视作冒泡性选择\n",
    "        \"\"\"\n",
    "        card_total_nr = len(card_list)\n",
    "        for i in range(1, card_total_nr):  # 第一张牌不用排\n",
    "            for j in range(i, 0, -1):\n",
    "                current_card = card_list[j]  # 刚抓到的牌\n",
    "                challenged_card = card_list[j - 1]  # 被挑战的牌\n",
    "                if (current_card - challenged_card) * order < 0:  # 赢了，插到后面继续挑战\n",
    "                    card_list[j - 1], card_list[j] = current_card, challenged_card\n",
    "                else:\n",
    "                    break  # 输了，就到这里吧，开始摸下一张牌（下一轮 i 循环）\n",
    "                    \n",
    "    def by_quicksort(self, _list, order=1):\n",
    "        "
   ]
  },
  {
   "cell_type": "code",
   "execution_count": 3,
   "metadata": {},
   "outputs": [],
   "source": [
    "sorting = Sort()"
   ]
  },
  {
   "cell_type": "code",
   "execution_count": 4,
   "metadata": {},
   "outputs": [],
   "source": [
    "random_list = [n for n in range(10)]"
   ]
  },
  {
   "cell_type": "code",
   "execution_count": 5,
   "metadata": {},
   "outputs": [
    {
     "name": "stdout",
     "output_type": "stream",
     "text": [
      "original list: [2, 3, 8, 9, 6, 0, 4, 5, 1, 7]\n"
     ]
    },
    {
     "data": {
      "text/plain": [
       "[0, 1, 2, 3, 4, 5, 6, 7, 8, 9]"
      ]
     },
     "execution_count": 5,
     "metadata": {},
     "output_type": "execute_result"
    }
   ],
   "source": [
    "random.shuffle(random_list)\n",
    "print(\"original list: %s\" % random_list)\n",
    "sorting.by_bubbling(random_list)\n",
    "random_list"
   ]
  },
  {
   "cell_type": "code",
   "execution_count": 6,
   "metadata": {},
   "outputs": [
    {
     "name": "stdout",
     "output_type": "stream",
     "text": [
      "original list: [2, 0, 7, 5, 3, 4, 6, 1, 8, 9]\n"
     ]
    },
    {
     "data": {
      "text/plain": [
       "[0, 1, 2, 3, 4, 5, 6, 7, 8, 9]"
      ]
     },
     "execution_count": 6,
     "metadata": {},
     "output_type": "execute_result"
    }
   ],
   "source": [
    "random.shuffle(random_list)\n",
    "print(\"original list: %s\" % random_list)\n",
    "sorting.by_bubbling(random_list)\n",
    "random_list"
   ]
  },
  {
   "cell_type": "code",
   "execution_count": 7,
   "metadata": {},
   "outputs": [
    {
     "name": "stdout",
     "output_type": "stream",
     "text": [
      "original list: [7, 5, 6, 8, 2, 3, 9, 1, 4, 0]\n"
     ]
    },
    {
     "data": {
      "text/plain": [
       "[0, 1, 2, 3, 4, 5, 6, 7, 8, 9]"
      ]
     },
     "execution_count": 7,
     "metadata": {},
     "output_type": "execute_result"
    }
   ],
   "source": [
    "random.shuffle(random_list)\n",
    "print(\"original list: %s\" % random_list)\n",
    "sorting.by_inserting(random_list)\n",
    "random_list"
   ]
  },
  {
   "cell_type": "code",
   "execution_count": null,
   "metadata": {},
   "outputs": [],
   "source": []
  }
 ],
 "metadata": {
  "kernelspec": {
   "display_name": "Python 3",
   "language": "python",
   "name": "python3"
  },
  "language_info": {
   "codemirror_mode": {
    "name": "ipython",
    "version": 3
   },
   "file_extension": ".py",
   "mimetype": "text/x-python",
   "name": "python",
   "nbconvert_exporter": "python",
   "pygments_lexer": "ipython3",
   "version": "3.5.4rc1"
  }
 },
 "nbformat": 4,
 "nbformat_minor": 2
}
