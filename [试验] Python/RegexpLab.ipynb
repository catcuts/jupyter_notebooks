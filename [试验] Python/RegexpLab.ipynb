{
 "cells": [
  {
   "cell_type": "code",
   "execution_count": 45,
   "metadata": {},
   "outputs": [],
   "source": [
    "import re"
   ]
  },
  {
   "cell_type": "code",
   "execution_count": 46,
   "metadata": {},
   "outputs": [],
   "source": [
    "def regsearch(regstr, teststr):\n",
    "    matched = re.search(r\"%s\" % regstr, teststr)\n",
    "    if matched:\n",
    "        print(\"matched: %s\" % \",\".join(matched.groups()))\n",
    "        return matched.groups()\n",
    "    else:\n",
    "        print(\"matched: None\")\n",
    "        return None"
   ]
  },
  {
   "cell_type": "code",
   "execution_count": 71,
   "metadata": {},
   "outputs": [],
   "source": [
    "def regsearch_r(regstr, teststr):\n",
    "    matched_list = []\n",
    "    matched = True\n",
    "    while matched:\n",
    "#         matched = regsearch(regstr, teststr)\n",
    "\n",
    "        _matched = re.search(r\"%s\" % regstr, teststr)\n",
    "        if _matched:\n",
    "            print(\"_matched: %s\" % \",\".join(_matched.groups()))\n",
    "            matched = _matched.groups()\n",
    "        else:\n",
    "            print(\"_matched: None\")\n",
    "            matched = None\n",
    "\n",
    "        if matched:\n",
    "            matched_list.append(matched[0])\n",
    "            teststr = re.sub(r\"%s\" % regstr, \"\", teststr)\n",
    "    print(\"matched list: %s\" % matched_list)\n",
    "    return matched_list"
   ]
  },
  {
   "cell_type": "code",
   "execution_count": 72,
   "metadata": {},
   "outputs": [],
   "source": [
    "regstr = \"[^{]{([^{}]*)}[^}]\""
   ]
  },
  {
   "cell_type": "code",
   "execution_count": 89,
   "metadata": {},
   "outputs": [],
   "source": [
    "teststr = \"/voerka/{domain}}}/{{abc}}/devices/100000042/*.*\""
   ]
  },
  {
   "cell_type": "code",
   "execution_count": 90,
   "metadata": {},
   "outputs": [
    {
     "name": "stdout",
     "output_type": "stream",
     "text": [
      "matched: None\n"
     ]
    }
   ],
   "source": [
    "regsearch(regstr, teststr)"
   ]
  },
  {
   "cell_type": "code",
   "execution_count": 91,
   "metadata": {},
   "outputs": [
    {
     "name": "stdout",
     "output_type": "stream",
     "text": [
      "_matched: None\n",
      "matched list: []\n"
     ]
    },
    {
     "data": {
      "text/plain": [
       "[]"
      ]
     },
     "execution_count": 91,
     "metadata": {},
     "output_type": "execute_result"
    }
   ],
   "source": [
    "regsearch_r(regstr, teststr)"
   ]
  },
  {
   "cell_type": "code",
   "execution_count": 92,
   "metadata": {},
   "outputs": [
    {
     "data": {
      "text/plain": [
       "'/voerka/0}/{abc}/devices/100000042/*.*'"
      ]
     },
     "execution_count": 92,
     "metadata": {},
     "output_type": "execute_result"
    }
   ],
   "source": [
    "teststr.format(domain=0)"
   ]
  },
  {
   "cell_type": "code",
   "execution_count": null,
   "metadata": {},
   "outputs": [],
   "source": []
  },
  {
   "cell_type": "code",
   "execution_count": null,
   "metadata": {},
   "outputs": [],
   "source": []
  }
 ],
 "metadata": {
  "kernelspec": {
   "display_name": "Python 3",
   "language": "python",
   "name": "python3"
  },
  "language_info": {
   "codemirror_mode": {
    "name": "ipython",
    "version": 3
   },
   "file_extension": ".py",
   "mimetype": "text/x-python",
   "name": "python",
   "nbconvert_exporter": "python",
   "pygments_lexer": "ipython3",
   "version": "3.5.4rc1"
  }
 },
 "nbformat": 4,
 "nbformat_minor": 2
}
