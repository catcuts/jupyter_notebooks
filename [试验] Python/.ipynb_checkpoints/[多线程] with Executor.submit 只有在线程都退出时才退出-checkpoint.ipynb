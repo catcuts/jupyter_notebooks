{
 "cells": [
  {
   "cell_type": "code",
   "execution_count": 1,
   "metadata": {},
   "outputs": [],
   "source": [
    "from concurrent.futures import ThreadPoolExecutor\n",
    "import aioprocessing\n",
    "import time"
   ]
  },
  {
   "cell_type": "code",
   "execution_count": 2,
   "metadata": {},
   "outputs": [],
   "source": [
    "class Cat:\n",
    "    def alive(self):\n",
    "        while True:\n",
    "            print(\"meow ...\")\n",
    "            time.sleep(1)"
   ]
  },
  {
   "cell_type": "code",
   "execution_count": 3,
   "metadata": {},
   "outputs": [],
   "source": [
    "class Dog:\n",
    "    def alive(self):\n",
    "        while True:\n",
    "            print(\"wong\")\n",
    "            time.sleep(0.5)"
   ]
  },
  {
   "cell_type": "code",
   "execution_count": 4,
   "metadata": {},
   "outputs": [],
   "source": [
    "def start():\n",
    "    animals = [Cat(), Dog()]\n",
    "    with ThreadPoolExecutor() as Executor:\n",
    "        for animal in animals:\n",
    "            Executor.submit(animal.alive)\n",
    "#     time.sleep(5)\n",
    "    print(\"end\")"
   ]
  },
  {
   "cell_type": "code",
   "execution_count": 5,
   "metadata": {},
   "outputs": [],
   "source": [
    "process = aioprocessing.AioProcess(target=start, name=\"Zoo\", args=())"
   ]
  },
  {
   "cell_type": "code",
   "execution_count": 6,
   "metadata": {},
   "outputs": [
    {
     "name": "stdout",
     "output_type": "stream",
     "text": [
      "meow ...\n",
      "wong\n",
      "wong\n",
      "meow ...\n",
      "wong\n",
      "wong\n",
      "meow ...\n",
      "wong\n",
      "wong\n",
      "meow ...\n",
      "wong\n",
      "wong\n",
      "meow ...\n",
      "wong\n",
      "wong\n",
      "meow ...\n",
      "wong\n",
      "wong\n",
      "meow ...\n",
      "wong\n",
      "wong\n",
      "meow ...\n",
      "wong\n",
      "wong\n",
      "meow ...\n",
      "wong\n",
      "wong\n",
      "meow ...\n",
      "wong\n",
      "wong\n",
      "meow ...\n",
      "wong\n",
      "wong\n",
      "meow ...\n",
      "wong\n",
      "wong\n",
      "meow ...\n",
      "wong\n",
      "wong\n",
      "meow ...\n",
      "wong\n"
     ]
    }
   ],
   "source": [
    "process.start()"
   ]
  },
  {
   "cell_type": "code",
   "execution_count": null,
   "metadata": {},
   "outputs": [],
   "source": []
  }
 ],
 "metadata": {
  "kernelspec": {
   "display_name": "Python 3",
   "language": "python",
   "name": "python3"
  },
  "language_info": {
   "codemirror_mode": {
    "name": "ipython",
    "version": 3
   },
   "file_extension": ".py",
   "mimetype": "text/x-python",
   "name": "python",
   "nbconvert_exporter": "python",
   "pygments_lexer": "ipython3",
   "version": "3.5.4rc1"
  }
 },
 "nbformat": 4,
 "nbformat_minor": 2
}
