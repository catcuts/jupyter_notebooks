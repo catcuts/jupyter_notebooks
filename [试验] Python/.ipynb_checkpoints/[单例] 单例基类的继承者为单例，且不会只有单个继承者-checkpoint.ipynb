{
 "cells": [
  {
   "cell_type": "code",
   "execution_count": 1,
   "metadata": {},
   "outputs": [],
   "source": [
    "from functools import wraps\n",
    "import inspect\n",
    "def Singleton(cls):\n",
    "    assert inspect.isclass(cls), 'The Singleton decorator can only be applied to class'\n",
    "\n",
    "    def run_only_once(func):\n",
    "        \"\"\"\n",
    "         使__init__仅仅运行一次\n",
    "        \"\"\"\n",
    "\n",
    "        @wraps(func)\n",
    "        def _wrapper_init(self, *args, **kwargs):\n",
    "            if not hasattr(self, \"___init__called\"):\n",
    "                self.___init__called = True\n",
    "                return func(self, *args, **kwargs)\n",
    "\n",
    "        return _wrapper_init\n",
    "\n",
    "    def newfunc(clsobj, *args, **kwargs):\n",
    "        \"\"\"\n",
    "        使用元编程确保仅仅实现一个单例\n",
    "        \"\"\"\n",
    "        if not hasattr(clsobj, \"__instance\"):\n",
    "            setattr(clsobj, \"__instance\", object.__new__(clsobj))\n",
    "        return getattr(clsobj, \"__instance\")\n",
    "\n",
    "    # 拦截__new__方法\n",
    "    setattr(cls, \"__new__\", classmethod(newfunc))\n",
    "    # 由于在创建cls时，python会调用__new__来创建实例，然后再调用实例的__init__\n",
    "    # 这样通过在__new__使用object__new__能确保每次实例化cls时均返回同一个实例。\n",
    "    # 但是python还是会调用__new__的__init__，这样会导致__init__方法每实例一次就会调用一次\n",
    "    # 这种行为不是我们需要的，因此我们通过run_on_once装饰器做一定的处理，使__init__只调用一次\n",
    "    setattr(cls, \"__init__\", run_only_once(cls.__init__))\n",
    "    return cls"
   ]
  },
  {
   "cell_type": "code",
   "execution_count": 2,
   "metadata": {},
   "outputs": [],
   "source": [
    "@Singleton\n",
    "class ABase:\n",
    "    pass\n",
    "\n",
    "class C(ABase):\n",
    "    pass\n",
    "\n",
    "class D(ABase):\n",
    "    pass"
   ]
  },
  {
   "cell_type": "code",
   "execution_count": 3,
   "metadata": {},
   "outputs": [
    {
     "name": "stdout",
     "output_type": "stream",
     "text": [
      "id of c1 is 81921640\n",
      "id of c2 is 81921640\n",
      "C is singleton\n",
      "id of d1 is 81921696\n",
      "id of d2 is 81921696\n",
      "D is singleton\n"
     ]
    }
   ],
   "source": [
    "c1 = C()\n",
    "c2 = C()\n",
    "d1 = D()\n",
    "d2 = D()\n",
    "print(\"id of c1 is %s\" % id(c1))\n",
    "print(\"id of c2 is %s\" % id(c2))\n",
    "print(\"C %s singleton\" % (\"is\" if id(c1) == id(c2) else \"isn't\"))\n",
    "print(\"id of d1 is %s\" % id(d1))\n",
    "print(\"id of d2 is %s\" % id(d2))\n",
    "print(\"D %s singleton\" % (\"is\" if id(d1) == id(d2) else \"isn't\"))"
   ]
  },
  {
   "cell_type": "code",
   "execution_count": null,
   "metadata": {},
   "outputs": [],
   "source": []
  }
 ],
 "metadata": {
  "kernelspec": {
   "display_name": "Python 3",
   "language": "python",
   "name": "python3"
  },
  "language_info": {
   "codemirror_mode": {
    "name": "ipython",
    "version": 3
   },
   "file_extension": ".py",
   "mimetype": "text/x-python",
   "name": "python",
   "nbconvert_exporter": "python",
   "pygments_lexer": "ipython3",
   "version": "3.5.2"
  }
 },
 "nbformat": 4,
 "nbformat_minor": 2
}
