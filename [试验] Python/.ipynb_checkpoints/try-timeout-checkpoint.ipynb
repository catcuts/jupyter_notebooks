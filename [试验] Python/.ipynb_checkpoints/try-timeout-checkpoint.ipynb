{
 "cells": [
  {
   "cell_type": "code",
   "execution_count": 1,
   "metadata": {},
   "outputs": [],
   "source": [
    "import time\n",
    "import threading"
   ]
  },
  {
   "cell_type": "code",
   "execution_count": 2,
   "metadata": {},
   "outputs": [],
   "source": [
    "class TimeoutError(Exception):\n",
    "    pass\n",
    "\n",
    "class TimeoutMonitor:\n",
    "    def __init__(self, timeout=0, target=None, args=(), monitor_key=\"monitor\", debug=False):\n",
    "        self.is_timeout = False\n",
    "        self.target = target\n",
    "        self.args = args\n",
    "        self.timeout = timeout\n",
    "        self.target_respond = None\n",
    "        self.monitor_key = monitor_key\n",
    "        self.debug = debug\n",
    "    \n",
    "    def __call__(self, target=None):\n",
    "        self.target = target or self.target\n",
    "        if target:  # using as decorator \n",
    "            def wrapper(*args, **kwargs):\n",
    "                kwargs[self.monitor_key] = self\n",
    "                threading.Thread(target=self.counter, args=(self.timeout, False)).start()\n",
    "                respond = target(*args, **kwargs)\n",
    "                self.target_respond = respond\n",
    "            return wrapper\n",
    "        else:  # using as function\n",
    "            threading.Thread(target=self.counter, args=(self.timeout, True)).start()\n",
    "            respond = self.target(*self.args)\n",
    "            self.target_respond = respond\n",
    "            \n",
    "    def counter(self, end=5, raise_e=False):\n",
    "        if not end: return\n",
    "        \n",
    "        start = time.time()\n",
    "        count = 0\n",
    "        p_count = 1\n",
    "        \n",
    "        while (count < end) and not self.target_respond:\n",
    "            if self.debug and (count > p_count):\n",
    "                print('[ debug ] counter: %s %s' % (p_count, count))\n",
    "                p_count += 1\n",
    "            count = time.time() - start\n",
    "        if self.debug:\n",
    "            print('[ debug ] counter: %s %s' % (p_count, count))\n",
    "        if not self.target_respond:\n",
    "            self.is_timeout = True\n",
    "            if raise_e:\n",
    "                raise TimeoutError()"
   ]
  },
  {
   "cell_type": "code",
   "execution_count": 3,
   "metadata": {},
   "outputs": [],
   "source": [
    "# # using as function\n",
    "# def meow():\n",
    "#     looping = 0\n",
    "#     limit = 10\n",
    "\n",
    "#     while looping < limit:\n",
    "# #         if self.is_timeout:\n",
    "# #             raise TimeoutError\n",
    "# #         else:\n",
    "#         print('meow ...')\n",
    "#         time.sleep(1)\n",
    "# try:            \n",
    "#     TimeoutMonitor(3, meow)()\n",
    "# except TimeoutError:\n",
    "#     print('timeout !')"
   ]
  },
  {
   "cell_type": "code",
   "execution_count": 4,
   "metadata": {},
   "outputs": [
    {
     "name": "stdout",
     "output_type": "stream",
     "text": [
      "working ...\n",
      "[ debug ] counter: 1 1.000000238418579\n",
      "working ...\n",
      "[ debug ] counter: 2 2.000000238418579\n",
      "working ...\n",
      "[ debug ] counter: 3 3.000000238418579\n",
      "working ...\n",
      "[ debug ] counter: 4 4.000000238418579\n",
      "working ...\n",
      "[ debug ] counter: 5 5.000000238418579\n",
      "working ...\n",
      "[ debug ] counter: 6 6.000000238418579\n",
      "timeout !\n"
     ]
    }
   ],
   "source": [
    "@TimeoutMonitor(6, debug=True)\n",
    "def time_costing_work(monitor=None):  # monitor is necessary, but can be passed in with anything\n",
    "    # while running here, monitor is TimeoutMonitor instance itself\n",
    "    # which means monitor object has an attribute `is_timeout`\n",
    "    # which can be used for checking whether timeout or not\n",
    "\n",
    "    looping = 0\n",
    "    limit = 10  # this example work will cost 10 secs while we set a 6 secs timeout\n",
    "\n",
    "    while looping < limit:\n",
    "        if monitor.is_timeout:  # use monitor to check whether timeout or not\n",
    "            raise TimeoutError\n",
    "        else:\n",
    "            print('working ...')\n",
    "            time.sleep(1)\n",
    "        looping += 1\n",
    "    \n",
    "    print('normal !')\n",
    "    return True\n",
    "\n",
    "try:\n",
    "    time_costing_work()\n",
    "except TimeoutError:\n",
    "    print('timeout !')"
   ]
  },
  {
   "cell_type": "code",
   "execution_count": null,
   "metadata": {},
   "outputs": [],
   "source": []
  }
 ],
 "metadata": {
  "kernelspec": {
   "display_name": "Python 3",
   "language": "python",
   "name": "python3"
  },
  "language_info": {
   "codemirror_mode": {
    "name": "ipython",
    "version": 3
   },
   "file_extension": ".py",
   "mimetype": "text/x-python",
   "name": "python",
   "nbconvert_exporter": "python",
   "pygments_lexer": "ipython3",
   "version": "3.5.4rc1"
  }
 },
 "nbformat": 4,
 "nbformat_minor": 2
}
