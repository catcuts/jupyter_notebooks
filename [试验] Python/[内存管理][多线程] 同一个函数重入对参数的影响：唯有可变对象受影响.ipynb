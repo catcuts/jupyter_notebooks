{
 "cells": [
  {
   "cell_type": "code",
   "execution_count": 1,
   "metadata": {},
   "outputs": [],
   "source": [
    "import threading\n",
    "import time"
   ]
  },
  {
   "cell_type": "markdown",
   "metadata": {},
   "source": [
    "#### 不可变对象(immutable variable)"
   ]
  },
  {
   "cell_type": "code",
   "execution_count": 8,
   "metadata": {},
   "outputs": [],
   "source": [
    "def foo(bar, tme, tag):\n",
    "    print('[%s] started, bar in %s' % (tag, id(bar)))  # 记住: 变量本身并没有占用内存, 唯有变量的值占用内存, 并且同一个值占用同一块内存\n",
    "    baz = bar + 1\n",
    "    print('[%s] sleeping ... baz = %s in %s' % (tag, baz, id(baz)))\n",
    "    time.sleep(tme)\n",
    "    print('[%s] awake !' % tag)\n",
    "    print('baz = %s' % baz)\n",
    "    print('[%s] started, bar in %s' % (tag, id(bar)))"
   ]
  },
  {
   "cell_type": "code",
   "execution_count": 9,
   "metadata": {},
   "outputs": [],
   "source": [
    "t1 = threading.Thread(target=foo, args=(100, 2, 't1'))\n",
    "t2 = threading.Thread(target=foo, args=(200, 0, 't2'))"
   ]
  },
  {
   "cell_type": "code",
   "execution_count": 10,
   "metadata": {},
   "outputs": [
    {
     "name": "stdout",
     "output_type": "stream",
     "text": [
      "[t1] started, bar in 136706224\n",
      "[t1] sleeping ... baz = 101 in 136706240\n",
      "[t2] started, bar in 136707824\n",
      "[t2] sleeping ... baz = 201 in 136707840\n",
      "[t2] awake !\n",
      "baz = 201\n",
      "[t2] started, bar in 136707824\n"
     ]
    }
   ],
   "source": [
    "t1.start()\n",
    "t2.start()"
   ]
  },
  {
   "cell_type": "markdown",
   "metadata": {},
   "source": [
    "#### 可变对象(mutable variable)"
   ]
  },
  {
   "cell_type": "code",
   "execution_count": 25,
   "metadata": {},
   "outputs": [],
   "source": [
    "def qux(obj, bar, tme, tag):\n",
    "    print('[%s] started, bar in %s' % (tag, id(bar)))  # 记住: 变量本身并没有占用内存, 唯有变量的值占用内存, 并且同一个值占用同一块内存\n",
    "#     baz = obj.copy()\n",
    "    baz = obj\n",
    "    baz['qux'] = bar\n",
    "    print('[%s] sleeping ... baz = %s in %s' % (tag, baz, id(baz)))\n",
    "    time.sleep(tme)\n",
    "    print('[%s] awake !' % tag)\n",
    "    print('baz = %s' % baz)\n",
    "    print('[%s] started, bar in %s' % (tag, id(bar)))"
   ]
  },
  {
   "cell_type": "code",
   "execution_count": 26,
   "metadata": {},
   "outputs": [],
   "source": [
    "v1 = {'qux': 100}\n",
    "t3 = threading.Thread(target=qux, args=(v1, 100, 2, 't1'))\n",
    "t4 = threading.Thread(target=qux, args=(v1, 200, 0, 't2'))"
   ]
  },
  {
   "cell_type": "code",
   "execution_count": 27,
   "metadata": {},
   "outputs": [
    {
     "name": "stdout",
     "output_type": "stream",
     "text": [
      "[t1] started, bar in 136706224\n",
      "[t1] sleeping ... baz = {'qux': 100} in 3017284780\n",
      "[t2] started, bar in 136707824\n",
      "[t2] sleeping ... baz = {'qux': 200} in 3017284780\n",
      "[t2] awake !\n",
      "baz = {'qux': 200}\n",
      "[t2] started, bar in 136707824\n",
      "[t1] awake !\n",
      "baz = {'qux': 200}\n",
      "[t1] started, bar in 136706224\n"
     ]
    }
   ],
   "source": [
    "t3.start()\n",
    "t4.start()"
   ]
  },
  {
   "cell_type": "code",
   "execution_count": null,
   "metadata": {},
   "outputs": [],
   "source": []
  }
 ],
 "metadata": {
  "kernelspec": {
   "display_name": "Python 3",
   "language": "python",
   "name": "python3"
  },
  "language_info": {
   "codemirror_mode": {
    "name": "ipython",
    "version": 3
   },
   "file_extension": ".py",
   "mimetype": "text/x-python",
   "name": "python",
   "nbconvert_exporter": "python",
   "pygments_lexer": "ipython3",
   "version": "3.5.2"
  }
 },
 "nbformat": 4,
 "nbformat_minor": 2
}
