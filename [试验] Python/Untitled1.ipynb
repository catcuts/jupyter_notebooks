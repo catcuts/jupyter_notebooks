{
 "cells": [
  {
   "cell_type": "code",
   "execution_count": 1,
   "metadata": {},
   "outputs": [],
   "source": [
    "import types\n",
    "\n",
    "_globals = {}\n",
    "_locals = {}\n",
    "\n",
    "if True:\n",
    "    code = \"\"\"\n",
    "def _on_receive_{method}({kwargs}): \n",
    "    print(\"result: %s\" % \"{kwargs}\")\n",
    "    \"\"\".format(method=\"get\", kwargs=\"a, b\")\n",
    "exec(code, _globals, _locals)"
   ]
  },
  {
   "cell_type": "code",
   "execution_count": 2,
   "metadata": {},
   "outputs": [
    {
     "name": "stdout",
     "output_type": "stream",
     "text": [
      "result: a, b\n"
     ]
    }
   ],
   "source": [
    "_locals[\"_on_receive_get\"](a=1,b=2)"
   ]
  },
  {
   "cell_type": "code",
   "execution_count": 3,
   "metadata": {},
   "outputs": [],
   "source": [
    "import inspect\n",
    "\n",
    "def myfunc(a, b, c, d):\n",
    "\n",
    "    f = inspect.currentframe()\n",
    "    v = inspect.getargvalues(f)\n",
    "\n",
    "    for arg in v.args:\n",
    "        var_value = v.locals[arg]\n",
    "        if var_value:\n",
    "            print(arg, '=> ', var_value)"
   ]
  },
  {
   "cell_type": "code",
   "execution_count": 4,
   "metadata": {},
   "outputs": [
    {
     "name": "stdout",
     "output_type": "stream",
     "text": [
      "a =>  1\n",
      "b =>  2\n",
      "c =>  3\n",
      "d =>  4\n"
     ]
    }
   ],
   "source": [
    "myfunc(1,2,3,4)"
   ]
  },
  {
   "cell_type": "code",
   "execution_count": 5,
   "metadata": {},
   "outputs": [],
   "source": [
    "import re"
   ]
  },
  {
   "cell_type": "code",
   "execution_count": 6,
   "metadata": {},
   "outputs": [],
   "source": [
    "def _get_field_names(coditions):\n",
    "    coditions = coditions.strip()\n",
    "    matched = re.search(r'([\"\\d\\']\\s*(?:\\band\\b)\\s*)', coditions)\n",
    "    if matched:\n",
    "        _coditions = re.sub(r'[\"d\\']\\s*(?:\\band\\b)\\s*', '\",', coditions).split('\",')\n",
    "#         print(_coditions)\n",
    "        formated_coditions = [_w + '\"' for _w in _coditions[:-1]]\n",
    "        formated_coditions.append(_coditions[-1])\n",
    "#         print(formated_coditions)\n",
    "        return \",\".join(list(map(lambda x: x[0:x.find('=')], formated_coditions)))\n",
    "    else:\n",
    "        return \"\""
   ]
  },
  {
   "cell_type": "code",
   "execution_count": 11,
   "metadata": {},
   "outputs": [],
   "source": [
    "def get_field_names(coditions):\n",
    "    coditions = coditions.strip()\n",
    "    matched = re.search(r'([\"\\d\\']\\s*(?:\\band\\b)\\s*)', coditions)\n",
    "    if matched:\n",
    "        _coditions = re.sub(r'[\"d\\']\\s*(?:\\band\\b)\\s*', '\",', coditions).split('\",')\n",
    "#         print(_coditions)\n",
    "        formated_coditions = [_w + '\"' for _w in _coditions[:-1]]\n",
    "        formated_coditions.append(_coditions[-1])\n",
    "        print(formated_coditions)\n",
    "        return \",\".join(list(map(lambda x: x[0:x.find('=')], formated_coditions)))\n",
    "    else:\n",
    "        return \"\""
   ]
  },
  {
   "cell_type": "code",
   "execution_count": 12,
   "metadata": {},
   "outputs": [
    {
     "name": "stdout",
     "output_type": "stream",
     "text": [
      "['ty\"pe=\\'护士站主机  \"', \"`descr an'd iption`='a,b'\"]\n",
      "ty\"pe,`descr an'd iption`\n",
      "\n",
      "s\"n d'esc and `t'i and me` asc\n"
     ]
    }
   ],
   "source": [
    "_where = ' type=\"护士站主机  \"  and `descr an\\'d iption`=\"a,b\"  '\n",
    "_where = \" ty\\\"pe='护士站主机  '  and `descr an'd iption`='a,b'  \"\n",
    "_orderby = 'sn desc and `ti and me` asc'\n",
    "_orderby = \"s\\\"n d'esc and `t'i and me` asc\"\n",
    "# _where = \"type='护士站主机  '  and`des cription`=123\"\n",
    "print(get_field_names(_where))\n",
    "print(_get_field_names(_orderby))\n",
    "print(_orderby)"
   ]
  },
  {
   "cell_type": "code",
   "execution_count": 9,
   "metadata": {},
   "outputs": [
    {
     "name": "stdout",
     "output_type": "stream",
     "text": [
      "a.`s' n` , b.`a and b`\n",
      "a.`s' n` desc and b.`a and b` asc\n",
      "a.type=\"护士站主机  \" , a.`descr and iption`=\"a , b\"\n"
     ]
    }
   ],
   "source": [
    "_groupby = \"`s' n` , `a and b`\"\n",
    "_orderby = \"`s' n` desc and `a and b` asc\"\n",
    "_where = ' type=\"护士站主机  \", `descr and iption`=\"a,b\"  '\n",
    "_list_a = ['s\\' n', 'type', 'descr and iption']\n",
    "_list_b = ['a and b', 'type']\n",
    "def prefix_valid_fields(conditions, separator=\",\", suffix=\"\\\\s*\", list_a=None, list_b=None):\n",
    "    conditions = conditions.strip()\n",
    "    _separator = \" %s \" % separator.strip()\n",
    "    _conditions = conditions.split(separator)\n",
    "    _list_a = list_a or []\n",
    "    _list_b = list_b or []\n",
    "#     print(_conditions)\n",
    "    _c_len = len(_conditions)\n",
    "    for i, _c in enumerate(_conditions):\n",
    "        if ((\"\".join(_conditions[:i]).count('`') + _c.count('`')) % 2 == 0):\n",
    "            __c = re.sub(r'%s$' % suffix, \"\", _c).strip().strip('`')\n",
    "#             print('wong: %s' % __c)\n",
    "        elif i < _c_len - 1:\n",
    "#             print('meow: %s' % _c + _seprator + _conditions[i+1])\n",
    "            __c = re.sub(r'%s$' % suffix, \"\", _c + _separator + _conditions[i+1]).strip().strip('`')\n",
    "#         print(\"__c: %s\" % __c)\n",
    "        if __c in _list_a:\n",
    "            _conditions[i] = \"a.\" + _c.strip()\n",
    "        elif __c in _list_b:\n",
    "            _conditions[i] = \"b.\" + _c.strip()\n",
    "    return _separator.join(_conditions)\n",
    "print(prefix_valid_fields(_groupby, separator=\",\", suffix=\"\\\\s*\", list_a=_list_a, list_b=_list_b))\n",
    "print(prefix_valid_fields(_orderby, separator=\" and \", suffix=\"\\\\s+\\\\b(desc|asc)\\\\b\\\\s*\", list_a=_list_a, list_b=_list_b))\n",
    "print(prefix_valid_fields(_where, separator=\",\", suffix=\"\\\\s*(=\\\\s*.*)\", list_a=_list_a, list_b=_list_b))"
   ]
  },
  {
   "cell_type": "code",
   "execution_count": 14,
   "metadata": {},
   "outputs": [],
   "source": [
    "from functools import wraps"
   ]
  },
  {
   "cell_type": "code",
   "execution_count": 35,
   "metadata": {},
   "outputs": [],
   "source": [
    "def default_params(*args, **default_kwargs):\n",
    "\n",
    "    def deco(func):\n",
    "        @wraps(func)\n",
    "        def wrapper(*args, **kwargs):\n",
    "            default_kwargs.update(**kwargs)\n",
    "            func(*args, **default_kwargs)\n",
    "        return wrapper\n",
    "\n",
    "    return deco"
   ]
  },
  {
   "cell_type": "code",
   "execution_count": 36,
   "metadata": {},
   "outputs": [],
   "source": [
    "@default_params(\"woo\", meow=1, wong=2)\n",
    "def meow(meow, wong):\n",
    "    print(meow, wong)"
   ]
  },
  {
   "cell_type": "code",
   "execution_count": 39,
   "metadata": {},
   "outputs": [
    {
     "name": "stdout",
     "output_type": "stream",
     "text": [
      "6 2\n"
     ]
    }
   ],
   "source": [
    "meow(meow=6)"
   ]
  },
  {
   "cell_type": "code",
   "execution_count": null,
   "metadata": {},
   "outputs": [],
   "source": []
  }
 ],
 "metadata": {
  "kernelspec": {
   "display_name": "Python 3",
   "language": "python",
   "name": "python3"
  },
  "language_info": {
   "codemirror_mode": {
    "name": "ipython",
    "version": 3
   },
   "file_extension": ".py",
   "mimetype": "text/x-python",
   "name": "python",
   "nbconvert_exporter": "python",
   "pygments_lexer": "ipython3",
   "version": "3.5.4rc1"
  }
 },
 "nbformat": 4,
 "nbformat_minor": 2
}
