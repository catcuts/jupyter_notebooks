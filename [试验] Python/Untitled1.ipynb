{
 "cells": [
  {
   "cell_type": "code",
   "execution_count": 56,
   "metadata": {},
   "outputs": [],
   "source": [
    "import types\n",
    "\n",
    "_globals = {}\n",
    "_locals = {}\n",
    "\n",
    "if True:\n",
    "    code = \"\"\"\n",
    "def _on_receive_{method}({kwargs}): \n",
    "    print(\"result: %s\" % \"{kwargs}\")\n",
    "    \"\"\".format(method=\"get\", kwargs=\"a, b\")\n",
    "exec(code, _globals, _locals)"
   ]
  },
  {
   "cell_type": "code",
   "execution_count": 57,
   "metadata": {},
   "outputs": [
    {
     "name": "stdout",
     "output_type": "stream",
     "text": [
      "result: a, b\n"
     ]
    }
   ],
   "source": [
    "_locals[\"_on_receive_get\"](a=1,b=2)"
   ]
  },
  {
   "cell_type": "code",
   "execution_count": 54,
   "metadata": {},
   "outputs": [],
   "source": [
    "import inspect\n",
    "\n",
    "def myfunc(a, b, c, d):\n",
    "\n",
    "    f = inspect.currentframe()\n",
    "    v = inspect.getargvalues(f)\n",
    "\n",
    "    for arg in v.args:\n",
    "        var_value = v.locals[arg]\n",
    "        if var_value:\n",
    "            print(arg, '=> ', var_value)"
   ]
  },
  {
   "cell_type": "code",
   "execution_count": 55,
   "metadata": {},
   "outputs": [
    {
     "name": "stdout",
     "output_type": "stream",
     "text": [
      "a =>  1\n",
      "b =>  2\n",
      "c =>  3\n",
      "d =>  4\n"
     ]
    }
   ],
   "source": [
    "myfunc(1,2,3,4)"
   ]
  },
  {
   "cell_type": "code",
   "execution_count": null,
   "metadata": {},
   "outputs": [],
   "source": []
  }
 ],
 "metadata": {
  "kernelspec": {
   "display_name": "Python 3",
   "language": "python",
   "name": "python3"
  },
  "language_info": {
   "codemirror_mode": {
    "name": "ipython",
    "version": 3
   },
   "file_extension": ".py",
   "mimetype": "text/x-python",
   "name": "python",
   "nbconvert_exporter": "python",
   "pygments_lexer": "ipython3",
   "version": "3.5.4rc1"
  }
 },
 "nbformat": 4,
 "nbformat_minor": 2
}
