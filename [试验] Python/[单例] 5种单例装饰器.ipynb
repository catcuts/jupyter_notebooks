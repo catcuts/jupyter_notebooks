{
 "cells": [
  {
   "cell_type": "code",
   "execution_count": 24,
   "metadata": {},
   "outputs": [],
   "source": [
    "from functools import wraps, partial\n",
    "import inspect"
   ]
  },
  {
   "cell_type": "markdown",
   "metadata": {},
   "source": [
    "# 一 (不行，因为会返回一个函数而不是类，类变量无法访问，而且多次 init)"
   ]
  },
  {
   "cell_type": "code",
   "execution_count": 2,
   "metadata": {},
   "outputs": [],
   "source": [
    "def singleton(cls): \n",
    "    assert inspect.isclass(cls), 'The Singleton decorator can only be applied to class'\n",
    "    \n",
    "    instances = {}\n",
    "\n",
    "    def _singleton(*args, **kw):\n",
    "        if cls not in instances:\n",
    "            instances[cls] = cls(*args, **kw)\n",
    "        return instances[cls]\n",
    "\n",
    "    return _singleton"
   ]
  },
  {
   "cell_type": "markdown",
   "metadata": {},
   "source": [
    "# 二 (可以，返回一个类，类变量仍可以访问)"
   ]
  },
  {
   "cell_type": "code",
   "execution_count": 89,
   "metadata": {},
   "outputs": [],
   "source": [
    "def Singleton(cls):\n",
    "    # 如果装饰在基类上, 则继承类的实例的类变量永远是基类的类变量, 而不能拥有自己的类变量\n",
    "    assert inspect.isclass(cls), 'The Singleton decorator can only be applied to class'\n",
    "\n",
    "    def run_only_once(func):\n",
    "        \"\"\"\n",
    "         使__init__只运行一次\n",
    "        \"\"\"\n",
    "\n",
    "        @wraps(func)\n",
    "        def _wrapper_init(self, *args, **kwargs):\n",
    "            if not hasattr(self, \"___init__called\"):\n",
    "                self.___init__called = True\n",
    "                \n",
    "                return func(self, *args, **kwargs)\n",
    "\n",
    "        return _wrapper_init\n",
    "\n",
    "    def newfunc(clsobj, *args, **kwargs):\n",
    "        \"\"\"\n",
    "        使用元编程实现单例\n",
    "        \"\"\"\n",
    "        if not hasattr(clsobj, \"__instance\"):\n",
    "            setattr(clsobj, \"__instance\", object.__new__(clsobj))\n",
    "        return getattr(clsobj, \"__instance\")\n",
    "\n",
    "    # 拦截__new__方法\n",
    "    setattr(cls, \"__new__\", classmethod(newfunc))\n",
    "    # 由于在创建cls时，python会调用__new__来创建实例，然后再调用实例的__init__\n",
    "    # 这样通过在__new__使用object__new__能确保每次实例化cls时均返回同一个实例。\n",
    "    # 但是python还是会调用__new__的__init__，这样会导致__init__方法每实例一次就会调用一次\n",
    "    # 这种行为不是我们需要的，因此我们通过run_on_once装饰器做一定的处理，使__init__只调用一次\n",
    "    setattr(cls, \"__init__\", run_only_once(cls.__init__))\n",
    "    return cls"
   ]
  },
  {
   "cell_type": "markdown",
   "metadata": {},
   "source": [
    "## 测试"
   ]
  },
  {
   "cell_type": "code",
   "execution_count": 91,
   "metadata": {},
   "outputs": [
    {
     "name": "stdout",
     "output_type": "stream",
     "text": [
      "__init__!\n",
      "139947553174192\n",
      "139947553174192\n",
      "139947553174192\n"
     ]
    }
   ],
   "source": [
    "tt = 0\n",
    "\n",
    "def timer():\n",
    "    global tt\n",
    "    tt += 1\n",
    "    return tt\n",
    "\n",
    "@Singleton  \n",
    "# @singleton  \n",
    "class Person:\n",
    "#     t = timer()\n",
    "    a = 1\n",
    "\n",
    "    def __init__(self, name=None, age=None):\n",
    "        print(\"__init__!\")\n",
    "        self.name = name\n",
    "        self.age = age\n",
    "#         self.t = Person.t\n",
    "\n",
    "def create_person():\n",
    "    person1 = Person('lucky', 24)\n",
    "    person2 = Person('lau', 26)\n",
    "    person3 = Person()\n",
    "    print(id(person1))\n",
    "    print(id(person2))\n",
    "    print(id(person3))\n",
    "\n",
    "create_person()"
   ]
  },
  {
   "cell_type": "code",
   "execution_count": 92,
   "metadata": {},
   "outputs": [
    {
     "name": "stdout",
     "output_type": "stream",
     "text": [
      "1\n"
     ]
    }
   ],
   "source": [
    "class People(Person):\n",
    "    a = 2\n",
    "    \n",
    "p = People()\n",
    "print(p.a)"
   ]
  },
  {
   "cell_type": "markdown",
   "metadata": {},
   "source": [
    "# 三 (不行，因为会返回一个函数而不是类，类变量无法访问)"
   ]
  },
  {
   "cell_type": "code",
   "execution_count": 5,
   "metadata": {},
   "outputs": [],
   "source": [
    "def singleton_by_features(**features):\n",
    "    instances = {}  # { <features_dict_frozenset>: <instance> }\n",
    "    fts = set(features.items())\n",
    "    fts_len = len(fts)\n",
    "    fts_frozen = frozenset(features.items())\n",
    "    def singleton(cls):\n",
    "        assert inspect.isclass(cls), 'The Singleton decorator can only be applied to class'\n",
    "        \n",
    "        def _singleton(*args, **kw):\n",
    "            instanced = fts_frozen in instances\n",
    "            if not instanced or (instanced and len(fts - set(kw.items())) == fts_len):  # 说明没有任何交集\n",
    "                instances[fts_frozen] = cls(*args, **kw)  # 则实例化\n",
    "            return instances[fts_frozen]  # 否则返回单例\n",
    "\n",
    "        return _singleton\n",
    "\n",
    "    return singleton"
   ]
  },
  {
   "cell_type": "markdown",
   "metadata": {},
   "source": [
    "# 四 (不行，因为会返回一个函数而不是类，类变量无法访问)"
   ]
  },
  {
   "cell_type": "code",
   "execution_count": 6,
   "metadata": {},
   "outputs": [],
   "source": [
    "def singleton_over_features(*features):\n",
    "    instances = {}  # { <features_dict_frozenset>: <instance> }\n",
    "    print(\"meow\")\n",
    "    def singleton(cls):\n",
    "        assert inspect.isclass(cls), 'The Singleton decorator can only be applied to class'\n",
    "\n",
    "        def _singleton(*args, **kw):\n",
    "            fts = {k: v for k, v in kw.items() if k in features}\n",
    "            fts_set = set(fts.items())\n",
    "            fts_frozenset = frozenset(fts.items())\n",
    "\n",
    "            instanced = fts_frozenset in instances\n",
    "            if not instanced or (instanced and len(fts_set - set(kw.items())) == len(fts_set)):  # 说明没有任何交集\n",
    "                instances[fts_frozenset] = cls(*args, **kw)  # 则实例化\n",
    "            return instances[fts_frozenset]  # 否则返回单例\n",
    "\n",
    "        return _singleton\n",
    "\n",
    "    return singleton"
   ]
  },
  {
   "cell_type": "markdown",
   "metadata": {},
   "source": [
    "## 测试"
   ]
  },
  {
   "cell_type": "code",
   "execution_count": 7,
   "metadata": {},
   "outputs": [
    {
     "name": "stdout",
     "output_type": "stream",
     "text": [
      "meow\n",
      "[A]__init__!\n",
      "[A]__init__!\n",
      "[B]__init__!\n",
      "[B]__init__!\n",
      "139947553841448\n",
      "139947553841728\n",
      "139947553841840\n",
      "139947553841560\n"
     ]
    }
   ],
   "source": [
    "class A:\n",
    "    def __init__(self, a, b=None):\n",
    "        print(\"[A]__init__!\")\n",
    "        self.a = a\n",
    "        self.b = 2\n",
    "\n",
    "# @singleton_by_features(a=1)\n",
    "@singleton_over_features('a', 'b')\n",
    "class B:\n",
    "    def __init__(self, a, b=None):\n",
    "        print(\"[B]__init__!\")\n",
    "        self.a = a\n",
    "        self.b = 2\n",
    "    \n",
    "a1 = A(1)\n",
    "a2 = A(1)\n",
    "b1 = B(a=a1,b=2)\n",
    "b2 = B(a=a2,b=2)\n",
    "print(id(a1))\n",
    "print(id(a2))\n",
    "print(id(b1))\n",
    "print(id(b2))"
   ]
  },
  {
   "cell_type": "markdown",
   "metadata": {},
   "source": [
    "# 五 (可以, 基于特征的单例, 不可以, 因为 list is unhashable)"
   ]
  },
  {
   "cell_type": "code",
   "execution_count": 13,
   "metadata": {},
   "outputs": [],
   "source": [
    "def singleton_on_features(*features):\n",
    "\n",
    "    instances = {}  # { <features_dict_frozenset>: <instance> }\n",
    "\n",
    "    def singleton(cls):\n",
    "        assert inspect.isclass(cls), 'The Singleton decorator can only be applied to class'\n",
    "\n",
    "        func = cls.__init__\n",
    "\n",
    "        @wraps(func)\n",
    "        def _wrapper_init(self, *args, **kwargs):\n",
    "            if not hasattr(self, \"___init__called\"):\n",
    "                self.___init__called = True\n",
    "                return func(self, *args, **kwargs)\n",
    "#             else:\n",
    "#                 raise Exception(\"Conflict naming: ___init__called\")\n",
    "\n",
    "        def _new(clsobj, *args, **kwargs):\n",
    "            \"\"\"\n",
    "            使用元编程实现单例\n",
    "            \"\"\"\n",
    "            fts = {k: v for k, v in kwargs.items() if k in features}\n",
    "            fts_set = set(fts.items())\n",
    "            fts_frozenset = frozenset(fts.items())\n",
    "\n",
    "            instanced = fts_frozenset in instances\n",
    "            if not instanced or (instanced and len(fts_set - set(kwargs.items())) == len(fts_set)):  # 说明没有任何交集\n",
    "                instances[fts_frozenset] = object.__new__(clsobj)  # 则实例化\n",
    "            return instances[fts_frozenset]  # 否则返回单例\n",
    "\n",
    "        # 拦截__new__方法\n",
    "        setattr(cls, \"__new__\", classmethod(_new))\n",
    "        # 由于在创建cls时，python会调用__new__来创建实例，然后再调用实例的__init__\n",
    "        # 这样通过在__new__使用object__new__能确保每次实例化cls时均返回同一个实例。\n",
    "        # 但是python还是会调用__new__的__init__，这样会导致__init__方法每实例一次就会调用一次\n",
    "        # 这种行为不是我们需要的，因此我们通过run_on_once装饰器做一定的处理，使__init__只调用一次\n",
    "        setattr(cls, \"__init__\", _wrapper_init)\n",
    "        return cls\n",
    "\n",
    "    return singleton"
   ]
  },
  {
   "cell_type": "code",
   "execution_count": 14,
   "metadata": {},
   "outputs": [
    {
     "name": "stdout",
     "output_type": "stream",
     "text": [
      "[C]__init__!\n",
      "[C]__init__!\n",
      "[D]__init__!\n",
      "x\n",
      "139947553356824\n",
      "139947553356600\n",
      "139947553353856\n",
      "139947553353856\n",
      "x\n"
     ]
    }
   ],
   "source": [
    "class C:\n",
    "    def __init__(self, a, b=None):\n",
    "        print(\"[C]__init__!\")\n",
    "        self.a = a\n",
    "        self.b = 2\n",
    "\n",
    "@singleton_on_features('a', 'b')\n",
    "class D:\n",
    "    x = 'x'\n",
    "    def __init__(self, a, b=None):\n",
    "        print(\"[D]__init__!\")\n",
    "        self.a = a\n",
    "        self.b = 2\n",
    "        print(D.x)\n",
    "        \n",
    "c1 = C(1)\n",
    "c2 = C(1)\n",
    "d1 = D(a=a1,b=2)\n",
    "d2 = D(a=a1,b=2)\n",
    "print(id(c1))\n",
    "print(id(c2))\n",
    "print(id(d1))\n",
    "print(id(d2))\n",
    "print(d2.x)"
   ]
  },
  {
   "cell_type": "markdown",
   "metadata": {},
   "source": [
    "# 六 (来自 interview-python)"
   ]
  },
  {
   "cell_type": "code",
   "execution_count": null,
   "metadata": {},
   "outputs": [],
   "source": [
    "class Singleton(object):\n",
    "    def __new__(cls, *args, **kw):\n",
    "        if not hasattr(cls, '_instance'):\n",
    "            orig = super(Singleton, cls)\n",
    "            cls._instance = orig.__new__(cls, *args, **kw)\n",
    "        return cls._instance\n",
    "\n",
    "class MyClass(Singleton):\n",
    "    a = 1\n",
    "    def __init__(self):  # 这个是我额外加的, 显示了 虽然单例但是 init 多次\n",
    "        print(\"__init__ !\")"
   ]
  },
  {
   "cell_type": "code",
   "execution_count": null,
   "metadata": {},
   "outputs": [],
   "source": [
    "my = MyClass()\n",
    "my_too = MyClass()\n",
    "my == my_too"
   ]
  },
  {
   "cell_type": "markdown",
   "metadata": {},
   "source": [
    "# 七"
   ]
  },
  {
   "cell_type": "code",
   "execution_count": 21,
   "metadata": {},
   "outputs": [],
   "source": [
    "def singleton_on_features(*features):\n",
    "    \n",
    "    instances = {}  # { <inst_key>: <instance> }\n",
    "\n",
    "    def singleton(cls):\n",
    "        assert inspect.isclass(cls), 'The Singleton decorator can only be applied to class'\n",
    "\n",
    "        func = cls.__init__\n",
    "\n",
    "        @wraps(func)\n",
    "        def _wrapper_init(self, *args, **kwargs):\n",
    "            if not hasattr(self, \"___init__called\"):\n",
    "                self.___init__called = True\n",
    "                return func(self, *args, **kwargs)\n",
    "#             else:\n",
    "#                 raise Exception(\"Conflict naming: ___init__called\")\n",
    "\n",
    "        def _get_instance_key(fts, kw):\n",
    "            for ftk, ftv in fts.items():\n",
    "                try:\n",
    "                    if kw[ftk] != ftv:\n",
    "                        print(\"not matched\")\n",
    "                        return None\n",
    "                except KeyError:\n",
    "                    continue\n",
    "            print(\"matched\")\n",
    "            return frozenset(fts.keys())\n",
    "\n",
    "        def _new(clsobj, *args, **kwargs):\n",
    "            \"\"\"\n",
    "            使用元编程实现单例\n",
    "            \"\"\"\n",
    "            kw = {k: v for k, v in kwargs.items() if k in features}\n",
    "            key = frozenset(kw.keys())\n",
    "            \n",
    "            if not instances.get(key):\n",
    "                inst_key = partial()\n",
    "                instances[inst_key] = object.__new__(clsobj)  # 则实例化\n",
    "            return instances[inst_key]  # 否则返回单例\n",
    "\n",
    "        # 拦截__new__方法\n",
    "        setattr(cls, \"__new__\", classmethod(_new))\n",
    "        # 由于在创建cls时，python会调用__new__来创建实例，然后再调用实例的__init__\n",
    "        # 这样通过在__new__使用object__new__能确保每次实例化cls时均返回同一个实例。\n",
    "        # 但是python还是会调用__new__的__init__，这样会导致__init__方法每实例一次就会调用一次\n",
    "        # 这种行为不是我们需要的，因此我们通过run_on_once装饰器做一定的处理，使__init__只调用一次\n",
    "        setattr(cls, \"__init__\", _wrapper_init)\n",
    "        return cls\n",
    "\n",
    "    return singleton"
   ]
  },
  {
   "cell_type": "code",
   "execution_count": 23,
   "metadata": {},
   "outputs": [
    {
     "name": "stdout",
     "output_type": "stream",
     "text": [
      "[C]__init__!\n",
      "[C]__init__!\n",
      "[D]__init__!\n",
      "x\n"
     ]
    },
    {
     "ename": "TypeError",
     "evalue": "unhashable type: 'dict'",
     "output_type": "error",
     "traceback": [
      "\u001b[0;31m---------------------------------------------------------------------------\u001b[0m",
      "\u001b[0;31mTypeError\u001b[0m                                 Traceback (most recent call last)",
      "\u001b[0;32m<ipython-input-23-bdde5ee58dcb>\u001b[0m in \u001b[0;36m<module>\u001b[0;34m()\u001b[0m\n\u001b[1;32m     17\u001b[0m \u001b[0mc2\u001b[0m \u001b[0;34m=\u001b[0m \u001b[0mC\u001b[0m\u001b[0;34m(\u001b[0m\u001b[0;36m1\u001b[0m\u001b[0;34m)\u001b[0m\u001b[0;34m\u001b[0m\u001b[0m\n\u001b[1;32m     18\u001b[0m \u001b[0md1\u001b[0m \u001b[0;34m=\u001b[0m \u001b[0mD\u001b[0m\u001b[0;34m(\u001b[0m\u001b[0ma\u001b[0m\u001b[0;34m=\u001b[0m\u001b[0ma1\u001b[0m\u001b[0;34m,\u001b[0m\u001b[0mb\u001b[0m\u001b[0;34m=\u001b[0m\u001b[0;36m2\u001b[0m\u001b[0;34m)\u001b[0m\u001b[0;34m\u001b[0m\u001b[0m\n\u001b[0;32m---> 19\u001b[0;31m \u001b[0md2\u001b[0m \u001b[0;34m=\u001b[0m \u001b[0mD\u001b[0m\u001b[0;34m(\u001b[0m\u001b[0ma\u001b[0m\u001b[0;34m=\u001b[0m\u001b[0ma1\u001b[0m\u001b[0;34m,\u001b[0m\u001b[0mb\u001b[0m\u001b[0;34m=\u001b[0m\u001b[0;34m{\u001b[0m\u001b[0;34m}\u001b[0m\u001b[0;34m)\u001b[0m\u001b[0;34m\u001b[0m\u001b[0m\n\u001b[0m\u001b[1;32m     20\u001b[0m \u001b[0mprint\u001b[0m\u001b[0;34m(\u001b[0m\u001b[0mid\u001b[0m\u001b[0;34m(\u001b[0m\u001b[0mc1\u001b[0m\u001b[0;34m)\u001b[0m\u001b[0;34m)\u001b[0m\u001b[0;34m\u001b[0m\u001b[0m\n\u001b[1;32m     21\u001b[0m \u001b[0mprint\u001b[0m\u001b[0;34m(\u001b[0m\u001b[0mid\u001b[0m\u001b[0;34m(\u001b[0m\u001b[0mc2\u001b[0m\u001b[0;34m)\u001b[0m\u001b[0;34m)\u001b[0m\u001b[0;34m\u001b[0m\u001b[0m\n",
      "\u001b[0;32m<ipython-input-21-26c07a8851dd>\u001b[0m in \u001b[0;36m_new\u001b[0;34m(clsobj, *args, **kwargs)\u001b[0m\n\u001b[1;32m     35\u001b[0m             \u001b[0mfts\u001b[0m \u001b[0;34m=\u001b[0m \u001b[0;34m{\u001b[0m\u001b[0mk\u001b[0m\u001b[0;34m:\u001b[0m \u001b[0mv\u001b[0m \u001b[0;32mfor\u001b[0m \u001b[0mk\u001b[0m\u001b[0;34m,\u001b[0m \u001b[0mv\u001b[0m \u001b[0;32min\u001b[0m \u001b[0mkwargs\u001b[0m\u001b[0;34m.\u001b[0m\u001b[0mitems\u001b[0m\u001b[0;34m(\u001b[0m\u001b[0;34m)\u001b[0m \u001b[0;32mif\u001b[0m \u001b[0mk\u001b[0m \u001b[0;32min\u001b[0m \u001b[0mfeatures\u001b[0m\u001b[0;34m}\u001b[0m\u001b[0;34m\u001b[0m\u001b[0m\n\u001b[1;32m     36\u001b[0m             \u001b[0mfts_items\u001b[0m \u001b[0;34m=\u001b[0m \u001b[0mfts\u001b[0m\u001b[0;34m.\u001b[0m\u001b[0mitems\u001b[0m\u001b[0;34m(\u001b[0m\u001b[0;34m)\u001b[0m\u001b[0;34m\u001b[0m\u001b[0m\n\u001b[0;32m---> 37\u001b[0;31m             \u001b[0mfts_set\u001b[0m \u001b[0;34m=\u001b[0m \u001b[0mset\u001b[0m\u001b[0;34m(\u001b[0m\u001b[0mfts_items\u001b[0m\u001b[0;34m)\u001b[0m\u001b[0;34m\u001b[0m\u001b[0m\n\u001b[0m\u001b[1;32m     38\u001b[0m             \u001b[0mfts_frozenset\u001b[0m \u001b[0;34m=\u001b[0m \u001b[0mfrozenset\u001b[0m\u001b[0;34m(\u001b[0m\u001b[0mfts_items\u001b[0m\u001b[0;34m)\u001b[0m\u001b[0;34m\u001b[0m\u001b[0m\n\u001b[1;32m     39\u001b[0m \u001b[0;34m\u001b[0m\u001b[0m\n",
      "\u001b[0;31mTypeError\u001b[0m: unhashable type: 'dict'"
     ]
    }
   ],
   "source": [
    "class C:\n",
    "    def __init__(self, a, b=None):\n",
    "        print(\"[C]__init__!\")\n",
    "        self.a = a\n",
    "        self.b = 2\n",
    "\n",
    "@singleton_on_features('a', 'b')\n",
    "class D:\n",
    "    x = 'x'\n",
    "    def __init__(self, a, b=None):\n",
    "        print(\"[D]__init__!\")\n",
    "        self.a = a\n",
    "        self.b = 2\n",
    "        print(D.x)\n",
    "        \n",
    "c1 = C(1)\n",
    "c2 = C(1)\n",
    "d1 = D(a=a1,b=2)\n",
    "d2 = D(a=a1,b={})\n",
    "print(id(c1))\n",
    "print(id(c2))\n",
    "print(id(d1))\n",
    "print(id(d2))\n",
    "print(d2.x)"
   ]
  },
  {
   "cell_type": "markdown",
   "metadata": {},
   "source": [
    "# 八 单特征"
   ]
  },
  {
   "cell_type": "code",
   "execution_count": 51,
   "metadata": {},
   "outputs": [],
   "source": [
    "def singleton_on_feature(feature):  # 注: 暂 feature_value 不支持 dict 和 list\n",
    "    \n",
    "    instances = {}  # { <inst_key>: <instance> }\n",
    "\n",
    "    def singleton(cls):\n",
    "        assert inspect.isclass(cls), 'The Singleton decorator can only be applied to class'\n",
    "\n",
    "        func = cls.__init__\n",
    "\n",
    "        @wraps(func)\n",
    "        def _wrapper_init(self, *args, **kwargs):\n",
    "            if not hasattr(self, \"___init__called\"):\n",
    "                self.___init__called = True\n",
    "                return func(self, *args, **kwargs)\n",
    "\n",
    "        def _new(clsobj, *args, **kwargs):\n",
    "            \"\"\"\n",
    "            使用元编程实现单例\n",
    "            \"\"\"\n",
    "            \n",
    "            try:\n",
    "                feature_value = kwargs[feature]\n",
    "                inst_key = (feature, feature_value)  # 构造 key\n",
    "            except:\n",
    "                inst_key = None\n",
    "                \n",
    "            if not inst_key or not instances.get(inst_key):  # 没有 inst_key 或有但是没有对应实例\n",
    "                instances[inst_key] = object.__new__(clsobj)  # 则实例化并保存\n",
    "    \n",
    "            return instances[inst_key]  # 返回单例\n",
    "\n",
    "        # 拦截__new__方法\n",
    "        setattr(cls, \"__new__\", classmethod(_new))\n",
    "        # 由于在创建cls时，python会调用__new__来创建实例，然后再调用实例的__init__\n",
    "        # 这样通过在__new__使用object__new__能确保每次实例化cls时均返回同一个实例。\n",
    "        # 但是python还是会调用__new__的__init__，这样会导致__init__方法每实例一次就会调用一次\n",
    "        # 这种行为不是我们需要的，因此我们通过run_on_once装饰器做一定的处理，使__init__只调用一次\n",
    "        setattr(cls, \"__init__\", _wrapper_init)\n",
    "        return cls\n",
    "\n",
    "    return singleton"
   ]
  },
  {
   "cell_type": "code",
   "execution_count": 50,
   "metadata": {},
   "outputs": [
    {
     "name": "stdout",
     "output_type": "stream",
     "text": [
      "[C]__init__!\n",
      "[C]__init__!\n",
      "[D]__init__!\n",
      "x\n",
      "139947553085424\n",
      "139947553085872\n",
      "139947553085480\n",
      "139947553085480\n",
      "x\n"
     ]
    }
   ],
   "source": [
    "class C:\n",
    "    def __init__(self, a, b=None):\n",
    "        print(\"[C]__init__!\")\n",
    "        self.a = a\n",
    "        self.b = 2\n",
    "\n",
    "@singleton_on_feature('b')\n",
    "class D:\n",
    "    x = 'x'\n",
    "    def __init__(self, a, b=None):\n",
    "        print(\"[D]__init__!\")\n",
    "        self.a = a\n",
    "        self.b = 2\n",
    "        print(D.x)\n",
    "        \n",
    "c1 = C(1)\n",
    "c2 = C(1)\n",
    "d1 = D(a=c1,b=(1,))\n",
    "d2 = D(a=c1,b=(1,))\n",
    "print(id(c1))\n",
    "print(id(c2))\n",
    "print(id(d1))\n",
    "print(id(d2))\n",
    "print(d2.x)"
   ]
  },
  {
   "cell_type": "markdown",
   "metadata": {},
   "source": [
    "## 九 修正基类问题"
   ]
  },
  {
   "cell_type": "code",
   "execution_count": 110,
   "metadata": {},
   "outputs": [],
   "source": [
    "def SingletonX(cls):\n",
    "    # 如果装饰在基类上, 则继承类的实例的类变量永远是基类的类变量, 而不能拥有自己的类变量\n",
    "    assert inspect.isclass(cls), 'The Singleton decorator can only be applied to class'\n",
    "\n",
    "    def run_only_once(func):\n",
    "        \"\"\"\n",
    "         使__init__只运行一次\n",
    "        \"\"\"\n",
    "\n",
    "        @wraps(func)\n",
    "        def _wrapper_init(self, *args, **kwargs):\n",
    "            if not hasattr(self, \"___init__called\"):\n",
    "                self.___init__called = True\n",
    "                print(\"meow: %s\" % self.a)\n",
    "                return func(self, *args, **kwargs)\n",
    "\n",
    "        return _wrapper_init\n",
    "\n",
    "    def newfunc(clsobj, *args, **kwargs):\n",
    "        \"\"\"\n",
    "        使用元编程实现单例\n",
    "        \"\"\"\n",
    "        if not hasattr(clsobj, \"__instance\"):\n",
    "            setattr(clsobj, \"__instance\", object.__new__(clsobj))\n",
    "        return getattr(clsobj, \"__instance\")\n",
    "\n",
    "    # 拦截__new__方法\n",
    "    setattr(cls, \"__new__\", newfunc)\n",
    "    # 由于在创建cls时，python会调用__new__来创建实例，然后再调用实例的__init__\n",
    "    # 这样通过在__new__使用object__new__能确保每次实例化cls时均返回同一个实例。\n",
    "    # 但是python还是会调用__new__的__init__，这样会导致__init__方法每实例一次就会调用一次\n",
    "    # 这种行为不是我们需要的，因此我们通过run_on_once装饰器做一定的处理，使__init__只调用一次\n",
    "    setattr(cls, \"__init__\", run_only_once(cls.__init__))\n",
    "    return cls"
   ]
  },
  {
   "cell_type": "code",
   "execution_count": 111,
   "metadata": {},
   "outputs": [
    {
     "name": "stdout",
     "output_type": "stream",
     "text": [
      "meow: 12\n",
      "__init__!\n",
      "139947553174024\n",
      "139947553174024\n",
      "139947553174024\n"
     ]
    }
   ],
   "source": [
    "@SingletonX   \n",
    "class P:\n",
    "    a = 12\n",
    "\n",
    "    def __init__(self, name=None, age=None):\n",
    "        print(\"__init__!\")\n",
    "        self.name = name\n",
    "        self.age = age\n",
    "#         self.t = Person.t\n",
    "\n",
    "def create_p():\n",
    "    person1 = P('lucky', 24)\n",
    "    person2 = P('lau', 26)\n",
    "    person3 = P()\n",
    "    print(id(person1))\n",
    "    print(id(person2))\n",
    "    print(id(person3))\n",
    "\n",
    "create_p()"
   ]
  },
  {
   "cell_type": "code",
   "execution_count": 112,
   "metadata": {},
   "outputs": [
    {
     "name": "stdout",
     "output_type": "stream",
     "text": [
      "12\n"
     ]
    }
   ],
   "source": [
    "class Pl(P):\n",
    "    a = 24\n",
    "    \n",
    "p = Pl()\n",
    "print(p.a)"
   ]
  },
  {
   "cell_type": "code",
   "execution_count": null,
   "metadata": {},
   "outputs": [],
   "source": []
  }
 ],
 "metadata": {
  "kernelspec": {
   "display_name": "Python 3",
   "language": "python",
   "name": "python3"
  },
  "language_info": {
   "codemirror_mode": {
    "name": "ipython",
    "version": 3
   },
   "file_extension": ".py",
   "mimetype": "text/x-python",
   "name": "python",
   "nbconvert_exporter": "python",
   "pygments_lexer": "ipython3",
   "version": "3.5.4rc1"
  }
 },
 "nbformat": 4,
 "nbformat_minor": 2
}
