{
 "cells": [
  {
   "cell_type": "code",
   "execution_count": 1,
   "metadata": {},
   "outputs": [],
   "source": [
    "from functools import wraps, partial\n",
    "import inspect"
   ]
  },
  {
   "cell_type": "code",
   "execution_count": 2,
   "metadata": {},
   "outputs": [],
   "source": [
    "def SingletonX(cls):\n",
    "    # 如果装饰在基类上, 则继承类的实例的类变量永远是基类的类变量, 而不能拥有自己的类变量\n",
    "    assert inspect.isclass(cls), 'The Singleton decorator can only be applied to class'\n",
    "\n",
    "    def run_only_once(func):\n",
    "        \"\"\"\n",
    "         使__init__只运行一次\n",
    "        \"\"\"\n",
    "\n",
    "        @wraps(func)\n",
    "        def _wrapper_init(self, *args, **kwargs):\n",
    "            if not hasattr(self, \"___init__called\"):\n",
    "                self.___init__called = True\n",
    "                \n",
    "                return func(self, *args, **kwargs)\n",
    "\n",
    "        return _wrapper_init\n",
    "\n",
    "    def newfunc(clsobj, *args, **kwargs):\n",
    "        \"\"\"\n",
    "        使用元编程实现单例\n",
    "        \"\"\"\n",
    "#         print(clsobj.a)\n",
    "        if not hasattr(clsobj, \"__instance\"):\n",
    "            setattr(clsobj, \"__instance\", object.__new__(clsobj))\n",
    "        return getattr(clsobj, \"__instance\")\n",
    "\n",
    "    # 拦截__new__方法\n",
    "    setattr(cls, \"__new__\", newfunc)\n",
    "    # 由于在创建cls时，python会调用__new__来创建实例，然后再调用实例的__init__\n",
    "    # 这样通过在__new__使用object__new__能确保每次实例化cls时均返回同一个实例。\n",
    "    # 但是python还是会调用__new__的__init__，这样会导致__init__方法每实例一次就会调用一次\n",
    "    # 这种行为不是我们需要的，因此我们通过run_on_once装饰器做一定的处理，使__init__只调用一次\n",
    "    setattr(cls, \"__init__\", run_only_once(cls.__init__))\n",
    "    return cls"
   ]
  },
  {
   "cell_type": "code",
   "execution_count": 3,
   "metadata": {},
   "outputs": [
    {
     "name": "stdout",
     "output_type": "stream",
     "text": [
      "__init__!\n",
      "__init__!\n",
      "__init__!\n",
      "140179078074720\n",
      "140179078074776\n",
      "140179078074832\n"
     ]
    }
   ],
   "source": [
    "# @SingletonX   \n",
    "class P:\n",
    "    a = 12\n",
    "\n",
    "    def __init__(self, name=None, age=None):\n",
    "        print(\"__init__!\")\n",
    "        self.name = name\n",
    "        self.age = age\n",
    "#         self.t = Person.t\n",
    "\n",
    "def create_p():\n",
    "    person1 = P('lucky', 24)\n",
    "    person2 = P('lau', 26)\n",
    "    person3 = P()\n",
    "    print(id(person1))\n",
    "    print(id(person2))\n",
    "    print(id(person3))\n",
    "\n",
    "create_p()"
   ]
  },
  {
   "cell_type": "code",
   "execution_count": 4,
   "metadata": {},
   "outputs": [],
   "source": [
    "@SingletonX\n",
    "class Q(P):\n",
    "    a = 24"
   ]
  },
  {
   "cell_type": "code",
   "execution_count": 7,
   "metadata": {},
   "outputs": [],
   "source": [
    "@SingletonX\n",
    "class R(Q):\n",
    "    a = 36"
   ]
  },
  {
   "cell_type": "code",
   "execution_count": 8,
   "metadata": {},
   "outputs": [
    {
     "name": "stdout",
     "output_type": "stream",
     "text": [
      "48\n"
     ]
    }
   ],
   "source": [
    "@SingletonX\n",
    "class X(R):\n",
    "    a = 48\n",
    "    \n",
    "p = X()\n",
    "print(p.a)"
   ]
  },
  {
   "cell_type": "code",
   "execution_count": null,
   "metadata": {},
   "outputs": [],
   "source": []
  }
 ],
 "metadata": {
  "kernelspec": {
   "display_name": "Python 3",
   "language": "python",
   "name": "python3"
  },
  "language_info": {
   "codemirror_mode": {
    "name": "ipython",
    "version": 3
   },
   "file_extension": ".py",
   "mimetype": "text/x-python",
   "name": "python",
   "nbconvert_exporter": "python",
   "pygments_lexer": "ipython3",
   "version": "3.5.4rc1"
  }
 },
 "nbformat": 4,
 "nbformat_minor": 2
}
