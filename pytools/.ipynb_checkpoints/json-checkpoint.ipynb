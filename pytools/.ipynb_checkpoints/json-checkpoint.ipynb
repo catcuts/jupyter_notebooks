{
 "cells": [
  {
   "cell_type": "markdown",
   "metadata": {},
   "source": [
    "### Builtins"
   ]
  },
  {
   "cell_type": "code",
   "execution_count": 1,
   "metadata": {},
   "outputs": [],
   "source": [
    "import os\n",
    "import re\n",
    "import json\n",
    "import traceback"
   ]
  },
  {
   "cell_type": "markdown",
   "metadata": {},
   "source": [
    "### Common Libs"
   ]
  },
  {
   "cell_type": "code",
   "execution_count": 2,
   "metadata": {},
   "outputs": [],
   "source": [
    "def import_object(name):\n",
    "    \"\"\"\n",
    "    Imports an object by name.\n",
    "\n",
    "    import_object('x') is equivalent to 'import x'.\n",
    "    import_object('x.y.z') is equivalent to 'from x.y import z'.\n",
    "    \n",
    "    \"\"\"\n",
    "    if name.count('.') == 0:\n",
    "        return __import__(name, None, None)\n",
    "\n",
    "    parts = name.split('.')\n",
    "    obj = __import__('.'.join(parts[:-1]), None, None, [parts[-1]], 0)\n",
    "    try:\n",
    "        return getattr(obj, parts[-1])\n",
    "    except AttributeError:\n",
    "        raise ImportError(\"No module named %s\" % parts[-1])"
   ]
  },
  {
   "cell_type": "code",
   "execution_count": 3,
   "metadata": {},
   "outputs": [],
   "source": [
    "def get_real(value):\n",
    "    \n",
    "    value_str = str(value)\n",
    "    \n",
    "    if value_str == \"None\":\n",
    "        return None\n",
    "    \n",
    "    try:\n",
    "        return int(value_str)\n",
    "    except:\n",
    "        pass\n",
    "\n",
    "    try:\n",
    "        return float(value_str)\n",
    "    except:\n",
    "        pass\n",
    "\n",
    "    try:\n",
    "        if value_str.lower() == \"true\":\n",
    "            return True\n",
    "        elif value_str.lower() == \"false\":\n",
    "            return False\n",
    "    except:\n",
    "        pass\n",
    "\n",
    "    if value_str.startswith(\"'\") and value_str.endswith(\"'\"):\n",
    "        return value_str[1:-1]\n",
    "\n",
    "    return value"
   ]
  },
  {
   "cell_type": "code",
   "execution_count": 4,
   "metadata": {},
   "outputs": [],
   "source": [
    "def get_params(raw_params):\n",
    "    # raw_params = [\"1\", \"2.36\", \"x\", \"y\", \"a =1\", \"  b= '2'\", \"c=true  \", \"    d =  'z'        \", \"e=1.589\"]\n",
    "    # return:\n",
    "    # (args, kwargs)\n",
    "    # args = [1,2.36,\"x\",\"y\"]\n",
    "    # kwargs = {\"a\":1, \"b\": '2', \"c\": True, \"d\": 'z', \"e\": 1.589}\n",
    "    assert isinstance(raw_params, (list, tuple)), \"parameter `raw_params` shoule be a list or tuple\"\n",
    "    args, kwargs = [], {}\n",
    "    for raw_param in raw_params:\n",
    "        formated_raw_param = re.sub(r\"\\s*=\\s*\", \"=\", raw_param.strip())\n",
    "        kwarg_matched = re.search(r\"\\s*(.*)\\s*=\\s*(.*)\\s*\", formated_raw_param)\n",
    "        if kwarg_matched:\n",
    "            key, value = kwarg_matched.groups()\n",
    "            # value can be int, float, str, bool\n",
    "            kwargs[key] = get_real(value)\n",
    "        else:\n",
    "            args.append(get_real(raw_param))\n",
    "    return args, kwargs"
   ]
  },
  {
   "cell_type": "code",
   "execution_count": 5,
   "metadata": {},
   "outputs": [],
   "source": [
    "class JsonExtHook:\n",
    "\n",
    "    def __init__(self, ref_dir=None):\n",
    "        self.ref_dir = ref_dir or \"\"\n",
    "\n",
    "    def __call__(self, item):\n",
    "        for key, value in item.items():  # 如需计算, 不允许嵌套, 即 计算所需参数 就是静态值, 而不需要再计算\n",
    "            if not isinstance(value, str):\n",
    "                item[key] = value\n",
    "\n",
    "            elif value.startswith(\"\\\\\"):\n",
    "                value = re.sub(r\"^\\\\\", \"\", value).strip()\n",
    "\n",
    "            elif value.startswith(\"call:\"):\n",
    "                value = re.sub(r\"^call:\", \"\", value).strip()\n",
    "\n",
    "                need_compute = re.search(r\"([^()]*)\\((.*)\\)\", str(value))\n",
    "\n",
    "                if need_compute:\n",
    "                    func_module, raw_params = need_compute.groups()\n",
    "                    args, kwargs = get_params(raw_params.split(\",\"))\n",
    "                    try:\n",
    "                        func = import_object(func_module)\n",
    "                        value = func(*args, **kwargs)\n",
    "                    except Exception as E:\n",
    "                        print_error(\"Error while hooking <{k}:{v}>: {e}\\n\"\n",
    "                                    \"\\tthis item remains not hooked\".format(k=key, v=value, e=E))\n",
    "\n",
    "            elif value.startswith(\"file:\"):\n",
    "                file_path = re.sub(r\"^file:\", \"\", value).strip()\n",
    "                file_path = file_path if os.path.exists(file_path) else os.path.join(self.ref_dir, file_path)\n",
    "                try:\n",
    "                    with open(file_path, \"r\", encoding=\"utf-8\") as f:\n",
    "                        value = f.read()\n",
    "                except:\n",
    "                    pass\n",
    "\n",
    "            item[key] = value\n",
    "\n",
    "        return item"
   ]
  },
  {
   "cell_type": "markdown",
   "metadata": {},
   "source": [
    "### Read Json Without Comments"
   ]
  },
  {
   "cell_type": "code",
   "execution_count": 6,
   "metadata": {},
   "outputs": [],
   "source": [
    "def read_json(jsonfile, hook=False, encoding=\"utf-8\"):\n",
    "    \"\"\"\n",
    "        从文件中读取一个json文件\n",
    "        如果指定hook=True:\n",
    "            则当值为\"file:filename.txt\"时，能自动将filename.txt的值读入以代替原值\n",
    "            则当值为\"call:voerka.aaa.aaa(1,2,3)\"时，能自动导入该模块函数并执行，将执行结果读入以代替原值\n",
    "\n",
    "    \"\"\"\n",
    "    content = \"\"\n",
    "    try:\n",
    "        with open(jsonfile, \"r\") as fs:\n",
    "            object_hook = JsonExtHook(ref_dir=os.path.dirname(jsonfile)) if hook else None\n",
    "            content = json.loads(fs.read(), object_hook=object_hook, encoding=encoding)\n",
    "    except Exception as E:\n",
    "        raise Exception(\"Error while reading json from %s: %s\" % (jsonfile, E))\n",
    "\n",
    "    return content"
   ]
  },
  {
   "cell_type": "markdown",
   "metadata": {},
   "source": [
    "### Test: Read Json Without Comments"
   ]
  },
  {
   "cell_type": "code",
   "execution_count": 7,
   "metadata": {},
   "outputs": [],
   "source": [
    "JSON_FILE = \"test.json\"\n",
    "result = read_json(JSON_FILE,  hook=True)"
   ]
  },
  {
   "cell_type": "code",
   "execution_count": 8,
   "metadata": {},
   "outputs": [
    {
     "name": "stdout",
     "output_type": "stream",
     "text": [
      "result: {'b': 2, 'd': 'test.json', 'a': datetime.date(1999, 9, 11), 'e': None, 'c': 'true'}\n"
     ]
    }
   ],
   "source": [
    "print(\"result: %s\" % result)"
   ]
  },
  {
   "cell_type": "markdown",
   "metadata": {},
   "source": [
    "### Read Json With Comments"
   ]
  },
  {
   "cell_type": "code",
   "execution_count": 9,
   "metadata": {},
   "outputs": [],
   "source": [
    "def find_line_comment(line):\n",
    "    \"\"\"\n",
    "    find the comment within a line\n",
    "    :param line:\n",
    "    :return:\n",
    "    \"\"\"\n",
    "    splited_line = line.split(\"\\\\\\\\\")\n",
    "    quotation_count = 0\n",
    "    splited_line_len = len(splited_line)\n",
    "    if splited_line_len:\n",
    "        for index, element in enumerate(splited_line):\n",
    "            quotation_count += element.count('\"')\n",
    "            if quotation_count % 2 == 0:\n",
    "                return (\"\\\\\\\\\" + \"\\\\\\\\\".join(splited_line[(index+1):])) if index < splited_line_len - 1 else \"\"\n",
    "    return \"\"\n",
    "\n",
    "\n",
    "def read_json_with_comments(jsonfile, hook=False, encoding=\"utf-8\"):\n",
    "    \"\"\"\n",
    "    read a json file with comments and correctly return json\n",
    "    :param jsonfile:\n",
    "    :return:\n",
    "    \"\"\"\n",
    "    fc = \"\"\n",
    "    try:\n",
    "        with open(jsonfile, \"r\", encoding=encoding) as fs:\n",
    "            for line in fs.readlines():\n",
    "                new_line = line.replace(find_line_comment(line), \"\")\n",
    "                fc += \"\\n\" + new_line\n",
    "            object_hook = JsonExtHook(ref_dir=os.path.dirname(jsonfile)) if hook else None\n",
    "            if fc.startswith(u'\\ufeff'):\n",
    "                fc = fc.encode('utf8')[3:].decode('utf8')  # remove Unexpected UTF-8 BOM (decode using utf-8-sig)\n",
    "            content = json.loads(fc, object_hook=object_hook, encoding=encoding)\n",
    "            return content\n",
    "    except Exception as E:\n",
    "        raise Exception(\"Error while reading json from %s: %s\" % (jsonfile, E))"
   ]
  },
  {
   "cell_type": "markdown",
   "metadata": {},
   "source": [
    "### Test: Read Json With Comments"
   ]
  },
  {
   "cell_type": "code",
   "execution_count": 10,
   "metadata": {},
   "outputs": [
    {
     "name": "stdout",
     "output_type": "stream",
     "text": [
      "result: {\n",
      "    \"b\": \"1\",\n",
      "    \"a\": 0,\n",
      "    \"e\": \"\",\n",
      "    \"c\": \" \\\\\",\n",
      "    \"d\": \" http:\\\\\",\n",
      "    \"email\": \"http:\\\\admin@qq.com\"\n",
      "}\n",
      "\n"
     ]
    }
   ],
   "source": [
    "JSON_FILE_WITH_COMMENTS = \"test_Remove_Comments_in_JSON.json\"\n",
    "result = read_json_with_comments(JSON_FILE_WITH_COMMENTS, hook=True)\n",
    "print(\"result: %s\\n\" % json.dumps(result, indent=4))"
   ]
  },
  {
   "cell_type": "code",
   "execution_count": null,
   "metadata": {},
   "outputs": [],
   "source": []
  }
 ],
 "metadata": {
  "kernelspec": {
   "display_name": "Python 3",
   "language": "python",
   "name": "python3"
  },
  "language_info": {
   "codemirror_mode": {
    "name": "ipython",
    "version": 3
   },
   "file_extension": ".py",
   "mimetype": "text/x-python",
   "name": "python",
   "nbconvert_exporter": "python",
   "pygments_lexer": "ipython3",
   "version": "3.5.2"
  }
 },
 "nbformat": 4,
 "nbformat_minor": 2
}
