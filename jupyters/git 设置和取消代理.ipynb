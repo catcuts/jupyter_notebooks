{
 "cells": [
  {
   "cell_type": "markdown",
   "metadata": {},
   "source": [
    "\n",
    "　　设置\n",
    "\n",
    "```shell\n",
    "git config --global http.proxy 'socks5://127.0.0.1:1080'\n",
    "git config --global https.proxy 'socks5://127.0.0.1:1080'\n",
    "```\n",
    "\n",
    "　　确认\n",
    "  \n",
    "```shell\n",
    "git config -l\n",
    "```\n",
    "\n",
    "　　取消\n",
    "\n",
    "```shell\n",
    "git config --global --unset http.proxy\n",
    "git config --global --unset https.proxy\n",
    "```\n",
    "\n",
    "　　[参考](https://gist.github.com/laispace/666dd7b27e9116faece6)\n",
    "\n",
    "　　备忘：如果要在 win 上使用，记得将 shadowsocks 代理设置为 git 代理，或设置为全局代理。"
   ]
  },
  {
   "cell_type": "code",
   "execution_count": null,
   "metadata": {},
   "outputs": [],
   "source": []
  }
 ],
 "metadata": {
  "kernelspec": {
   "display_name": "Python 3",
   "language": "python",
   "name": "python3"
  },
  "language_info": {
   "codemirror_mode": {
    "name": "ipython",
    "version": 3
   },
   "file_extension": ".py",
   "mimetype": "text/x-python",
   "name": "python",
   "nbconvert_exporter": "python",
   "pygments_lexer": "ipython3",
   "version": "3.5.4rc1"
  }
 },
 "nbformat": 4,
 "nbformat_minor": 2
}
