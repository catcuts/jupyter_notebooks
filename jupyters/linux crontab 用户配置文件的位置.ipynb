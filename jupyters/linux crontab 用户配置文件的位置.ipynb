{
 "cells": [
  {
   "cell_type": "markdown",
   "metadata": {},
   "source": [
    "\n",
    ">[参考](https://askubuntu.com/questions/216692/where-is-the-user-crontab-stored)\n",
    "\n",
    "　　用户（如 `root`）对定时任务的配置，其文件放在：\n",
    "\n",
    "```shell\n",
    "/var/spool/cron/crontabs\n",
    "```\n",
    "\n",
    "　　当系统部署为只读的时候，可以将这个目录链接到读写的目录上。\n",
    "\n",
    "　　可以使用符号链接，或 `bind` 方式挂接。\n",
    "  \n",
    "　　实践是：\n",
    "\n",
    "1. 使用符号链接时，每次重启都要重新链接，所以可以加到系统启动项中：\n",
    "\n",
    "　　示例：\n",
    "\n",
    "```shell\n",
    "# in /etc/rc.local\n",
    "\n",
    "# ...\n",
    "\n",
    "ln -s /path/to/rw/dir /var/spool/cron/crontabs\n",
    "\n",
    "exit 0\n",
    "```\n",
    "\n",
    "2. 使用 `bind` 方式挂接时，似乎没有效果，挂是挂上去了（umount 能成功），但是没有用（`mount` 和 `df -h` 都没有显示该挂接）：\n",
    "\n",
    "　　示例：\n",
    "  \n",
    "```shell\n",
    "# in /etc/fstab\n",
    "\n",
    "# ...\n",
    "\n",
    "/dev/mmcblk0p3       /home/pi/hd              ext4 defaults,     0 1\n",
    "/home/pi/hd/crontabs /var/spool/cron/crontabs none defaults,bind 0 1\n",
    "\n",
    "```"
   ]
  },
  {
   "cell_type": "code",
   "execution_count": null,
   "metadata": {},
   "outputs": [],
   "source": []
  }
 ],
 "metadata": {
  "kernelspec": {
   "display_name": "Python 3",
   "language": "python",
   "name": "python3"
  },
  "language_info": {
   "codemirror_mode": {
    "name": "ipython",
    "version": 3
   },
   "file_extension": ".py",
   "mimetype": "text/x-python",
   "name": "python",
   "nbconvert_exporter": "python",
   "pygments_lexer": "ipython3",
   "version": "3.5.4rc1"
  }
 },
 "nbformat": 4,
 "nbformat_minor": 2
}
