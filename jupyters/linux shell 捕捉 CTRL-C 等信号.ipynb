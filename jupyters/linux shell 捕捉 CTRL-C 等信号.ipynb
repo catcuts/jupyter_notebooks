{
 "cells": [
  {
   "cell_type": "markdown",
   "metadata": {},
   "source": [
    "\n",
    "> [参考](https://stackpointer.io/script/how-to-catch-ctrl-c-in-shell-script/248/)\n",
    "\n",
    "　　[信号列表](../%5B%20NTE%20%5D%20Notebooks_fragment/linux%20signal%20信号列表.ipynb)\n",
    "\n",
    "　　示例：\n",
    "\n",
    "```shell\n",
    "#!/bin/sh\n",
    " \n",
    "# this function is called when Ctrl-C is sent\n",
    "function trap_ctrlc ()\n",
    "{\n",
    "    # perform cleanup here\n",
    "    echo \"Ctrl-C caught...performing clean up\"\n",
    " \n",
    "    echo \"Doing cleanup\"\n",
    " \n",
    "    # exit shell script with error code 2\n",
    "    # if omitted, shell script will continue execution\n",
    "    exit 2\n",
    "}\n",
    " \n",
    "# initialise trap to call trap_ctrlc function\n",
    "# when signal 2 (SIGINT) is received\n",
    "trap \"trap_ctrlc\" 2\n",
    " \n",
    "# your script goes here\n",
    "echo \"going to sleep\"\n",
    "sleep 1000\n",
    "echo \"end of sleep\"\n",
    "```"
   ]
  },
  {
   "cell_type": "code",
   "execution_count": null,
   "metadata": {},
   "outputs": [],
   "source": []
  }
 ],
 "metadata": {
  "kernelspec": {
   "display_name": "Python 3",
   "language": "python",
   "name": "python3"
  },
  "language_info": {
   "codemirror_mode": {
    "name": "ipython",
    "version": 3
   },
   "file_extension": ".py",
   "mimetype": "text/x-python",
   "name": "python",
   "nbconvert_exporter": "python",
   "pygments_lexer": "ipython3",
   "version": "3.5.4rc1"
  }
 },
 "nbformat": 4,
 "nbformat_minor": 2
}
