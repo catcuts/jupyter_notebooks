{
 "cells": [
  {
   "cell_type": "markdown",
   "metadata": {},
   "source": [
    "\n",
    "## 宏定义 #define 和常量 const 的区别\n",
    "- **类型和安全检查不同**\n",
    "\n",
    "宏定义是字符替换，没有数据类型的区别，同时这种替换没有类型安全检查，可能产生边际效应等错误；\n",
    "\n",
    "`const`常量是常量的声明，有类型区别，需要在编译阶段进行类型检查\n",
    "\n",
    "- **编译器处理不同**\n",
    "\n",
    "宏定义是一个\"编译时\"概念，在预处理阶段展开，不能对宏定义进行调试，生命周期结束与编译时期；\n",
    "\n",
    "`const`常量是一个\"运行时\"概念，在程序运行使用，类似于一个只读行数据\n",
    "\n",
    "- **存储方式不同**\n",
    "\n",
    "宏定义是直接替换，不会分配内存，存储与程序的代码段中；\n",
    "\n",
    "`const`常量需要进行内存分配，存储与程序的数据段中\n",
    "\n",
    "- **定义域不同**\n",
    "```c++\n",
    "void f1 ()\n",
    "{\n",
    "    #define N 12\n",
    "    const int n 12;\n",
    "}\n",
    "void f2 ()\n",
    "{\n",
    "    cout<<N <<endl; //正确，N已经定义过，不受定义域限制\n",
    "    cout<<n <<endl; //错误，n定义域只在f1函数中\n",
    "}\n",
    "```\n",
    "- **定义后能否取消**\n",
    "\n",
    "宏定义可以通过`#undef`来使之前的宏定义失效\n",
    "\n",
    "`const`常量定义后将在定义域内永久有效\n",
    "```c++\n",
    "void f1()\n",
    "{\n",
    "  #define N 12\n",
    "  const int n = 12;\n",
    "\n",
    "  #undef N //取消宏定义后，即使在f1函数中，N也无效了\n",
    "  #define N 21//取消后可以重新定义\n",
    "}\n",
    "```\n",
    "- **是否可以做函数参数**\n",
    "\n",
    "宏定义不能作为参数传递给函数\n",
    "\n",
    "`const`常量可以在函数的参数列表中出现\n",
    "\n"
   ]
  },
  {
   "cell_type": "code",
   "execution_count": null,
   "metadata": {},
   "outputs": [],
   "source": []
  }
 ],
 "metadata": {
  "kernelspec": {
   "display_name": "Python 3",
   "language": "python",
   "name": "python3"
  },
  "language_info": {
   "codemirror_mode": {
    "name": "ipython",
    "version": 3
   },
   "file_extension": ".py",
   "mimetype": "text/x-python",
   "name": "python",
   "nbconvert_exporter": "python",
   "pygments_lexer": "ipython3",
   "version": "3.5.4rc1"
  }
 },
 "nbformat": 4,
 "nbformat_minor": 2
}
