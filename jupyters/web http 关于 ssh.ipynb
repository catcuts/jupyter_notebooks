{
 "cells": [
  {
   "cell_type": "markdown",
   "metadata": {},
   "source": [
    "\n",
    "> [google-search](https://www.google.com/search?ei=kF5pW6HNIYmH0wKU0634Dg&q=express+request+ssh+%E5%8A%A0%E5%AF%86&oq=express+request+ssh+%E5%8A%A0%E5%AF%86&gs_l=psy-ab.3...23378.27605.0.27871.3.3.0.0.0.0.390.390.3-1.1.0....0...1c.1j4.64.psy-ab..2.0.0....0.AUInPigDoXs)\n",
    ">\n",
    "> [ruanyifeng-blog](http://www.ruanyifeng.com/blog/2011/12/ssh_remote_login.html)\n",
    ">\n",
    "> [ssh 使用指南](http://blog.51cto.com/pppcode/506597)\n",
    ">\n",
    "> [基于jsonwebtoken（JWT） 的web认证 (Node版实现)](https://segmentfault.com/a/1190000015255975)\n",
    ">\n",
    "> [HTTPS 的原理和 NodeJS 的实现](https://segmentfault.com/a/1190000002630688)\n",
    ">"
   ]
  },
  {
   "cell_type": "code",
   "execution_count": null,
   "metadata": {},
   "outputs": [],
   "source": []
  }
 ],
 "metadata": {
  "kernelspec": {
   "display_name": "Python 3",
   "language": "python",
   "name": "python3"
  },
  "language_info": {
   "codemirror_mode": {
    "name": "ipython",
    "version": 3
   },
   "file_extension": ".py",
   "mimetype": "text/x-python",
   "name": "python",
   "nbconvert_exporter": "python",
   "pygments_lexer": "ipython3",
   "version": "3.5.4rc1"
  }
 },
 "nbformat": 4,
 "nbformat_minor": 2
}
