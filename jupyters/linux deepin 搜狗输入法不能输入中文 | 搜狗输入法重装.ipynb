{
 "cells": [
  {
   "cell_type": "markdown",
   "metadata": {},
   "source": [
    "\n",
    "**系统：**\n",
    "\n",
    "Linux -- Deepin 15.5\n",
    "\n",
    "不知道为什么搜狗拼音开始无法切换中文，但是在极个别软件中是可以正常切换和输入中文的，比如有道词典。\n",
    "\n",
    "**解决方案：**\n",
    "```shell\n",
    "cd ~/.config\n",
    "```\n",
    "\n",
    "删除config中文搜狗拼音的配置文件\n",
    "```shell\n",
    "rm -r SogouPY SogouPY.users sogou-qimpanel\n",
    "```\n",
    "\n",
    "卸载 搜狗拼音\n",
    "```shell\n",
    "sudo apt-get remove sogoupinyin  或者 sudo apt-get remove sogoupinyin --purge\n",
    "```\n",
    "\n",
    "重新安装搜狗拼音\n",
    "```shell\n",
    "sudo dpkg -i (搜狗拼音XXX).deb\n",
    "```\n",
    "重启就行了。\n"
   ]
  },
  {
   "cell_type": "code",
   "execution_count": null,
   "metadata": {},
   "outputs": [],
   "source": []
  }
 ],
 "metadata": {
  "kernelspec": {
   "display_name": "Python 3",
   "language": "python",
   "name": "python3"
  },
  "language_info": {
   "codemirror_mode": {
    "name": "ipython",
    "version": 3
   },
   "file_extension": ".py",
   "mimetype": "text/x-python",
   "name": "python",
   "nbconvert_exporter": "python",
   "pygments_lexer": "ipython3",
   "version": "3.5.4rc1"
  }
 },
 "nbformat": 4,
 "nbformat_minor": 2
}
