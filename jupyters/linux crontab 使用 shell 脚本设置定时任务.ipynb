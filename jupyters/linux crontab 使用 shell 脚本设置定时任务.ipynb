{
 "cells": [
  {
   "cell_type": "markdown",
   "metadata": {},
   "source": [
    "\n",
    "> [参考](https://stackoverflow.com/questions/878600/how-to-create-a-cron-job-using-bash-automatically-without-the-interactive-editor)\n",
    "\n",
    "```shell\n",
    "# 把配置内容都导出到 mycron 临时文件\n",
    "crontab -l > mycron\n",
    "\n",
    "# 追加你的新任务\n",
    "echo \"00 09 * * 1-5 echo hello\" >> mycron\n",
    "\n",
    "# 应用新的配置\n",
    "crontab mycron\n",
    "\n",
    "# 移除临时文件\n",
    "rm mycron\n",
    "```\n"
   ]
  },
  {
   "cell_type": "code",
   "execution_count": null,
   "metadata": {},
   "outputs": [],
   "source": []
  }
 ],
 "metadata": {
  "kernelspec": {
   "display_name": "Python 3",
   "language": "python",
   "name": "python3"
  },
  "language_info": {
   "codemirror_mode": {
    "name": "ipython",
    "version": 3
   },
   "file_extension": ".py",
   "mimetype": "text/x-python",
   "name": "python",
   "nbconvert_exporter": "python",
   "pygments_lexer": "ipython3",
   "version": "3.5.4rc1"
  }
 },
 "nbformat": 4,
 "nbformat_minor": 2
}
