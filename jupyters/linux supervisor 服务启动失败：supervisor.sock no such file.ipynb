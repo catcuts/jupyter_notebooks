{
 "cells": [
  {
   "cell_type": "markdown",
   "metadata": {},
   "source": [
    "\n",
    "> [参考](https://github.com/Supervisor/supervisor/issues/480)\n",
    "\n",
    "　　supervisor 服务启动失败：\n",
    "```shell\n",
    "unix:///var/run/supervisor.sock no such file\n",
    "```\n",
    "\n",
    "　　解决方法：\n",
    "```shell\n",
    "sudo touch /var/run/supervisor.sock\n",
    "sudo chmod 777 /var/run/supervisor.sock\n",
    "sudo service supervisor restart  # 先直接这个，不行再全套\n",
    "```"
   ]
  },
  {
   "cell_type": "code",
   "execution_count": null,
   "metadata": {},
   "outputs": [],
   "source": []
  }
 ],
 "metadata": {
  "kernelspec": {
   "display_name": "Python 3",
   "language": "python",
   "name": "python3"
  },
  "language_info": {
   "codemirror_mode": {
    "name": "ipython",
    "version": 3
   },
   "file_extension": ".py",
   "mimetype": "text/x-python",
   "name": "python",
   "nbconvert_exporter": "python",
   "pygments_lexer": "ipython3",
   "version": "3.5.4rc1"
  }
 },
 "nbformat": 4,
 "nbformat_minor": 2
}
