{
 "cells": [
  {
   "cell_type": "markdown",
   "metadata": {},
   "source": [
    "\n",
    "> [参考](https://superuser.com/questions/332252/how-to-create-and-format-a-partition-using-a-bash-script)\n",
    "\n",
    "　　示例：\n",
    "\n",
    "```shell\n",
    "echo -e \"[ info ] 创建新分区 ...\"\n",
    "    (\n",
    "    echo p # show current partition table\n",
    "    echo n # Add a new partition\n",
    "    echo p # Primary partition\n",
    "    echo   # Partition number (Accept default: 3)\n",
    "    echo   # First sector (Accept default: 1)\n",
    "    echo   # Last sector (Accept default: varies)\n",
    "    echo w # Write changes\n",
    "    ) | sudo fdisk\n",
    "echo -e \"[ info ] 创建新分区 完毕 .\"\n",
    "```\n"
   ]
  },
  {
   "cell_type": "code",
   "execution_count": null,
   "metadata": {},
   "outputs": [],
   "source": []
  }
 ],
 "metadata": {
  "kernelspec": {
   "display_name": "Python 3",
   "language": "python",
   "name": "python3"
  },
  "language_info": {
   "codemirror_mode": {
    "name": "ipython",
    "version": 3
   },
   "file_extension": ".py",
   "mimetype": "text/x-python",
   "name": "python",
   "nbconvert_exporter": "python",
   "pygments_lexer": "ipython3",
   "version": "3.5.4rc1"
  }
 },
 "nbformat": 4,
 "nbformat_minor": 2
}
