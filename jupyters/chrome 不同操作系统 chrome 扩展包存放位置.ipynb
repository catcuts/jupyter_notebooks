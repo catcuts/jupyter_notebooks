{
 "cells": [
  {
   "cell_type": "markdown",
   "metadata": {},
   "source": [
    "\n",
    "> [from](https://stackoverflow.com/questions/14543896/where-does-chrome-store-extensions?utm_medium=organic&utm_source=google_rich_qa&utm_campaign=google_rich_qa)\n",
    "\n",
    "### Storage Location for Unpacked Extensions\n",
    "\n",
    "Extension engine does not explicitly change their location or add a reference to its local paths, they are left in the place where there are selected from in all **Operating Systems**.\n",
    "\n",
    "**Ex**: If i load a unpacked Extension from `E:\\Chrome Extension` the unpacked Extension is still in the same location\n",
    "\n",
    "### Storage Location for Packed Extensions\n",
    "\n",
    "Navigate to `chrome://version/` and look for **Profile Path**, it is your default directory and Extensions Folder is where all the **`extensions`, `apps`, `themes`** are stored\n",
    "\n",
    "**Ex:**\n",
    "\n",
    "### Windows\n",
    "\n",
    "If my **Profile Path** is `%userprofile%\\AppData\\Local\\Google\\Chrome\\User Data\\Default` then my storage directory is:\n",
    "\n",
    "`C:\\Users\\<Your_User_Name>\\AppData\\Local\\Google\\Chrome\\User Data\\Default\\Extensions` \n",
    "\n",
    "### Linux\n",
    "\n",
    "`~/.config/google-chrome/Default/Extensions/`\n",
    "\n",
    "### MacOS\n",
    "\n",
    "`~/Library/Application\\ Support/Google/Chrome/Default/Extensions`\n",
    "\n",
    "### Chromium\n",
    "\n",
    "`~/.config/chromium/Default/Extensions`\n"
   ]
  },
  {
   "cell_type": "code",
   "execution_count": null,
   "metadata": {},
   "outputs": [],
   "source": []
  }
 ],
 "metadata": {
  "kernelspec": {
   "display_name": "Python 3",
   "language": "python",
   "name": "python3"
  },
  "language_info": {
   "codemirror_mode": {
    "name": "ipython",
    "version": 3
   },
   "file_extension": ".py",
   "mimetype": "text/x-python",
   "name": "python",
   "nbconvert_exporter": "python",
   "pygments_lexer": "ipython3",
   "version": "3.5.4rc1"
  }
 },
 "nbformat": 4,
 "nbformat_minor": 2
}
