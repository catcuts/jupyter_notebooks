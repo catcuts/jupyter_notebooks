{
 "cells": [
  {
   "cell_type": "markdown",
   "metadata": {},
   "source": [
    ">参考：[linux 终端设置代理访问](http://aiezu.com/article/linux_bash_set_proxy.html)\n",
    "\n",
    "举例：\n",
    "\n",
    "　　现在我们要设置http、https网站都使用socks5代理10.0.0.52:1080，下面为完整设置方法：\n",
    "\n",
    "1、vim ~/.bashrc，在文件尾部添加下面内容：\n",
    "```shell\n",
    "export http_proxy=socks5://10.0.0.52:1080\n",
    "export https_proxy=socks5://10.0.0.52:1080\n",
    "export no_proxy=\"<你的代理服务器地址，避免循环代理>,10.*.*.*,192.168.*.*,*.local,localhost,127.0.0.1\"\n",
    "```\n",
    "\n",
    "2、加载设置:\n",
    "```shell\n",
    "[root@aiezu.com ~]# . ~/.bashrc\n",
    "[root@aiezu.com ~]# echo $http_proxy\n",
    "socks5://10.0.0.52:1080\n",
    "[root@aiezu.com ~]# echo $https_proxy\n",
    "socks5://10.0.0.52:1080\n",
    "```\n",
    "\n",
    "3、测试代理：\n",
    "```shell\n",
    "[root@aiezu.com ~]# curl -I http://www.google.com\n",
    "HTTP/1.1 200 OK\n",
    "Content-Length: 2423\n",
    "Content-Type: text/html\n",
    "Last-Modified: Mon, 14 Nov 2016 22:03:32 GMT\n",
    "Accept-Ranges: bytes\n",
    "ETag: \"0521af0c23ed21:0\"\n",
    "Server: Microsoft-IIS/7.5\n",
    "X-Powered-By: ASP.NET\n",
    "Date: Sun, 11 Dec 2016 13:21:33 GMT\n",
    "```"
   ]
  },
  {
   "cell_type": "code",
   "execution_count": null,
   "metadata": {},
   "outputs": [],
   "source": []
  }
 ],
 "metadata": {
  "kernelspec": {
   "display_name": "Python 3",
   "language": "python",
   "name": "python3"
  },
  "language_info": {
   "codemirror_mode": {
    "name": "ipython",
    "version": 3
   },
   "file_extension": ".py",
   "mimetype": "text/x-python",
   "name": "python",
   "nbconvert_exporter": "python",
   "pygments_lexer": "ipython3",
   "version": "3.5.4rc1"
  }
 },
 "nbformat": 4,
 "nbformat_minor": 2
}
