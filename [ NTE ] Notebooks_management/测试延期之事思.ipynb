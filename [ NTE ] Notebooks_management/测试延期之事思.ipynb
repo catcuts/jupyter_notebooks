{
 "cells": [
  {
   "cell_type": "markdown",
   "metadata": {},
   "source": [
    "\n",
    "　　记住：对依赖敏感，尽量破除依赖，不要得过且过。\n",
    "\n",
    "　　事情这样的：\n",
    "\n",
    "　　我部署了一个树莓派的只读系统，需要反复断电测试。\n",
    "  \n",
    "　　交给了测试，测试说，需要一个定时设备，但是找不到了，需要买一个，所以要等。\n",
    "  \n",
    "　　我比较老好人，等就等吧，反正也不急。\n",
    "\n",
    "　　无意中，形成了我对测试，测试对工具的依赖。\n",
    "  \n",
    "　　但是我没有细想，我对测试的依赖是可以破除的。\n",
    "  \n",
    "　　那就是，为什么不问问能不能手动，而非得用设备呢？——这就是一种破除依赖的尝试。\n",
    "  \n",
    "　　这样的尝试，结果并不重要，重要的是，我们的工作态度应该是：对依赖敏感，尽量破除依赖，而不是得过且过。\n",
    "  \n",
    "　　最后，还是因为有客户急着部署这样的只读系统，才驱动我去问测试人员关于这件测试能否提前推进。\n",
    "  \n",
    "　　测试人员很敬业，主动要求说可以手动测试，而不用自动测试。\n",
    "  \n",
    "　　这样很好，我所需要的测试能立即进行，不用等了。事实也证明，测试部给了我 300 次的断电测试数据，帮助巨大。\n",
    "  \n",
    "　　事情虽然就这么完了，但对我的工作态度则是一种启发。"
   ]
  },
  {
   "cell_type": "code",
   "execution_count": null,
   "metadata": {},
   "outputs": [],
   "source": []
  }
 ],
 "metadata": {
  "kernelspec": {
   "display_name": "Python 3",
   "language": "python",
   "name": "python3"
  },
  "language_info": {
   "codemirror_mode": {
    "name": "ipython",
    "version": 3
   },
   "file_extension": ".py",
   "mimetype": "text/x-python",
   "name": "python",
   "nbconvert_exporter": "python",
   "pygments_lexer": "ipython3",
   "version": "3.5.4rc1"
  }
 },
 "nbformat": 4,
 "nbformat_minor": 2
}
