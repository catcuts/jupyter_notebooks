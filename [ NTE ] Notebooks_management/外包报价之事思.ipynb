{
 "cells": [
  {
   "cell_type": "markdown",
   "metadata": {},
   "source": [
    "\n",
    "　　**一种外包报价思路是：**\n",
    "  \n",
    "- 不要论目前我们完成了多少，而是先当一切都外包，报一轮价之后，再根据我们的完成度和对方的接受度，进行第二轮报价（或者说讨价还价吧）。\n",
    "  \n",
    "　　**原因：**\n",
    "  \n",
    "1. 没人喜欢在别人的基础上开始搞，特别是开发，除非我们已完成的是相当完美的（或者说拿得出手的，而不是大部分都是半成品，或者代码质量不高）\n",
    "\n",
    "2. 既然大部分人都对此有排斥心理，那么谁还会喜欢与你合作呢？外包说到底还是一个双向选择的过程。\n",
    "\n",
    "3. 这就是为什么需要两轮报价，第一轮评估从零开始开发的报价，第二轮再根据实际情况讨论和修正。这样对双方都是公平的。\n",
    "\n",
    "　　**不过注意：**\n",
    "\n",
    "- 第一轮报价也是要讨价还价的，因为对方可能知道我们还有第二轮报价，往往会提高首轮报价，余留被砍价的空间。"
   ]
  },
  {
   "cell_type": "code",
   "execution_count": null,
   "metadata": {},
   "outputs": [],
   "source": []
  }
 ],
 "metadata": {
  "kernelspec": {
   "display_name": "Python 3",
   "language": "python",
   "name": "python3"
  },
  "language_info": {
   "codemirror_mode": {
    "name": "ipython",
    "version": 3
   },
   "file_extension": ".py",
   "mimetype": "text/x-python",
   "name": "python",
   "nbconvert_exporter": "python",
   "pygments_lexer": "ipython3",
   "version": "3.5.4rc1"
  }
 },
 "nbformat": 4,
 "nbformat_minor": 2
}
