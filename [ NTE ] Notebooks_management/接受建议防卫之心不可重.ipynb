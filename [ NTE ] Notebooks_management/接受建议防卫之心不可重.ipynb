{
 "cells": [
  {
   "cell_type": "markdown",
   "metadata": {},
   "source": [
    "\n",
    "　　很多人（`Z`工、`D`工、`W`工等）向我提建议时——特别是开发上的建议时，我内心的第一反应总是抗拒。\n",
    "  \n",
    "　　虽然在我的理智压抑下，很少表现出来，或者表现为冷静的接受或交流，但很明显，这不健康。\n",
    "\n",
    "　　我能想到的是，当看到有人朝我走过来时，我就应该提醒自己：嘿，谦虚点，放下戒备，给你送 idea 的来啦。"
   ]
  },
  {
   "cell_type": "code",
   "execution_count": null,
   "metadata": {},
   "outputs": [],
   "source": []
  }
 ],
 "metadata": {
  "kernelspec": {
   "display_name": "Python 3",
   "language": "python",
   "name": "python3"
  },
  "language_info": {
   "codemirror_mode": {
    "name": "ipython",
    "version": 3
   },
   "file_extension": ".py",
   "mimetype": "text/x-python",
   "name": "python",
   "nbconvert_exporter": "python",
   "pygments_lexer": "ipython3",
   "version": "3.5.4rc1"
  }
 },
 "nbformat": 4,
 "nbformat_minor": 2
}
