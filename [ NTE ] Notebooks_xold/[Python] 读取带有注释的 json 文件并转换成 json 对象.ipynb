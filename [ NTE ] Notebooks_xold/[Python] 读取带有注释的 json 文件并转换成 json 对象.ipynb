{
 "cells": [
  {
   "cell_type": "markdown",
   "metadata": {},
   "source": [
    "### 读取带有注释的 json 文件并转换成 json 对象"
   ]
  },
  {
   "cell_type": "markdown",
   "metadata": {},
   "source": [
    "标准 JSON 是不支持注释的。  \n",
    "也就是说，如果 json 文件内容包含注释，json.loads 会解释失败并报错。"
   ]
  },
  {
   "cell_type": "code",
   "execution_count": 1,
   "metadata": {},
   "outputs": [
    {
     "name": "stdout",
     "output_type": "stream",
     "text": [
      "file content with comments:\n",
      "\n",
      "  \\\\ test_Remove_Comments_in_JSON.json\n",
      "{ \\\\ start !\n",
      "    \"a\": 0, \\\\ \"first\" comment\n",
      "    \"b\": \"1\",\n",
      "    \"c\": \" \\\\\", \\\\ \"third\" comment\n",
      "    \"d\": \" http:\\\\\",\n",
      "    \"e\": \"\\\\\" \\\\ \"ws:\\\\xx\"\n",
      "}\n",
      "\n"
     ]
    }
   ],
   "source": [
    "# 假设这是文件内容\n",
    "file_content = \"\"\"\n",
    "  \\\\\\\\ test_Remove_Comments_in_JSON.json\n",
    "{ \\\\\\\\ start !\n",
    "    \"a\": 0, \\\\\\\\ \"first\" comment\n",
    "    \"b\": \"1\",\n",
    "    \"c\": \" \\\\\\\\\", \\\\\\\\ \"third\" comment\n",
    "    \"d\": \" http:\\\\\\\\\",\n",
    "    \"e\": \"\\\\\\\\\" \\\\\\\\ \"ws:\\\\\\\\xx\"\n",
    "}\n",
    "\"\"\"  \n",
    "print(\"file content with comments:\\n%s\" % file_content)"
   ]
  },
  {
   "cell_type": "code",
   "execution_count": 2,
   "metadata": {},
   "outputs": [
    {
     "name": "stdout",
     "output_type": "stream",
     "text": [
      "Traceback (most recent call last):\n",
      "  File \"<ipython-input-2-60ef3c7a449f>\", line 4, in <module>\n",
      "    json_obj = json.loads(file_content)\n",
      "  File \"d:\\programs\\python\\python35\\lib\\json\\__init__.py\", line 319, in loads\n",
      "    return _default_decoder.decode(s)\n",
      "  File \"d:\\programs\\python\\python35\\lib\\json\\decoder.py\", line 339, in decode\n",
      "    obj, end = self.raw_decode(s, idx=_w(s, 0).end())\n",
      "  File \"d:\\programs\\python\\python35\\lib\\json\\decoder.py\", line 357, in raw_decode\n",
      "    raise JSONDecodeError(\"Expecting value\", s, err.value) from None\n",
      "json.decoder.JSONDecodeError: Expecting value: line 2 column 3 (char 3)\n",
      "\n"
     ]
    }
   ],
   "source": [
    "import json\n",
    "import traceback\n",
    "try:\n",
    "    json_obj = json.loads(file_content)\n",
    "except:\n",
    "    print(traceback.format_exc())"
   ]
  },
  {
   "cell_type": "markdown",
   "metadata": {},
   "source": [
    "通过观察，可以发现：  \n",
    "对于每一行，以双反斜杠作为注释符时，一对双反斜杠之前有偶数个双引号 是 该对双反斜杠之后的文本为注释 的充要条件。  \n",
    "也就是说：  \n",
    "对于每一行：一对双反斜杠之前有偶数个双引号 ↔ 该对双反斜杠之后的文本为注释 。  "
   ]
  },
  {
   "cell_type": "markdown",
   "metadata": {},
   "source": [
    "下面根据此原理实现一个函数，找出一行文本中的注释部分。  \n",
    "得到一行的注释部分，就可以将其替换为空，从而达到消除注释的目的。"
   ]
  },
  {
   "cell_type": "code",
   "execution_count": 3,
   "metadata": {},
   "outputs": [],
   "source": [
    "def find_line_comment(line):\n",
    "    \"\"\"\n",
    "    find the comment within a line\n",
    "    :param line:\n",
    "    :return:\n",
    "    \"\"\"\n",
    "    splited_line = line.split(\"\\\\\\\\\")\n",
    "    quotation_count = 0\n",
    "    splited_line_len = len(splited_line)\n",
    "    \n",
    "    if splited_line_len:\n",
    "        for index, element in enumerate(splited_line):\n",
    "            quotation_count += element.count('\"')\n",
    "            if quotation_count % 2 == 0:\n",
    "                return (\"\\\\\\\\\" + \"\\\\\\\\\".join(splited_line[(index+1):])) if index < splited_line_len - 1 else \"\"\n",
    "    return \"\""
   ]
  },
  {
   "cell_type": "markdown",
   "metadata": {},
   "source": [
    "测试："
   ]
  },
  {
   "cell_type": "code",
   "execution_count": 4,
   "metadata": {},
   "outputs": [
    {
     "name": "stdout",
     "output_type": "stream",
     "text": [
      "line comment found: \\\\ test_Remove_Comments_in_JSON.json\n",
      "line comment found: \\\\ start !\n",
      "line comment found: \\\\ \"first\" comment\n",
      "line comment found: \\\\ \"third\" comment\n",
      "line comment found: \\\\ \"ws:\\\\xx\"\n",
      "new_file_content: \n",
      "  \n",
      "{ \n",
      "    \"a\": 0, \n",
      "    \"b\": \"1\",\n",
      "    \"c\": \" \\\\\", \n",
      "    \"d\": \" http:\\\\\",\n",
      "    \"e\": \"\\\\\" \n",
      "}\n",
      "\n"
     ]
    }
   ],
   "source": [
    "file_content_lines = file_content.split(\"\\n\")  # 实际应用时，file_content 来自 open(file_path, \"r\") as f: f.readlines()\n",
    "new_file_content_lines = []\n",
    "for line in file_content_lines:\n",
    "    line_comment = find_line_comment(line)\n",
    "    if line_comment: print(\"line comment found: %s\" % line_comment)\n",
    "    new_line = line.replace(line_comment, \"\")\n",
    "    new_file_content_lines.append(new_line)\n",
    "new_file_content = \"\\n\".join(new_file_content_lines)\n",
    "print(\"new_file_content: %s\" % new_file_content)"
   ]
  },
  {
   "cell_type": "markdown",
   "metadata": {},
   "source": [
    "消除注释后，转换成 json 对象："
   ]
  },
  {
   "cell_type": "code",
   "execution_count": 5,
   "metadata": {},
   "outputs": [
    {
     "name": "stdout",
     "output_type": "stream",
     "text": [
      "json_obj:\n",
      "{\n",
      "    \"d\": \" http:\\\\\",\n",
      "    \"c\": \" \\\\\",\n",
      "    \"e\": \"\\\\\",\n",
      "    \"b\": \"1\",\n",
      "    \"a\": 0\n",
      "}\n"
     ]
    }
   ],
   "source": [
    "json_obj = json.loads(new_file_content)\n",
    "print(\"json_obj:\\n%s\" % json.dumps(json_obj, indent=4))"
   ]
  },
  {
   "cell_type": "markdown",
   "metadata": {},
   "source": [
    "成功 ~"
   ]
  }
 ],
 "metadata": {
  "kernelspec": {
   "display_name": "Python 3",
   "language": "python",
   "name": "python3"
  },
  "language_info": {
   "codemirror_mode": {
    "name": "ipython",
    "version": 3
   },
   "file_extension": ".py",
   "mimetype": "text/x-python",
   "name": "python",
   "nbconvert_exporter": "python",
   "pygments_lexer": "ipython3",
   "version": "3.5.2"
  }
 },
 "nbformat": 4,
 "nbformat_minor": 2
}
