{
 "cells": [
  {
   "cell_type": "markdown",
   "metadata": {},
   "source": [
    "The researchers’ argument <span style='color: #dd4b39;font-weight: bold;'>/</span> stems from <span style='color: #dd4b39;font-weight: bold;'>/</span> a simple observation <span style='color: #dd4b39;font-weight: bold;'>/</span> about social influence: \n",
    ">研究者的争论 <span style='color: #dd4b39;font-weight: bold;'>/</span> 源自 <span style='color: #dd4b39;font-weight: bold;'>/</span> 一项简单的观察 （什么样的观察？后面是定语从句 <span style='color: #dd4b39;font-weight: bold;'>/</span> 关于社会影响力的  \n",
    ">主语 <span style='color: #dd4b39;font-weight: bold;'>/</span> 谓语 <span style='color: #dd4b39;font-weight: bold;'>/</span> 宾语 <span style='color: #dd4b39;font-weight: bold;'>/</span> 定语\n",
    "\n",
    "With the exception of a few celebrities <span style='color: #dd4b39;font-weight: bold;'>/</span> like Oprah Winfrey /—whose outsize presence is primarily a function of media, not interpersonal, influence—/ even the most influential members of a population simply don’t interact with that many others.\n",
    "\n",
    ">除了少数名人（这里充当状语，With the exception of 除了的意思；a few 少数；celebrities 是 celebrity 的复数，名人）  \n",
    ">like 就是比如，比如 Oprah Winfrey （这就是 a few of celebrities 的补语）  \n",
    ">后面破折号解释 Oprah Winfrey 是怎样的人，由 whose 引出关于这个人的定语从句（所谓定语，可以认为是形容一个东西，包括人，的短语），直到破折号结束  \n",
    ">\n",
    ">Oprah Winfrey 是一个怎样的人呢？  \n",
    ">——whose outsize presence is primarily a function of media, not interpersonal, influence——  \n",
    ">她的外在表现主要与媒体有关，而非人际关系、或者个人影响力。  \n",
    ">（这里主要是为了解释为什么她是一个例外，即前面所说的“除了”）  \n",
    ">\n",
    ">到这里：状语 <span style='color: #dd4b39;font-weight: bold;'>/</span> 状语的补语 <span style='color: #dd4b39;font-weight: bold;'>/</span> （破折号）补语的定语（破折号）\n",
    ">\n",
    ">那么除了少数名人之外，怎么样呢？  \n",
    ">这就是解释完例外后的句子：  \n",
    ">even <span style='color: #dd4b39;font-weight: bold;'>/</span> the most influential members of a population <span style='color: #dd4b39;font-weight: bold;'>/</span> simply <span style='color: #dd4b39;font-weight: bold;'>/</span> don’t interact with <span style='color: #dd4b39;font-weight: bold;'>/</span> that many others.  \n",
    "即使是一个群体当中最有影响力的人，也根本没办法(simply don't)与那么多人进行交流协同。\n",
    ">\n",
    ">even（与状语的词组的搭配成分） <span style='color: #dd4b39;font-weight: bold;'>/</span> 主语 <span style='color: #dd4b39;font-weight: bold;'>/</span> 状语 <span style='color: #dd4b39;font-weight: bold;'>/</span> （表示否定的）谓语 <span style='color: #dd4b39;font-weight: bold;'>/</span> 宾语"
   ]
  },
  {
   "cell_type": "code",
   "execution_count": null,
   "metadata": {},
   "outputs": [],
   "source": []
  }
 ],
 "metadata": {
  "kernelspec": {
   "display_name": "Python 3",
   "language": "python",
   "name": "python3"
  },
  "language_info": {
   "codemirror_mode": {
    "name": "ipython",
    "version": 3
   },
   "file_extension": ".py",
   "mimetype": "text/x-python",
   "name": "python",
   "nbconvert_exporter": "python",
   "pygments_lexer": "ipython3",
   "version": "3.5.4rc1"
  }
 },
 "nbformat": 4,
 "nbformat_minor": 2
}
